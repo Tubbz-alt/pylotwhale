{
 "cells": [
  {
   "cell_type": "markdown",
   "metadata": {},
   "source": [
    "# Train classifier for detecting chirps of bat B\n",
    "\n",
    "\n",
    "Import modules"
   ]
  },
  {
   "cell_type": "code",
   "execution_count": 3,
   "metadata": {},
   "outputs": [],
   "source": [
    "from __future__ import print_function, division\n",
    "import sys\n",
    "import os\n",
    "from collections import Counter\n",
    "import numpy as np\n",
    "import matplotlib.pyplot as plt\n",
    "import pandas as pd\n",
    "import seaborn as sns\n",
    "import librosa as lb # signal processing\n",
    "## machine learning tools\n",
    "from sklearn.pipeline import Pipeline\n",
    "from sklearn.model_selection import GridSearchCV, train_test_split #cross_val_score\n",
    "#import sklearn.base as skb\n",
    "import sklearn.metrics as mt\n",
    "%matplotlib inline  \n",
    "\n",
    "import pylotwhale.MLwhales.featureExtraction as fex\n",
    "import pylotwhale.MLwhales.MLtools_beta as myML\n",
    "import pylotwhale.utils.plotTools as pT\n",
    "import pylotwhale.MLwhales.predictionTools as pdT\n",
    "\n",
    "from pylotwhale.MLwhales.clf_pool import svc_l, svc_rbf, random_forest # as clf_settings"
   ]
  },
  {
   "cell_type": "code",
   "execution_count": null,
   "metadata": {},
   "outputs": [],
   "source": [
    "sns.set_context('paper', font_scale=2) # plotting settings"
   ]
  },
  {
   "cell_type": "markdown",
   "metadata": {},
   "source": [
    "## Set paths\n"
   ]
  },
  {
   "cell_type": "code",
   "execution_count": 4,
   "metadata": {},
   "outputs": [],
   "source": [
    "flacDir = './data/bats/'  # directory of audio files\n",
    "recl = 'recording'  # \n",
    "oFigDir = './data/bats/' # output path\n",
    "\n",
    "clf_id_str = 'Bat_B' # bat we want to train a model on"
   ]
  },
  {
   "cell_type": "markdown",
   "metadata": {},
   "source": [
    "## Load annotations"
   ]
  },
  {
   "cell_type": "code",
   "execution_count": 29,
   "metadata": {},
   "outputs": [
    {
     "name": "stdout",
     "output_type": "stream",
     "text": [
      "63\n",
      "# Annotations 63\n",
      "by class Counter({'Bat_B': 45, 'background': 12, 'Bat_A': 4, 'Bat_C': 2})\n",
      "by recording Counter({'HFr2_US6_20170117_183200.flac': 46, 'HFr2_US6_20170117_182200.flac': 17})\n"
     ]
    },
    {
     "data": {
      "text/html": [
       "<div>\n",
       "<style scoped>\n",
       "    .dataframe tbody tr th:only-of-type {\n",
       "        vertical-align: middle;\n",
       "    }\n",
       "\n",
       "    .dataframe tbody tr th {\n",
       "        vertical-align: top;\n",
       "    }\n",
       "\n",
       "    .dataframe thead th {\n",
       "        text-align: right;\n",
       "    }\n",
       "</style>\n",
       "<table border=\"1\" class=\"dataframe\">\n",
       "  <thead>\n",
       "    <tr style=\"text-align: right;\">\n",
       "      <th></th>\n",
       "      <th>recording</th>\n",
       "      <th>tmin</th>\n",
       "      <th>tmax</th>\n",
       "      <th>type</th>\n",
       "    </tr>\n",
       "  </thead>\n",
       "  <tbody>\n",
       "    <tr>\n",
       "      <th>0</th>\n",
       "      <td>HFr2_US6_20170117_182200.flac</td>\n",
       "      <td>123.2</td>\n",
       "      <td>125.5</td>\n",
       "      <td>Bat_A</td>\n",
       "    </tr>\n",
       "    <tr>\n",
       "      <th>1</th>\n",
       "      <td>HFr2_US6_20170117_182200.flac</td>\n",
       "      <td>56.0</td>\n",
       "      <td>58.0</td>\n",
       "      <td>background</td>\n",
       "    </tr>\n",
       "    <tr>\n",
       "      <th>2</th>\n",
       "      <td>HFr2_US6_20170117_182200.flac</td>\n",
       "      <td>10.0</td>\n",
       "      <td>11.0</td>\n",
       "      <td>background</td>\n",
       "    </tr>\n",
       "    <tr>\n",
       "      <th>3</th>\n",
       "      <td>HFr2_US6_20170117_182200.flac</td>\n",
       "      <td>374.0</td>\n",
       "      <td>376.0</td>\n",
       "      <td>background</td>\n",
       "    </tr>\n",
       "    <tr>\n",
       "      <th>4</th>\n",
       "      <td>HFr2_US6_20170117_182200.flac</td>\n",
       "      <td>6.0</td>\n",
       "      <td>7.0</td>\n",
       "      <td>Bat_A</td>\n",
       "    </tr>\n",
       "  </tbody>\n",
       "</table>\n",
       "</div>"
      ],
      "text/plain": [
       "                       recording   tmin   tmax        type\n",
       "0  HFr2_US6_20170117_182200.flac  123.2  125.5       Bat_A\n",
       "1  HFr2_US6_20170117_182200.flac   56.0   58.0  background\n",
       "2  HFr2_US6_20170117_182200.flac   10.0   11.0  background\n",
       "3  HFr2_US6_20170117_182200.flac  374.0  376.0  background\n",
       "4  HFr2_US6_20170117_182200.flac    6.0    7.0       Bat_A"
      ]
     },
     "execution_count": 29,
     "metadata": {},
     "output_type": "execute_result"
    }
   ],
   "source": [
    "inF =  './data/bats/bat_annotations.csv'\n",
    "df = pd.read_csv(inF)\n",
    "\n",
    "print(len(df))\n",
    "print(\"# Annotations {}\\nby class {}\\nby recording {}\".format(len(df), \n",
    "                                                              Counter(df['type']),\n",
    "                                                              Counter(df['recording'])))\n",
    "\n",
    "\n",
    "df.head()"
   ]
  },
  {
   "cell_type": "markdown",
   "metadata": {},
   "source": [
    "### Visualise the spectrogram of one sample\n",
    "\n",
    "load the i-th waveform"
   ]
  },
  {
   "cell_type": "code",
   "execution_count": 13,
   "metadata": {},
   "outputs": [
    {
     "name": "stdout",
     "output_type": "stream",
     "text": [
      "Bat_B\n",
      "306.22 306.255 HFr2_US6_20170117_182200.flac\n"
     ]
    }
   ],
   "source": [
    "i = 14\n",
    "thisRec = df.iloc[i].to_dict()\n",
    "print(thisRec['type'])\n",
    "\n",
    "w_buffer = 0.25 # load 0.25 s around the sound of interest for visualisation\n",
    "## load\n",
    "yi, sr = lb.core.load(os.path.join(flacDir, thisRec[recl]), offset=thisRec['tmin']-w_buffer,\n",
    "                     sr=None, duration = thisRec['tmax'] - thisRec['tmin'] + 2*w_buffer)\n",
    "\n",
    "print(thisRec['tmin'], thisRec['tmax'], thisRec[recl])"
   ]
  },
  {
   "cell_type": "markdown",
   "metadata": {},
   "source": [
    "plot spectrogram"
   ]
  },
  {
   "cell_type": "code",
   "execution_count": 14,
   "metadata": {},
   "outputs": [
    {
     "data": {
      "text/plain": [
       "'./data/bats/14_Bat_B.png'"
      ]
     },
     "execution_count": 14,
     "metadata": {},
     "output_type": "execute_result"
    },
    {
     "data": {
      "image/png": "[encoded data removed]",
      "text/plain": [
       "<Figure size 144x288 with 1 Axes>"
      ]
     },
     "metadata": {},
     "output_type": "display_data"
    }
   ],
   "source": [
    "fig, ax = plt.subplots(figsize=(2,4))\n",
    "\n",
    "fig, ax = pT.plspectro(yi, sr, spec_fac=1, ax=ax, xl='time (s)', yl='frequency (kHz)', cmN='viridis', fig=fig)\n",
    "\n",
    "ax.text(0, 85, '{}'.format(thisRec['type']), style='italic', fontsize=20,\n",
    "        bbox={'facecolor':'white', 'alpha':0.75, 'pad':5})\n",
    "\n",
    "oFig = os.path.join(oFigDir, '{}_{}.png'.format(i, thisRec['type']))\n",
    "#fig.savefig(oFig, bbox_inches='tight')\n",
    "oFig"
   ]
  },
  {
   "cell_type": "markdown",
   "metadata": {},
   "source": [
    "#### Choose size of the decision window"
   ]
  },
  {
   "cell_type": "code",
   "execution_count": 15,
   "metadata": {},
   "outputs": [
    {
     "name": "stdout",
     "output_type": "stream",
     "text": [
      "One instance has ca. 6720 points => 0.04 s\n",
      "FFT ws: 512 0.0027 s\n",
      "summ ws: 5\n",
      "Decision window: 0.013 s\n"
     ]
    }
   ],
   "source": [
    "yi, sr = lb.core.load(os.path.join(flacDir, thisRec[recl]), offset=thisRec['tmin'],\n",
    "                     sr=None, duration = thisRec['tmax'] - thisRec['tmin'])\n",
    "\n",
    "\n",
    "fft_ws = 512\n",
    "sum_ws = 5\n",
    "print(\"One instance has ca. {} points => {:.2f} s\".format(len(yi), len(yi)/sr))\n",
    "      \n",
    "print(\"FFT ws: {} {:.2} s\\nsumm ws: {}\\nDecision window: {:.2} s\".format(fft_ws, fft_ws/sr,\n",
    "                                                                           sum_ws, sum_ws*fft_ws/sr))"
   ]
  },
  {
   "cell_type": "markdown",
   "metadata": {},
   "source": [
    "## Feature extraction settings\n",
    "\n",
    "Create pipeline for the feature extraction settings\n",
    "\n",
    "**y** settings"
   ]
  },
  {
   "cell_type": "code",
   "execution_count": 16,
   "metadata": {},
   "outputs": [
    {
     "name": "stdout",
     "output_type": "stream",
     "text": [
      "All classes: ['Bat_A', 'Bat_C', 'Bat_B', 'background']\n",
      "Classes we train on: ['Bat_B' 'background']\n"
     ]
    }
   ],
   "source": [
    "labels = list(set(df['type']))\n",
    "print(\"All classes:\", labels)\n",
    "\n",
    "classes = ['background'] + clf_id_str.split('-')\n",
    "lt = myML.labelTransformer(classes)\n",
    "print(\"Classes we train on:\", lt.classes_)"
   ]
  },
  {
   "cell_type": "markdown",
   "metadata": {},
   "source": [
    "**X** settings"
   ]
  },
  {
   "cell_type": "code",
   "execution_count": 17,
   "metadata": {},
   "outputs": [
    {
     "name": "stdout",
     "output_type": "stream",
     "text": [
      "[('bandFilter', ('band_pass_filter', {'lowcut': 10000, 'highcut': 50000, 'fs': 192000, 'order': 5})), ('normaliseWF', ('maxabs_scale', {})), ('Audio_features', ('melspectro', {'fmin': 9000, 'n_mels': 8, 'fs': 192000, 'overlap': 0.5, 'NFFT': 512})), ('summ', ('walking', {'normalise': True, 'n_textWS': 5}))]\n",
      "-bandFilter-band_pass_filter-lowcut_10000-highcut_50000-order_5-fs_192000-normaliseWF-maxabs_scale-Audio_features-melspectro-NFFT_512-n_mels_8-fs_192000-overlap_0.5-fmin_9000-summ-walking-normalise_True-n_textWS_5\n"
     ]
    }
   ],
   "source": [
    "#### initialise transformation settings\n",
    "T_settings = []\n",
    "\n",
    "#### preprocessing\n",
    "## band pass filter\n",
    "filt = 'band_pass_filter'\n",
    "filtDi = {\"fs\": sr, \"lowcut\": 10000, \"highcut\": 50000, \"order\": 5}\n",
    "T_settings.append(('bandFilter', (filt, filtDi)))\n",
    "## normalisation\n",
    "prepro = 'maxabs_scale'\n",
    "preproDict = {}\n",
    "T_settings.append(('normaliseWF', (prepro, preproDict)))\n",
    "\n",
    "#### audio features\n",
    "auD = {}\n",
    "auD[\"fs\"] = sr\n",
    "auD[\"NFFT\"] = fft_ws\n",
    "auD[\"overlap\"] = 0.5\n",
    "auD[\"n_mels\"] = 8\n",
    "auD[\"fmin\"] = 9000\n",
    "audioF = 'melspectro' #'MFCC'\n",
    "T_settings.append(('Audio_features', (audioF, auD)))\n",
    "\n",
    "#### summarisation features\n",
    "summDict = {'n_textWS': sum_ws, 'normalise': True}\n",
    "summType = 'walking'\n",
    "T_settings.append(('summ', (summType, summDict)))\n",
    "\n",
    "Tpipe = fex.makeTransformationsPipeline(T_settings)\n",
    "print(T_settings)\n",
    "print(Tpipe.string)\n",
    "\n",
    "feExFun = Tpipe.fun"
   ]
  },
  {
   "cell_type": "markdown",
   "metadata": {},
   "source": [
    "#### Extract features and create data object"
   ]
  },
  {
   "cell_type": "code",
   "execution_count": 18,
   "metadata": {},
   "outputs": [],
   "source": [
    "datO = myML.dataXy_names()\n",
    "\n",
    "for idx, s in df[:].iterrows():\n",
    "    if s['type'] in classes: # check if the annotated section is one of the classes if interest\n",
    "\n",
    "        t0 = s['tmin']\n",
    "        tf = s['tmax']\n",
    "        ## load waveform\n",
    "        y, sr = lb.core.load(os.path.join(flacDir, s[recl]), offset=t0,\n",
    "                              sr=None, duration=tf-t0)\n",
    "        ## extract features\n",
    "        try:\n",
    "            M0 = feExFun(y)\n",
    "        except AssertionError: # ignore if the sample is too short for the analysis window\n",
    "            print(idx, s['type'], \"skipping\")\n",
    "            continue\n",
    "        labs = np.repeat(s['type'], len(M0)) # label instances\n",
    "        datO.addInstances(M0, labs) # add features and instances to data object"
   ]
  },
  {
   "cell_type": "markdown",
   "metadata": {},
   "source": [
    "Class counts"
   ]
  },
  {
   "cell_type": "code",
   "execution_count": 19,
   "metadata": {},
   "outputs": [
    {
     "name": "stdout",
     "output_type": "stream",
     "text": [
      "Class counts {'Bat_B': 192, 'background': 1838}\n"
     ]
    }
   ],
   "source": [
    "X0 = datO.X\n",
    "y0_names = datO.y_names\n",
    "y0 = lt.nom2num(y0_names)\n",
    "print(\"Class counts\", datO.targetFrequencies())"
   ]
  },
  {
   "cell_type": "markdown",
   "metadata": {},
   "source": [
    "### Balance samples to the number of Bat_B samples\n",
    "\n",
    "by randomly drawing 'background' samples"
   ]
  },
  {
   "cell_type": "code",
   "execution_count": 20,
   "metadata": {},
   "outputs": [
    {
     "name": "stdout",
     "output_type": "stream",
     "text": [
      "Counter({'Bat_B': 192, 'background': 192}) {0: 'Bat_B', 1: 'background'}\n"
     ]
    }
   ],
   "source": [
    "X, y_names = myML.balanceToClass(X0, y0_names, class_label='Bat_B')\n",
    "y = lt.nom2num(y_names)\n",
    "print(Counter(y_names), lt.targetNumNomDict())"
   ]
  },
  {
   "cell_type": "markdown",
   "metadata": {},
   "source": [
    "Visualise features"
   ]
  },
  {
   "cell_type": "code",
   "execution_count": 21,
   "metadata": {},
   "outputs": [
    {
     "data": {
      "image/png": "[encoded data removed]",
      "text/plain": [
       "<Figure size 720x288 with 2 Axes>"
      ]
     },
     "metadata": {},
     "output_type": "display_data"
    }
   ],
   "source": [
    "myML.plXy(X.T, y_names, figsize=(10,4), cmapName_Fig='viridis')\n",
    "\n",
    "oFig = os.path.join(oFigDir, Tpipe.string + '.png')\n",
    "\n",
    "oFig = os.path.join(oFigDir, 'feature_matrix-{}.png'.format('_'.join(classes)))\n",
    "#plt.savefig(oFig, bbox_inches='tight')"
   ]
  },
  {
   "cell_type": "markdown",
   "metadata": {},
   "source": [
    "## Train model"
   ]
  },
  {
   "cell_type": "markdown",
   "metadata": {},
   "source": [
    "### Split data into train and test sets and shuffle samples"
   ]
  },
  {
   "cell_type": "code",
   "execution_count": 22,
   "metadata": {},
   "outputs": [
    {
     "name": "stdout",
     "output_type": "stream",
     "text": [
      "Counter({0: 155, 1: 152}) Counter({1: 40, 0: 37})\n"
     ]
    },
    {
     "data": {
      "image/png": "[encoded data removed]",
      "text/plain": [
       "<Figure size 432x288 with 2 Axes>"
      ]
     },
     "metadata": {},
     "output_type": "display_data"
    }
   ],
   "source": [
    "X_train, X_test, y_train, y_test = train_test_split(X, y,\n",
    "                                                    test_size=0.2,\n",
    "                                                    random_state=0)\n",
    "\n",
    "myML.plXy(X_train.T, y_train) # visualise train set\n",
    "print(Counter(y_train), Counter(y_test))"
   ]
  },
  {
   "cell_type": "markdown",
   "metadata": {},
   "source": [
    "### Carry out a grid search to tune classifier hyperparameters\n",
    "\n",
    "\n",
    "Classifier settings"
   ]
  },
  {
   "cell_type": "code",
   "execution_count": 23,
   "metadata": {
    "scrolled": true
   },
   "outputs": [
    {
     "name": "stdout",
     "output_type": "stream",
     "text": [
      "Clf pipeline: [('clf', RandomForestClassifier(bootstrap=True, class_weight=None, criterion='gini',\n",
      "            max_depth=None, max_features='auto', max_leaf_nodes=None,\n",
      "            min_impurity_decrease=0.0, min_impurity_split=None,\n",
      "            min_samples_leaf=1, min_samples_split=2,\n",
      "            min_weight_fraction_leaf=0.0, n_estimators='warn', n_jobs=None,\n",
      "            oob_score=False, random_state=None, verbose=0,\n",
      "            warm_start=False))]\n",
      "\n",
      "Grid search parameters: {'clf__bootstrap': [True, False], 'clf__max_depth': [3, None], 'clf__n_estimators': [50, 100]}\n"
     ]
    }
   ],
   "source": [
    "clf_settings = random_forest #svc_rbf# # svc_l #\n",
    "cv = 10  # cross validation folds for hyperparameter tuning via grid search\n",
    "scoring = mt.make_scorer(mt.f1_score, labels=lt.nom2num('Bat_B'))#, average='macro') #'accuracy'\n",
    "\n",
    "## define clf pipeline\n",
    "clf_pipe = []\n",
    "clf_pipe.append((clf_settings.pipeStep_name,  clf_settings.fun))\n",
    "pipe = Pipeline(clf_pipe)\n",
    "print(\"Clf pipeline:\", clf_pipe)\n",
    "\n",
    "## grid search parameters\n",
    "paramsDi = {}\n",
    "paramsDi.update(clf_settings.grid_params_di)\n",
    "gs_grid = [paramsDi]\n",
    "print(\"\\nGrid search parameters:\", paramsDi)\n",
    "gs = GridSearchCV(estimator=pipe,\n",
    "                  param_grid=gs_grid,\n",
    "                  scoring=scoring,\n",
    "                  cv=cv,\n",
    "                  n_jobs=-1)"
   ]
  },
  {
   "cell_type": "markdown",
   "metadata": {},
   "source": [
    "Fit model"
   ]
  },
  {
   "cell_type": "code",
   "execution_count": null,
   "metadata": {},
   "outputs": [],
   "source": [
    "gs = gs.fit(X_train, y_train)\n",
    "\n",
    "# print scores\n",
    "clf_svc_best = gs.best_estimator_\n",
    "print(scoring, clf_svc_best )\n",
    "print(gs.best_score_)"
   ]
  },
  {
   "cell_type": "markdown",
   "metadata": {},
   "source": [
    "print score"
   ]
  },
  {
   "cell_type": "markdown",
   "metadata": {},
   "source": [
    "## Evaluate model on test set\n",
    "\n",
    "### Print P, R and f1 scores for test collection\n",
    "\n",
    "Scores by class and scoring summary"
   ]
  },
  {
   "cell_type": "code",
   "execution_count": null,
   "metadata": {},
   "outputs": [],
   "source": [
    "y_true, y_pred = y_test, clf_svc_best.predict(X_test)\n",
    "print(mt.classification_report(y_true, y_pred, target_names=lt.num2nom(list(set(y)))))\n",
    "\n",
    "## confusion matrix\n",
    "cm = mt.confusion_matrix(y_true, y_pred)  # counts\n",
    "cm_n = myML.scale(cm, normfun=myML.colCounts2colFreqs) # normalised for each class\n",
    "\n",
    "fig, ax = myML.plConfusionMatrix(cm_n, labels=lt.num2nom([0,1]), figsize=(2.3, 2.3), \n",
    "                                 alpha=0.53, display_nums=False)\n",
    "\n",
    "pT.display_numbers(fig, ax, cm_n, 18, \n",
    "                   fmt = lambda x: np.round(x, decimals=2), # display numbers with a 2 digit precision\n",
    "                   condition=lambda x: x>0) # omit zeros\n",
    "\n",
    "#ofig = os.path.join(oDir, 'CM-normalised.png')\n",
    "#fig.savefig(ofig,  bbox_inches='tight')"
   ]
  },
  {
   "cell_type": "markdown",
   "metadata": {},
   "source": [
    "## Train model over all data and save for later use"
   ]
  },
  {
   "cell_type": "code",
   "execution_count": null,
   "metadata": {},
   "outputs": [],
   "source": [
    "clf = gs.best_estimator_.fit(X,y)"
   ]
  },
  {
   "cell_type": "code",
   "execution_count": null,
   "metadata": {},
   "outputs": [],
   "source": [
    "### ------------ UNCOMMENT TO SAVE MODEL FOR LATER USE -----------------\n",
    "outModelName = os.path.join('../', 'models',  Tpipe.string + '-' + clf_id_str)\n",
    "#myML.saveModel(clf, outModelName )\n",
    "#print(outModelNam, clf.classes_)"
   ]
  },
  {
   "cell_type": "markdown",
   "metadata": {},
   "source": [
    "## Predict annotations\n",
    "\n",
    "Settings: paths and sections we want to annotate"
   ]
  },
  {
   "cell_type": "code",
   "execution_count": null,
   "metadata": {},
   "outputs": [],
   "source": [
    "audioF = '../data/bats/HFr2_US6_20170117_182200.flac' # path to wav file we want to annotate\n",
    "\n",
    "outDir = '../data/bats/' # path to output file (annotations)\n",
    "bN = os.path.splitext(os.path.basename(audioF))[0]\n",
    "outTxt = os.path.join(outDir, bN + '-{}-{}.txt'.format(clf_id_str, clf_settings.clf_name))\n",
    "keepClasses = clf_id_str.split('-')\n",
    "print(outTxt)"
   ]
  },
  {
   "cell_type": "markdown",
   "metadata": {},
   "source": [
    "Generate annotations"
   ]
  },
  {
   "cell_type": "code",
   "execution_count": null,
   "metadata": {
    "scrolled": true
   },
   "outputs": [],
   "source": [
    "pdT.predictSoundSections(audioF, clf,  lt, feExFun, outF=outTxt, annSections=keepClasses)#clf_id_str.split('-')] )"
   ]
  }
 ],
 "metadata": {
  "kernelspec": {
   "display_name": "Python 2",
   "language": "python",
   "name": "python2"
  },
  "language_info": {
   "codemirror_mode": {
    "name": "ipython",
    "version": 2
   },
   "file_extension": ".py",
   "mimetype": "text/x-python",
   "name": "python",
   "nbconvert_exporter": "python",
   "pygments_lexer": "ipython2",
   "version": "2.7.6"
  }
 },
 "nbformat": 4,
 "nbformat_minor": 1
}
