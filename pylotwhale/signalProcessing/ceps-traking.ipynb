{
 "metadata": {
  "name": ""
 },
 "nbformat": 3,
 "nbformat_minor": 0,
 "worksheets": [
  {
   "cells": [
    {
     "cell_type": "code",
     "collapsed": false,
     "input": [
      "# Read in a WAV and find the freq's\n",
      "import pyaudio\n",
      "import wave\n",
      "import numpy as np\n",
      "import pylab as pl\n",
      "\n",
      "import os"
     ],
     "language": "python",
     "metadata": {},
     "outputs": [],
     "prompt_number": 10
    },
    {
     "cell_type": "code",
     "collapsed": false,
     "input": [
      "inF = \"/home/florencia/whales/data/mySamples/training/NKW-06-cepst/NKW-06-AN-A-110708_T147_21_47_25-ceps_p9_o50.dat\"\n",
      "Bname = inF.split('.dat')[0]\n",
      "\n",
      "A = np.loadtxt(inF)\n",
      "print np.shape(A)\n",
      "maxA0 = np.asarray([A[5:40,i].argmax()+5 for i in range(540)])\n",
      "maxA1 = np.asarray([A[10:,i].argmax()+10 for i in range(540)])\n",
      "maxA2 = np.asarray([A[70:,i].argmax()+70 for i in range(540)])"
     ],
     "language": "python",
     "metadata": {},
     "outputs": [
      {
       "output_type": "stream",
       "stream": "stdout",
       "text": [
        "(128, 540)\n"
       ]
      }
     ],
     "prompt_number": 46
    },
    {
     "cell_type": "code",
     "collapsed": false,
     "input": [
      "#pl.plot(maxA0, 'y.')\n",
      "pl.plot(maxA1, 'r.')\n",
      "pl.xlim(90,250)\n",
      "#pl.plot(maxA2, 'b.')"
     ],
     "language": "python",
     "metadata": {},
     "outputs": [
      {
       "metadata": {},
       "output_type": "pyout",
       "prompt_number": 90,
       "text": [
        "(90, 250)"
       ]
      },
      {
       "metadata": {},
       "output_type": "display_data",
       "png": "[encoded data removed]",
       "text": [
        "<matplotlib.figure.Figure at 0x51a2bd0>"
       ]
      }
     ],
     "prompt_number": 90
    },
    {
     "cell_type": "code",
     "collapsed": false,
     "input": [
      "outF = Bname + '-maxCeps.dat'\n",
      "M = maxA1[110:220]\n",
      "data = pl.hstack(( np.reshape(range(len(M)), (len(M),1)), M.reshape(len(M),1) ) )\n",
      "print outF, np.shape(data)\n",
      "\n",
      "pl.savetxt(outF, data)"
     ],
     "language": "python",
     "metadata": {},
     "outputs": [
      {
       "output_type": "stream",
       "stream": "stdout",
       "text": [
        "/home/florencia/whales/data/mySamples/training/NKW-06-cepst/NKW-06-AN-A-110708_T147_21_47_25-ceps_p9_o50-maxCeps.dat (110, 2)\n"
       ]
      }
     ],
     "prompt_number": 66
    },
    {
     "cell_type": "code",
     "collapsed": false,
     "input": [
      "varA = [np.var([maxA1[i-1], maxA1[i], maxA1[i+1]]) for i in range(1,len(maxA1)-3)]\n",
      "meanA = [np.mean([maxA1[i-1], maxA1[i], maxA1[i+1]]) for i in range(1,len(maxA1)-3)]"
     ],
     "language": "python",
     "metadata": {},
     "outputs": [],
     "prompt_number": 77
    },
    {
     "cell_type": "code",
     "collapsed": false,
     "input": [
      "pl.plot(varA, 'b.')\n",
      "pl.xlim(100,260)\n",
      "pl.ylim(0,10)"
     ],
     "language": "python",
     "metadata": {},
     "outputs": [
      {
       "metadata": {},
       "output_type": "pyout",
       "prompt_number": 87,
       "text": [
        "(0, 10)"
       ]
      },
      {
       "metadata": {},
       "output_type": "display_data",
       "png": "[encoded data removed]",
       "text": [
        "<matplotlib.figure.Figure at 0x57b2890>"
       ]
      }
     ],
     "prompt_number": 87
    },
    {
     "cell_type": "code",
     "collapsed": false,
     "input": [
      "pl.plot(meanA, 'b.')\n"
     ],
     "language": "python",
     "metadata": {},
     "outputs": [
      {
       "metadata": {},
       "output_type": "pyout",
       "prompt_number": 84,
       "text": [
        "[<matplotlib.lines.Line2D at 0x519da10>]"
       ]
      },
      {
       "metadata": {},
       "output_type": "display_data",
       "png": "[encoded data removed]",
       "text": [
        "<matplotlib.figure.Figure at 0x4bd1a90>"
       ]
      }
     ],
     "prompt_number": 84
    },
    {
     "cell_type": "code",
     "collapsed": false,
     "input": [],
     "language": "python",
     "metadata": {},
     "outputs": []
    }
   ],
   "metadata": {}
  }
 ]
}