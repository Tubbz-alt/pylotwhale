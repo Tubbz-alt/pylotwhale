{
 "metadata": {
  "name": "usingChop"
 },
 "nbformat": 3,
 "nbformat_minor": 0,
 "worksheets": [
  {
   "cells": [
    {
     "cell_type": "code",
     "collapsed": false,
     "input": [
      "import numpy as np\n",
      "import pylab as pl\n",
      "\n",
      "sys.path.append('/home/florencia/whales/scripts/')\n",
      "import pcaO\n",
      "import spTools as sp"
     ],
     "language": "python",
     "metadata": {},
     "outputs": [],
     "prompt_number": 1
    },
    {
     "cell_type": "code",
     "collapsed": false,
     "input": [
      "A = np.array([10,9,1.1,2,3,4,5])"
     ],
     "language": "python",
     "metadata": {},
     "outputs": [],
     "prompt_number": 6
    },
    {
     "cell_type": "code",
     "collapsed": false,
     "input": [
      "sp.chop(A)"
     ],
     "language": "python",
     "metadata": {},
     "outputs": [
      {
       "output_type": "pyout",
       "prompt_number": 7,
       "text": [
        "(array([2, 3, 4, 5, 6]), array([ 1.1,  2. ,  3. ,  4. ,  5. ]))"
       ]
      }
     ],
     "prompt_number": 7
    },
    {
     "cell_type": "code",
     "collapsed": false,
     "input": [
      "M = np.array([[1,10,9,1.1,2,3,4,5],[10,9,11,1.1,2,3,4,5]]).T\n",
      "print M , \"\\n\",M[0,:]"
     ],
     "language": "python",
     "metadata": {},
     "outputs": [
      {
       "output_type": "stream",
       "stream": "stdout",
       "text": [
        "[[  1.   10. ]\n",
        " [ 10.    9. ]\n",
        " [  9.   11. ]\n",
        " [  1.1   1.1]\n",
        " [  2.    2. ]\n",
        " [  3.    3. ]\n",
        " [  4.    4. ]\n",
        " [  5.    5. ]] \n",
        "[  1.  10.]\n"
       ]
      }
     ],
     "prompt_number": 26
    },
    {
     "cell_type": "code",
     "collapsed": false,
     "input": [
      "idx=sp.chopMatIdx(M)"
     ],
     "language": "python",
     "metadata": {},
     "outputs": [
      {
       "output_type": "stream",
       "stream": "stdout",
       "text": [
        "2\n"
       ]
      }
     ],
     "prompt_number": 24
    },
    {
     "cell_type": "code",
     "collapsed": false,
     "input": [
      "M[idx]"
     ],
     "language": "python",
     "metadata": {},
     "outputs": [
      {
       "output_type": "pyout",
       "prompt_number": 25,
       "text": [
        "array([[  1. ,   1. ],\n",
        "       [ 10. ,   9. ],\n",
        "       [  9. ,  11. ],\n",
        "       [  1.1,   1.1],\n",
        "       [  2. ,   2. ],\n",
        "       [  3. ,   3. ],\n",
        "       [  4. ,   4. ],\n",
        "       [  5. ,   5. ]])"
       ]
      }
     ],
     "prompt_number": 25
    },
    {
     "cell_type": "code",
     "collapsed": false,
     "input": [],
     "language": "python",
     "metadata": {},
     "outputs": []
    }
   ],
   "metadata": {}
  }
 ]
}