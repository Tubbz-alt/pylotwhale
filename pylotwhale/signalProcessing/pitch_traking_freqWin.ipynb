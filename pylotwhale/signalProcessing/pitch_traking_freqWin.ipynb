{
 "metadata": {
  "name": "pitch_traking_freqWin"
 },
 "nbformat": 3,
 "nbformat_minor": 0,
 "worksheets": [
  {
   "cells": [
    {
     "cell_type": "code",
     "collapsed": false,
     "input": [
      "# Read in a WAV and find the freq's\n",
      "import pyaudio\n",
      "import wave\n",
      "import numpy as np\n",
      "import pylab as pl\n",
      "\n",
      "import os"
     ],
     "language": "python",
     "metadata": {},
     "outputs": [],
     "prompt_number": 4
    },
    {
     "cell_type": "code",
     "collapsed": false,
     "input": [
      "#files"
     ],
     "language": "python",
     "metadata": {},
     "outputs": [],
     "prompt_number": 2
    },
    {
     "cell_type": "code",
     "collapsed": false,
     "input": [
      "### read file\n",
      "inF = '/home/florencia/whales/data/mySamples/training/NKW-06/NKW-06-AN-A-110708_T148_22_22_05.wav'\n",
      "inF = '/home/florencia/whales/data/mySamples/training/NKW-33/NKW-33-AN-A-110708_T147_21_54_29.wav'\n",
      "outD = '/'.join(inF.split('/')[:-1])+'-pitchTracking'\n",
      "BName = inF.split('/')[-1].split('.wav')[0]\n",
      "print inF, \"\\noutDir:\", outD, \"\\nbase name:\", BName"
     ],
     "language": "python",
     "metadata": {},
     "outputs": [
      {
       "output_type": "stream",
       "stream": "stdout",
       "text": [
        "/home/florencia/whales/data/mySamples/training/NKW-33/NKW-33-AN-A-110708_T147_21_54_29.wav \n",
        "outDir: /home/florencia/whales/data/mySamples/training/NKW-33-pitchTracking \n",
        "base name: NKW-33-AN-A-110708_T147_21_54_29\n"
       ]
      }
     ],
     "prompt_number": 3
    },
    {
     "cell_type": "heading",
     "level": 4,
     "metadata": {},
     "source": [
      "Original Algorithm"
     ]
    },
    {
     "cell_type": "code",
     "collapsed": false,
     "input": [
      "chunk = 2**11\n",
      "print chunk\n",
      "\n",
      "freqVec = []\n",
      "\n",
      "# open up a wave\n",
      "wf = wave.open(inF, 'rb')\n",
      "swidth = wf.getsampwidth()\n",
      "RATE = wf.getframerate()\n",
      "\n",
      "print chunk, RATE\n",
      "# use a Blackman window\n",
      "window = np.blackman(chunk)\n",
      "# open stream\n",
      "p = pyaudio.PyAudio()\n",
      "stream = p.open(format =\n",
      "                p.get_format_from_width(wf.getsampwidth()),\n",
      "                channels = wf.getnchannels(),\n",
      "                rate = RATE,\n",
      "                output = True)\n",
      "\n",
      "# read some data\n",
      "data = wf.readframes(chunk)\n",
      "# play stream and find the frequency of each chunk\n",
      "while len(data) == chunk*swidth:\n",
      "    # write data out to the audio stream\n",
      "    stream.write(data)\n",
      "    # unpack the data and times by the hamming window\n",
      "    indata = np.array(wave.struct.unpack(\"%dh\"%(len(data)/swidth),\\\n",
      "                                         data))*window\n",
      "    # Take the fft and square each value\n",
      "    fftData=abs(np.fft.rfft(indata))**2\n",
      "    # find the maximum\n",
      "    which = fftData[2:].argmax() + 1\n",
      "    # use quadratic interpolation around the max\n",
      "    if which != len(fftData)-1:\n",
      "        y0,y1,y2 = np.log(fftData[which-1:which+2:])\n",
      "        x1 = (y2 - y0) * .5 / (2 * y1 - y2 - y0)\n",
      "        # find the frequency and output it\n",
      "        thefreq = (which+x1)*RATE/chunk\n",
      "        freqVec.append(thefreq)\n",
      "        #print \"The freq is %f Hz.\" % (thefreq)\n",
      "    else:\n",
      "        thefreq = which*RATE/chunk\n",
      "        freqVec.extend(thefreq)\n",
      "        #print \"The freq is %f Hz.\" % (thefreq)\n",
      "    # read some more data\n",
      "    data = wf.readframes(chunk)\n",
      "if data:\n",
      "    stream.write(data)\n",
      "stream.close()\n",
      "p.terminate()"
     ],
     "language": "python",
     "metadata": {},
     "outputs": [
      {
       "output_type": "stream",
       "stream": "stdout",
       "text": [
        "2048\n",
        "2048 48000\n"
       ]
      }
     ],
     "prompt_number": 11
    },
    {
     "cell_type": "code",
     "collapsed": false,
     "input": [],
     "language": "python",
     "metadata": {},
     "outputs": [],
     "prompt_number": 11
    },
    {
     "cell_type": "code",
     "collapsed": false,
     "input": [
      "outFig = outD+\"/\"+BName+\"-pitch-ws%s.pdf\"%chunk \n",
      "pl.plot(freqVec, 'bo' )\n",
      "pl.savefig(outFig)"
     ],
     "language": "python",
     "metadata": {},
     "outputs": [
      {
       "output_type": "display_data",
       "png": "[encoded data removed]"
      }
     ],
     "prompt_number": 12
    },
    {
     "cell_type": "heading",
     "level": 4,
     "metadata": {},
     "source": [
      "Modified"
     ]
    },
    {
     "cell_type": "code",
     "collapsed": false,
     "input": [
      "\n",
      "\n",
      "freqVec = []\n",
      "\n",
      "# open wav and read its properties\n",
      "wf = wave.open(inF, 'rb')\n",
      "swidth = wf.getsampwidth() #lenth of the sample\n",
      "RATE = wf.getframerate() # samp rate\n",
      "print \"wav file\", RATE, swidth\n",
      "\n",
      "# sapling\n",
      "chunk = 2048 # size of the sampling window\n",
      "\n",
      "# read some data\n",
      "data = wf.readframes(chunk)"
     ],
     "language": "python",
     "metadata": {},
     "outputs": [
      {
       "output_type": "stream",
       "stream": "stdout",
       "text": [
        "wav file 48000 2\n"
       ]
      }
     ],
     "prompt_number": 5
    },
    {
     "cell_type": "heading",
     "level": 3,
     "metadata": {},
     "source": [
      "pitch track"
     ]
    },
    {
     "cell_type": "code",
     "collapsed": false,
     "input": [
      "files = []\n",
      "wavD = \"/home/florencia/whales/data/mySamples/training/NKW-06/\"\n",
      "for file in os.listdir(wavD):\n",
      "    if file.endswith(\".wav\"):\n",
      "        files.append(wavD+file)        \n",
      "\n",
      "\n",
      "for inF in files:\n",
      "    print inF\n",
      "    outD = '/'.join(inF.split('/')[:-1])\n",
      "    BName = inF.split('/')[-1].split('.wav')[0]\n",
      "    print \"\\noutDir:\", outD, \"\\nbase name:\", BName\n",
      "        \n",
      "    chunk = 2**11\n",
      "    print chunk\n",
      "    \n",
      "    freqVec = []\n",
      "    \n",
      "    # open up a wave\n",
      "    wf = wave.open(inF, 'rb')\n",
      "    swidth = wf.getsampwidth()\n",
      "    RATE = wf.getframerate()\n",
      "    \n",
      "    print chunk, RATE\n",
      "    # use a Blackman window\n",
      "    window = np.blackman(chunk)\n",
      "    # open stream\n",
      "    p = pyaudio.PyAudio()\n",
      "    stream = p.open(format =\n",
      "                    p.get_format_from_width(wf.getsampwidth()),\n",
      "                    channels = wf.getnchannels(),\n",
      "                    rate = RATE,\n",
      "                    output = True)\n",
      "    \n",
      "    # read some data\n",
      "    data = wf.readframes(chunk)\n",
      "    # play stream and find the frequency of each chunk\n",
      "    while len(data) == chunk*swidth:\n",
      "        # write data out to the audio stream\n",
      "        stream.write(data)\n",
      "        # unpack the data and times by the hamming window\n",
      "        indata = np.array(wave.struct.unpack(\"%dh\"%(len(data)/swidth),\\\n",
      "                                             data))*window\n",
      "        # Take the fft and square each value\n",
      "        fftData=abs(np.fft.rfft(indata))**2\n",
      "        # find the maximum\n",
      "        which = fftData[2:].argmax() + 1\n",
      "        # use quadratic interpolation around the max\n",
      "        if which != len(fftData)-1:\n",
      "            y0,y1,y2 = np.log(fftData[which-1:which+2:])\n",
      "            x1 = (y2 - y0) * .5 / (2 * y1 - y2 - y0)\n",
      "            # find the frequency and output it\n",
      "            thefreq = (which+x1)*RATE/chunk\n",
      "            freqVec.append(thefreq)\n",
      "            #print \"The freq is %f Hz.\" % (thefreq)\n",
      "        else:\n",
      "            thefreq = which*RATE/chunk\n",
      "            freqVec.extend(thefreq)\n",
      "            #print \"The freq is %f Hz.\" % (thefreq)\n",
      "        # read some more data\n",
      "        data = wf.readframes(chunk)\n",
      "    if data:\n",
      "        stream.write(data)\n",
      "    stream.close()\n",
      "    p.terminate()\n",
      "    \n",
      "    outFig = outD+\"/\"+BName+\"-pitch-ws%s.pdf\"%chunk \n",
      "    pl.plot(freqVec, 'bo' )\n",
      "    pl.title(BName)\n",
      "    pl.savefig(outFig)"
     ],
     "language": "python",
     "metadata": {},
     "outputs": [
      {
       "output_type": "stream",
       "stream": "stdout",
       "text": [
        "/home/florencia/whales/data/mySamples/training/NKW-06/NKW-06-AN-A-110708_T147_21_47_34.wav\n",
        "\n",
        "outDir: /home/florencia/whales/data/mySamples/training/NKW-06 \n",
        "base name: NKW-06-AN-A-110708_T147_21_47_34\n",
        "2048\n",
        "2048 48000\n",
        "/home/florencia/whales/data/mySamples/training/NKW-06/NKW-06-AN-A-110708_T148_22_22_05.wav"
       ]
      },
      {
       "output_type": "stream",
       "stream": "stdout",
       "text": [
        "\n",
        "\n",
        "outDir: /home/florencia/whales/data/mySamples/training/NKW-06 \n",
        "base name: NKW-06-AN-A-110708_T148_22_22_05\n",
        "2048\n",
        "2048 48000\n",
        "/home/florencia/whales/data/mySamples/training/NKW-06/NKW-06-AN-A-110708_T147_21_47_42.wav"
       ]
      },
      {
       "output_type": "stream",
       "stream": "stdout",
       "text": [
        "\n",
        "\n",
        "outDir: /home/florencia/whales/data/mySamples/training/NKW-06 \n",
        "base name: NKW-06-AN-A-110708_T147_21_47_42\n",
        "2048\n",
        "2048 48000\n",
        "/home/florencia/whales/data/mySamples/training/NKW-06/NKW-06-AN-A-110708_T147_22_06_46.wav"
       ]
      },
      {
       "output_type": "stream",
       "stream": "stdout",
       "text": [
        "\n",
        "\n",
        "outDir: /home/florencia/whales/data/mySamples/training/NKW-06 \n",
        "base name: NKW-06-AN-A-110708_T147_22_06_46\n",
        "2048\n",
        "2048 48000\n",
        "/home/florencia/whales/data/mySamples/training/NKW-06/NKW-06-AN-A-110708_T147_22_06_35.wav"
       ]
      },
      {
       "output_type": "stream",
       "stream": "stdout",
       "text": [
        "\n",
        "\n",
        "outDir: /home/florencia/whales/data/mySamples/training/NKW-06 \n",
        "base name: NKW-06-AN-A-110708_T147_22_06_35\n",
        "2048\n",
        "2048 48000\n",
        "/home/florencia/whales/data/mySamples/training/NKW-06/NKW-06-AN-A-110708_T147_21_47_25.wav"
       ]
      },
      {
       "output_type": "stream",
       "stream": "stdout",
       "text": [
        "\n",
        "\n",
        "outDir: /home/florencia/whales/data/mySamples/training/NKW-06 \n",
        "base name: NKW-06-AN-A-110708_T147_21_47_25\n",
        "2048\n",
        "2048 48000\n",
        "/home/florencia/whales/data/mySamples/training/NKW-06/NKW-06-AN-B-110514_T31_14_09_42.wav"
       ]
      },
      {
       "output_type": "stream",
       "stream": "stdout",
       "text": [
        "\n",
        "\n",
        "outDir: /home/florencia/whales/data/mySamples/training/NKW-06 \n",
        "base name: NKW-06-AN-B-110514_T31_14_09_42\n",
        "2048\n",
        "2048 48000\n",
        "/home/florencia/whales/data/mySamples/training/NKW-06/NKW-06-AN-B-110514_T32_14_40_16.wav"
       ]
      },
      {
       "output_type": "stream",
       "stream": "stdout",
       "text": [
        "\n",
        "\n",
        "outDir: /home/florencia/whales/data/mySamples/training/NKW-06 \n",
        "base name: NKW-06-AN-B-110514_T32_14_40_16\n",
        "2048\n",
        "2048 48000\n",
        "/home/florencia/whales/data/mySamples/training/NKW-06/NKW-06-AN-A-110610_T68_20_47_27.wav"
       ]
      },
      {
       "output_type": "stream",
       "stream": "stdout",
       "text": [
        "\n",
        "\n",
        "outDir: /home/florencia/whales/data/mySamples/training/NKW-06 \n",
        "base name: NKW-06-AN-A-110610_T68_20_47_27\n",
        "2048\n",
        "2048 48000\n"
       ]
      },
      {
       "output_type": "display_data",
       "png": "[encoded data removed]"
      }
     ],
     "prompt_number": 6
    },
    {
     "cell_type": "heading",
     "level": 2,
     "metadata": {},
     "source": [
      "cepstrum traking"
     ]
    },
    {
     "cell_type": "code",
     "collapsed": false,
     "input": [
      "files = []\n",
      "wavD = \"/home/florencia/whales/data/mySamples/wavelets/\"\n",
      "for file in os.listdir(wavD):\n",
      "    if file.endswith(\".wav\"):\n",
      "        files.append(wavD+file)        \n",
      "\n",
      "\n",
      "for inF in files:\n",
      "    print inF\n",
      "    outD = '/'.join(inF.split('/')[:-1])\n",
      "    BName = inF.split('/')[-1].split('.wav')[0]\n",
      "    print \"\\noutDir:\", outD, \"\\nbase name:\", BName\n",
      "        \n",
      "    chunk = 2**10\n",
      "    print chunk\n",
      "    \n",
      "    freqVec = []\n",
      "    \n",
      "    # open up a wave\n",
      "    wf = wave.open(inF, 'rb')\n",
      "    swidth = wf.getsampwidth()\n",
      "    RATE = wf.getframerate()\n",
      "    \n",
      "    print chunk, RATE\n",
      "    # use a Blackman window\n",
      "    window = np.blackman(chunk)\n",
      "    # open stream\n",
      "    p = pyaudio.PyAudio()\n",
      "    stream = p.open(format =\n",
      "                    p.get_format_from_width(wf.getsampwidth()),\n",
      "                    channels = wf.getnchannels(),\n",
      "                    rate = RATE,\n",
      "                    output = True)\n",
      "    \n",
      "    # read some data\n",
      "    data = wf.readframes(chunk)\n",
      "    # play stream and find the frequency of each chunk\n",
      "    while len(data) == chunk*swidth:\n",
      "        # write data out to the audio stream\n",
      "        stream.write(data)\n",
      "        # unpack the data and times by the hamming window\n",
      "        indata = np.array(wave.struct.unpack(\"%dh\"%(len(data)/swidth),\\\n",
      "                                             data))*window\n",
      "        # Take the fft and square each value\n",
      "        ##fftData=abs(np.fft.fft(abs(np.fft.rfft(indata))**2))\n",
      "        fftData=abs(np.fft.rfft(indata))**2\n",
      "        # find the maximum\n",
      "        which = fftData[1:].argmax() + 1\n",
      "        # use quadratic interpolation around the max\n",
      "        if which != len(fftData)-1:\n",
      "            y0,y1,y2 = np.log(fftData[which-1:which+2:])\n",
      "            x1 = (y2 - y0) * .5 / (2 * y1 - y2 - y0)\n",
      "            # find the frequency and output it\n",
      "            thefreq = (which+x1)*RATE/chunk\n",
      "            freqVec.append(thefreq)\n",
      "            #print \"The freq is %f Hz.\" % (thefreq)\n",
      "        else:\n",
      "            thefreq = which*RATE/chunk\n",
      "            freqVec.append(thefreq)\n",
      "            #print \"The freq is %f Hz.\" % (thefreq)\n",
      "        # read some more data\n",
      "        data = wf.readframes(chunk)\n",
      "    if data:\n",
      "        stream.write(data)\n",
      "    stream.close()\n",
      "    p.terminate()\n",
      "    \n",
      "    outFig = outD+\"/\"+BName+\"-pitch-ws%s.pdf\"%chunk \n",
      "    pl.plot(freqVec, 'bo' )\n",
      "    pl.savefig(outFig)"
     ],
     "language": "python",
     "metadata": {},
     "outputs": [
      {
       "output_type": "stream",
       "stream": "stdout",
       "text": [
        "/home/florencia/whales/data/mySamples/wavelets/NKW-06-B1.wav\n",
        "\n",
        "outDir: /home/florencia/whales/data/mySamples/wavelets \n",
        "base name: NKW-06-B1\n",
        "1024\n",
        "1024 48000\n",
        "/home/florencia/whales/data/mySamples/wavelets/NKW-33-A2.wav"
       ]
      },
      {
       "output_type": "stream",
       "stream": "stdout",
       "text": [
        "\n",
        "\n",
        "outDir: /home/florencia/whales/data/mySamples/wavelets \n",
        "base name: NKW-33-A2\n",
        "1024\n",
        "1024 48000\n",
        "/home/florencia/whales/data/mySamples/wavelets/NKW-06-A1.wav"
       ]
      },
      {
       "output_type": "stream",
       "stream": "stdout",
       "text": [
        "\n",
        "\n",
        "outDir: /home/florencia/whales/data/mySamples/wavelets \n",
        "base name: NKW-06-A1\n",
        "1024\n",
        "1024 48000\n",
        "/home/florencia/whales/data/mySamples/wavelets/NKW-33-B1.wav"
       ]
      },
      {
       "output_type": "stream",
       "stream": "stdout",
       "text": [
        "\n",
        "\n",
        "outDir: /home/florencia/whales/data/mySamples/wavelets \n",
        "base name: NKW-33-B1\n",
        "1024\n",
        "1024 48000\n",
        "/home/florencia/whales/data/mySamples/wavelets/NKW-06-A2.wav"
       ]
      },
      {
       "output_type": "stream",
       "stream": "stdout",
       "text": [
        "\n",
        "\n",
        "outDir: /home/florencia/whales/data/mySamples/wavelets \n",
        "base name: NKW-06-A2\n",
        "1024\n",
        "1024 48000\n",
        "/home/florencia/whales/data/mySamples/wavelets/NKW-33-A1.wav"
       ]
      },
      {
       "output_type": "stream",
       "stream": "stdout",
       "text": [
        "\n",
        "\n",
        "outDir: /home/florencia/whales/data/mySamples/wavelets \n",
        "base name: NKW-33-A1\n",
        "1024\n",
        "1024 48000\n"
       ]
      },
      {
       "output_type": "display_data",
       "png": "[encoded data removed]"
      }
     ],
     "prompt_number": 10
    },
    {
     "cell_type": "code",
     "collapsed": false,
     "input": [],
     "language": "python",
     "metadata": {},
     "outputs": []
    }
   ],
   "metadata": {}
  }
 ]
}