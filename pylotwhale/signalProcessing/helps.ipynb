{
 "metadata": {
  "name": "helps"
 },
 "nbformat": 3,
 "nbformat_minor": 0,
 "worksheets": [
  {
   "cells": [
    {
     "cell_type": "code",
     "collapsed": false,
     "input": [
      "specgram??"
     ],
     "language": "python",
     "metadata": {},
     "outputs": [],
     "prompt_number": 2
    },
    {
     "cell_type": "code",
     "collapsed": false,
     "input": [
      "fig = pyplot.figure()"
     ],
     "language": "python",
     "metadata": {},
     "outputs": [],
     "prompt_number": 7
    },
    {
     "cell_type": "code",
     "collapsed": false,
     "input": [
      "ax= fig.add_subplot(111)"
     ],
     "language": "python",
     "metadata": {},
     "outputs": [],
     "prompt_number": 10
    },
    {
     "cell_type": "code",
     "collapsed": false,
     "input": [
      "ax.specgram??"
     ],
     "language": "python",
     "metadata": {},
     "outputs": [],
     "prompt_number": 76
    },
    {
     "cell_type": "code",
     "collapsed": false,
     "input": [
      "mlab.specgram??"
     ],
     "language": "python",
     "metadata": {},
     "outputs": [],
     "prompt_number": 75
    },
    {
     "cell_type": "code",
     "collapsed": false,
     "input": [
      "mlab._spectral_helper??"
     ],
     "language": "python",
     "metadata": {},
     "outputs": [],
     "prompt_number": 77
    },
    {
     "cell_type": "code",
     "collapsed": false,
     "input": [
      "np.fft.fft?"
     ],
     "language": "python",
     "metadata": {},
     "outputs": [],
     "prompt_number": 69
    },
    {
     "cell_type": "code",
     "collapsed": false,
     "input": [
      "specgram?"
     ],
     "language": "python",
     "metadata": {},
     "outputs": [],
     "prompt_number": 20
    },
    {
     "cell_type": "code",
     "collapsed": false,
     "input": [
      "A = specgram??"
     ],
     "language": "python",
     "metadata": {},
     "outputs": [],
     "prompt_number": 37
    },
    {
     "cell_type": "code",
     "collapsed": false,
     "input": [
      "A = specgram"
     ],
     "language": "python",
     "metadata": {},
     "outputs": []
    },
    {
     "cell_type": "code",
     "collapsed": false,
     "input": [
      "np.fft.fft??"
     ],
     "language": "python",
     "metadata": {},
     "outputs": [],
     "prompt_number": 40
    },
    {
     "cell_type": "code",
     "collapsed": false,
     "input": [
      "D,V=eig??"
     ],
     "language": "python",
     "metadata": {},
     "outputs": [],
     "prompt_number": 35
    },
    {
     "cell_type": "code",
     "collapsed": false,
     "input": [
      "D,V=eig"
     ],
     "language": "python",
     "metadata": {},
     "outputs": []
    },
    {
     "cell_type": "code",
     "collapsed": false,
     "input": [
      "help('numpy.eig')"
     ],
     "language": "python",
     "metadata": {},
     "outputs": [
      {
       "output_type": "stream",
       "stream": "stdout",
       "text": [
        "no Python documentation found for 'numpy.eig'\n",
        "\n"
       ]
      }
     ],
     "prompt_number": 27
    },
    {
     "cell_type": "code",
     "collapsed": false,
     "input": [
      "A= help('numpy.linalg.eig')"
     ],
     "language": "python",
     "metadata": {},
     "outputs": [
      {
       "output_type": "stream",
       "stream": "stdout",
       "text": [
        "Help on function eig in numpy.linalg:\n",
        "\n",
        "numpy.linalg.eig = eig(a)\n",
        "    Compute the eigenvalues and right eigenvectors of a square array.\n",
        "    \n",
        "    Parameters\n",
        "    ----------\n",
        "    a : (M, M) array_like\n",
        "        A square array of real or complex elements.\n",
        "    \n",
        "    Returns\n",
        "    -------\n",
        "    w : (M,) ndarray\n",
        "        The eigenvalues, each repeated according to its multiplicity.\n",
        "        The eigenvalues are not necessarily ordered, nor are they\n",
        "        necessarily real for real arrays (though for real arrays\n",
        "        complex-valued eigenvalues should occur in conjugate pairs).\n",
        "    v : (M, M) ndarray\n",
        "        The normalized (unit \"length\") eigenvectors, such that the\n",
        "        column ``v[:,i]`` is the eigenvector corresponding to the\n",
        "        eigenvalue ``w[i]``.\n",
        "    \n",
        "    Raises\n",
        "    ------\n",
        "    LinAlgError\n",
        "        If the eigenvalue computation does not converge.\n",
        "    \n",
        "    See Also\n",
        "    --------\n",
        "    eigvalsh : eigenvalues of a symmetric or Hermitian (conjugate symmetric)\n",
        "       array.\n",
        "    \n",
        "    eigvals : eigenvalues of a non-symmetric array.\n",
        "    \n",
        "    Notes\n",
        "    -----\n",
        "    This is a simple interface to the LAPACK routines dgeev and zgeev\n",
        "    which compute the eigenvalues and eigenvectors of, respectively,\n",
        "    general real- and complex-valued square arrays.\n",
        "    \n",
        "    The number `w` is an eigenvalue of `a` if there exists a vector\n",
        "    `v` such that ``dot(a,v) = w * v``. Thus, the arrays `a`, `w`, and\n",
        "    `v` satisfy the equations ``dot(a[i,:], v[i]) = w[i] * v[:,i]``\n",
        "    for :math:`i \\in \\{0,...,M-1\\}`.\n",
        "    \n",
        "    The array `v` of eigenvectors may not be of maximum rank, that is, some\n",
        "    of the columns may be linearly dependent, although round-off error may\n",
        "    obscure that fact. If the eigenvalues are all different, then theoretically\n",
        "    the eigenvectors are linearly independent. Likewise, the (complex-valued)\n",
        "    matrix of eigenvectors `v` is unitary if the matrix `a` is normal, i.e.,\n",
        "    if ``dot(a, a.H) = dot(a.H, a)``, where `a.H` denotes the conjugate\n",
        "    transpose of `a`.\n",
        "    \n",
        "    Finally, it is emphasized that `v` consists of the *right* (as in\n",
        "    right-hand side) eigenvectors of `a`.  A vector `y` satisfying\n",
        "    ``dot(y.T, a) = z * y.T`` for some number `z` is called a *left*\n",
        "    eigenvector of `a`, and, in general, the left and right eigenvectors\n",
        "    of a matrix are not necessarily the (perhaps conjugate) transposes\n",
        "    of each other.\n",
        "    \n",
        "    References\n",
        "    ----------\n",
        "    G. Strang, *Linear Algebra and Its Applications*, 2nd Ed., Orlando, FL,\n",
        "    Academic Press, Inc., 1980, Various pp.\n",
        "    \n",
        "    Examples\n",
        "    --------\n",
        "    >>> from numpy import linalg as LA\n",
        "    \n",
        "    (Almost) trivial example with real e-values and e-vectors.\n",
        "    \n",
        "    >>> w, v = LA.eig(np.diag((1, 2, 3)))\n",
        "    >>> w; v\n",
        "    array([ 1.,  2.,  3.])\n",
        "    array([[ 1.,  0.,  0.],\n",
        "           [ 0.,  1.,  0.],\n",
        "           [ 0.,  0.,  1.]])\n",
        "    \n",
        "    Real matrix possessing complex e-values and e-vectors; note that the\n",
        "    e-values are complex conjugates of each other.\n",
        "    \n",
        "    >>> w, v = LA.eig(np.array([[1, -1], [1, 1]]))\n",
        "    >>> w; v\n",
        "    array([ 1. + 1.j,  1. - 1.j])\n",
        "    array([[ 0.70710678+0.j        ,  0.70710678+0.j        ],\n",
        "           [ 0.00000000-0.70710678j,  0.00000000+0.70710678j]])\n",
        "    \n",
        "    Complex-valued matrix with real e-values (but complex-valued e-vectors);\n",
        "    note that a.conj().T = a, i.e., a is Hermitian.\n",
        "    \n",
        "    >>> a = np.array([[1, 1j], [-1j, 1]])\n",
        "    >>> w, v = LA.eig(a)\n",
        "    >>> w; v\n",
        "    array([  2.00000000e+00+0.j,   5.98651912e-36+0.j]) # i.e., {2, 0}\n",
        "    array([[ 0.00000000+0.70710678j,  0.70710678+0.j        ],\n",
        "           [ 0.70710678+0.j        ,  0.00000000+0.70710678j]])\n",
        "    \n",
        "    Be careful about round-off error!\n",
        "    \n",
        "    >>> a = np.array([[1 + 1e-9, 0], [0, 1 - 1e-9]])\n",
        "    >>> # Theor. e-values are 1 +/- 1e-9\n",
        "    >>> w, v = LA.eig(a)\n",
        "    >>> w; v\n",
        "    array([ 1.,  1.])\n",
        "    array([[ 1.,  0.],\n",
        "           [ 0.,  1.]])\n",
        "\n"
       ]
      }
     ],
     "prompt_number": 29
    },
    {
     "cell_type": "code",
     "collapsed": false,
     "input": [
      "1j"
     ],
     "language": "python",
     "metadata": {},
     "outputs": [
      {
       "output_type": "pyout",
       "prompt_number": 47,
       "text": [
        "1j"
       ]
      }
     ],
     "prompt_number": 47
    },
    {
     "cell_type": "code",
     "collapsed": false,
     "input": [
      "#z=3+4j\n",
      "z=4+3j\n",
      "print \"complex:\", z, np.conjugate(z), np.abs(z), np.conjugate(z)*z"
     ],
     "language": "python",
     "metadata": {},
     "outputs": [
      {
       "output_type": "stream",
       "stream": "stdout",
       "text": [
        " complex: (4+3j) (4-3j) 5.0 (25+0j)\n"
       ]
      }
     ],
     "prompt_number": 71
    },
    {
     "cell_type": "code",
     "collapsed": false,
     "input": [
      "v=np.array([1,2,3,4])\n",
      "\n",
      "v.sum()"
     ],
     "language": "python",
     "metadata": {},
     "outputs": [
      {
       "output_type": "pyout",
       "prompt_number": 63,
       "text": [
        "10"
       ]
      }
     ],
     "prompt_number": 63
    },
    {
     "cell_type": "code",
     "collapsed": false,
     "input": [
      "M=np.array([[1,2,3,4],[9,8,7,6]])\n",
      "print M\n",
      "M/=2\n",
      "print M\n"
     ],
     "language": "python",
     "metadata": {},
     "outputs": [
      {
       "output_type": "stream",
       "stream": "stdout",
       "text": [
        "[[1 2 3 4]\n",
        " [9 8 7 6]]\n",
        "[[0 1 1 2]\n",
        " [4 4 3 3]]\n"
       ]
      }
     ],
     "prompt_number": 68
    },
    {
     "cell_type": "code",
     "collapsed": false,
     "input": [
      "M"
     ],
     "language": "python",
     "metadata": {},
     "outputs": [
      {
       "output_type": "pyout",
       "prompt_number": 67,
       "text": [
        "array([[0, 1, 1, 2],\n",
        "       [4, 4, 3, 3]])"
       ]
      }
     ],
     "prompt_number": 67
    },
    {
     "cell_type": "code",
     "collapsed": false,
     "input": [
      "4//2"
     ],
     "language": "python",
     "metadata": {},
     "outputs": [
      {
       "output_type": "pyout",
       "prompt_number": 74,
       "text": [
        "2"
       ]
      }
     ],
     "prompt_number": 74
    },
    {
     "cell_type": "code",
     "collapsed": false,
     "input": [],
     "language": "python",
     "metadata": {},
     "outputs": []
    }
   ],
   "metadata": {}
  }
 ]
}