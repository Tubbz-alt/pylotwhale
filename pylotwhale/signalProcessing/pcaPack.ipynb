{
 "metadata": {
  "name": "pcaPack"
 },
 "nbformat": 3,
 "nbformat_minor": 0,
 "worksheets": [
  {
   "cells": [
    {
     "cell_type": "code",
     "collapsed": false,
     "input": [
      "import plPCApack as PCAp\n",
      "#reload(PCAp)\n",
      "#reload(pcaO)\n",
      "import sys\n",
      "import pylab as pl"
     ],
     "language": "python",
     "metadata": {},
     "outputs": [],
     "prompt_number": 21
    },
    {
     "cell_type": "code",
     "collapsed": false,
     "input": [
      "#cepsF = '/home/florencia/Desktop/mySamples/whales/PWcallSet/N11iv-NE-041217-ts.dat-cepst.dat'\n",
      "cepsF = '/home/florencia/whales/data/NPW2013/NPW-calls-2013/single-calls-subset/NPW-056-J-B-090713_f50-5_00_00_14-ts.dat-cepst.dat'\n",
      "#cepsM = np.loadtxt(cepsF)"
     ],
     "language": "python",
     "metadata": {},
     "outputs": [],
     "prompt_number": 22
    },
    {
     "cell_type": "code",
     "collapsed": false,
     "input": [
      "PCAp.pcaCalcs(cepsF,plBasis=1, sRate = 48000)"
     ],
     "language": "python",
     "metadata": {},
     "outputs": [
      {
       "output_type": "stream",
       "stream": "stdout",
       "text": [
        "matrix alighned: 128 cesptral coeffis 77617 time steps\n",
        "/home/florencia/whales/data/NPW2013/NPW-calls-2013/single-calls-subset/NPW-056-J-B-090713_f50-5_00_00_14-ts.dat-cepst\n",
        "you created a PCA object from a"
       ]
      },
      {
       "output_type": "stream",
       "stream": "stdout",
       "text": [
        " (77617, 128) dimensional data\n",
        "zero mean \n"
       ]
      },
      {
       "output_type": "stream",
       "stream": "stdout",
       "text": [
        "\n",
        "ploting PCA basis\n",
        "\n",
        "/home/florencia/whales/data/NPW2013/NPW-calls-2013/single-calls-subset/NPW-056-J-B-090713_f50-5_00_00_14-ts.dat-cepstPCbasis.png"
       ]
      },
      {
       "output_type": "stream",
       "stream": "stdout",
       "text": [
        "\n",
        "ploting PCA weights\n"
       ]
      },
      {
       "output_type": "stream",
       "stream": "stdout",
       "text": [
        "\n",
        "vec 1.0 0.999727057612 0.999867336076 128 1.0 10682374.3636\n",
        "i 127 0.999727057612 y_low 0.999727057612\n",
        "i ="
       ]
      },
      {
       "output_type": "stream",
       "stream": "stdout",
       "text": [
        " 127 1.0\n",
        "/home/florencia/whales/data/NPW2013/NPW-calls-2013/single-calls-subset/NPW-056-J-B-090713_f50-5_00_00_14-ts.dat-cepstPCweitghts.png\n",
        "ploting data in PC\n"
       ]
      },
      {
       "output_type": "stream",
       "stream": "stdout",
       "text": [
        "\n",
        "tf="
       ]
      },
      {
       "output_type": "stream",
       "stream": "stdout",
       "text": [
        " 1.61702083333 N 77617\n",
        "/home/florencia/whales/data/NPW2013/NPW-calls-2013/single-calls-subset/NPW-056-J-B-090713_f50-5_00_00_14-ts.dat-cepstatPCbasis.png"
       ]
      },
      {
       "output_type": "stream",
       "stream": "stdout",
       "text": [
        "\n"
       ]
      }
     ],
     "prompt_number": 23
    },
    {
     "cell_type": "code",
     "collapsed": false,
     "input": [
      "mypca=pcaO.pca0mean(cepsM)"
     ],
     "language": "python",
     "metadata": {},
     "outputs": [
      {
       "output_type": "stream",
       "stream": "stdout",
       "text": [
        "you created a PCA object from a (70337, 128) dimensional data\n",
        "zero mean \n"
       ]
      },
      {
       "output_type": "stream",
       "stream": "stdout",
       "text": [
        "\n"
       ]
      }
     ],
     "prompt_number": 67
    },
    {
     "cell_type": "code",
     "collapsed": false,
     "input": [
      "inPC = mypca.dataInMyBasis(cepsM, 5).T\n",
      "#pl.imshow(inPC[:2,:], aspect='auto', interpolation='nearest', origin='bottom')\n",
      "\n",
      "pl.figure(figsize=(14,4))\n",
      "pl.subplot(121)\n",
      "pl.title('PC0')\n",
      "pl.imshow(inPC, aspect='auto', interpolation='nearest', origin='bottom')\n",
      "\n",
      "pl.subplot(122)\n",
      "pl.title('c0')\n",
      "pl.imshow(cepsM.T[:5,:], aspect='auto', interpolation='nearest', origin='bottom')"
     ],
     "language": "python",
     "metadata": {},
     "outputs": [
      {
       "output_type": "pyout",
       "prompt_number": 72,
       "text": [
        "<matplotlib.image.AxesImage at 0xd205ed0>"
       ]
      },
      {
       "output_type": "display_data",
       "png": "[encoded data removed]"
      }
     ],
     "prompt_number": 72
    },
    {
     "cell_type": "code",
     "collapsed": false,
     "input": [
      "sys.path"
     ],
     "language": "python",
     "metadata": {},
     "outputs": [
      {
       "output_type": "pyout",
       "prompt_number": 73,
       "text": [
        "['',\n",
        " '/usr/local/lib/python2.7/dist-packages/setuptools-0.9.8-py2.7.egg',\n",
        " '/usr/local/lib/python2.7/dist-packages/pip-1.4.1-py2.7.egg',\n",
        " '/usr/local/lib/python2.7/dist-packages/pygsr-0.1-py2.7.egg',\n",
        " '/usr/lib/python2.7/dist-packages',\n",
        " '/usr/local/lib/python2.7/dist-packages/audiolazy-0.04-py2.7.egg',\n",
        " '/usr/local/lib/python2.7/dist-packages/scikits.talkbox-0.2.5-py2.7-linux-x86_64.egg',\n",
        " '/usr/local/lib/python2.7/dist-packages/scikits.example-0.1-py2.7.egg',\n",
        " '/usr/local/lib/python2.7/dist-packages/scikits.samplerate-0.3.3-py2.7-linux-x86_64.egg',\n",
        " '/usr/local/lib/python2.7/dist-packages/scikits.audiolab-0.11.0-py2.7-linux-x86_64.egg',\n",
        " '/usr/lib/python2.7',\n",
        " '/usr/lib/python2.7/plat-x86_64-linux-gnu',\n",
        " '/usr/lib/python2.7/lib-tk',\n",
        " '/usr/lib/python2.7/lib-old',\n",
        " '/usr/lib/python2.7/lib-dynload',\n",
        " '/usr/local/lib/python2.7/dist-packages',\n",
        " '/usr/lib/python2.7/dist-packages/PILcompat',\n",
        " '/usr/lib/python2.7/dist-packages/gtk-2.0',\n",
        " '/usr/lib/pymodules/python2.7',\n",
        " '/usr/lib/python2.7/dist-packages/ubuntu-sso-client',\n",
        " '/usr/lib/python2.7/dist-packages/ubuntuone-client',\n",
        " '/usr/lib/python2.7/dist-packages/ubuntuone-control-panel',\n",
        " '/usr/lib/python2.7/dist-packages/ubuntuone-storage-protocol',\n",
        " '/usr/lib/python2.7/dist-packages/IPython/extensions',\n",
        " '/home/florencia/whales/scripts/',\n",
        " '/home/florencia/whales/scripts/',\n",
        " '/home/florencia/whales/scripts/',\n",
        " '/home/florencia/whales/scripts/',\n",
        " '/home/florencia/whales/scripts/',\n",
        " '/home/florencia/whales/scripts/',\n",
        " '/home/florencia/whales/scripts/',\n",
        " '/home/florencia/whales/scripts/',\n",
        " '/home/florencia/whales/scripts/',\n",
        " '/home/florencia/whales/scripts/',\n",
        " '/home/florencia/whales/scripts/',\n",
        " '/home/florencia/whales/scripts/',\n",
        " '/home/florencia/whales/scripts/',\n",
        " '/home/florencia/whales/scripts/',\n",
        " '/home/florencia/whales/scripts/',\n",
        " '/home/florencia/whales/scripts/',\n",
        " '/home/florencia/whales/scripts/',\n",
        " '/home/florencia/whales/scripts/',\n",
        " '/home/florencia/whales/scripts/',\n",
        " '/home/florencia/whales/scripts/',\n",
        " '/home/florencia/whales/scripts/',\n",
        " '/home/florencia/whales/scripts/',\n",
        " '/home/florencia/whales/scripts/',\n",
        " '/home/florencia/whales/scripts/',\n",
        " '/home/florencia/whales/scripts/',\n",
        " '/home/florencia/whales/scripts/',\n",
        " '/home/florencia/whales/scripts/']"
       ]
      }
     ],
     "prompt_number": 73
    },
    {
     "cell_type": "code",
     "collapsed": false,
     "input": [
      "pwd"
     ],
     "language": "python",
     "metadata": {},
     "outputs": [
      {
       "output_type": "pyout",
       "prompt_number": 46,
       "text": [
        "u'/home/florencia/whales/scripts/signal-processing'"
       ]
      }
     ],
     "prompt_number": 46
    },
    {
     "cell_type": "code",
     "collapsed": false,
     "input": [
      "pl.rcParams.update({'figure.autolayout':True})"
     ],
     "language": "python",
     "metadata": {},
     "outputs": [],
     "prompt_number": 83
    },
    {
     "cell_type": "code",
     "collapsed": false,
     "input": [
      "vec = [1,2,3,4,5,6,7,8]"
     ],
     "language": "python",
     "metadata": {},
     "outputs": [],
     "prompt_number": 108
    },
    {
     "cell_type": "code",
     "collapsed": false,
     "input": [
      "fig=pl.figure()\n",
      "fig.add_subplot(111)\n",
      "pl.plot(vec)\n",
      "\n",
      "fig2=pl.figure()\n",
      "fig2.add_subplot(111)\n",
      "pl.plot(np.sin(vec))"
     ],
     "language": "python",
     "metadata": {},
     "outputs": [
      {
       "output_type": "pyout",
       "prompt_number": 110,
       "text": [
        "[<matplotlib.lines.Line2D at 0x191bf990>]"
       ]
      },
      {
       "output_type": "display_data",
       "png": "[encoded data removed]"
      },
      {
       "output_type": "display_data",
       "png": "[encoded data removed]"
      }
     ],
     "prompt_number": 110
    },
    {
     "cell_type": "code",
     "collapsed": false,
     "input": [],
     "language": "python",
     "metadata": {},
     "outputs": []
    }
   ],
   "metadata": {}
  }
 ]
}