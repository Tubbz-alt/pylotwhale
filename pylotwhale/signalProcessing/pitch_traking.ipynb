{
 "metadata": {
  "name": ""
 },
 "nbformat": 3,
 "nbformat_minor": 0,
 "worksheets": [
  {
   "cells": [
    {
     "cell_type": "code",
     "collapsed": false,
     "input": [
      "# Read in a WAV and find the freq's\n",
      "import pyaudio\n",
      "import wave\n",
      "import numpy as np\n",
      "import pylab as pl\n",
      "\n",
      "import os"
     ],
     "language": "python",
     "metadata": {},
     "outputs": [],
     "prompt_number": 1
    },
    {
     "cell_type": "code",
     "collapsed": false,
     "input": [
      "#files"
     ],
     "language": "python",
     "metadata": {},
     "outputs": [],
     "prompt_number": 2
    },
    {
     "cell_type": "code",
     "collapsed": false,
     "input": [
      "### read file\n",
      "#inF = '/home/florencia/whales/data/mySamples/training/NKW-06/NKW-06-AN-A-110708_T148_22_22_05.wav'\n",
      "inF = '/home/florencia/whales/data/mySamples/synthetic/beeps/Beep440Hz.wav'\n",
      "outD = '/'.join(inF.split('/')[:-1])\n",
      "BName = inF.split('/')[-1].split('.wav')[0]\n",
      "print inF, \"\\noutDir:\", outD, \"\\nbase name:\", BName"
     ],
     "language": "python",
     "metadata": {},
     "outputs": [
      {
       "output_type": "stream",
       "stream": "stdout",
       "text": [
        "/home/florencia/whales/data/mySamples/synthetic/beeps/Beep440Hz.wav \n",
        "outDir: /home/florencia/whales/data/mySamples/synthetic/beeps \n",
        "base name: Beep440Hz\n"
       ]
      }
     ],
     "prompt_number": 30
    },
    {
     "cell_type": "heading",
     "level": 4,
     "metadata": {},
     "source": [
      "Original Algorithm"
     ]
    },
    {
     "cell_type": "code",
     "collapsed": false,
     "input": [
      "print shape(fftData)\n",
      "which = 8\n",
      "\n",
      "\n",
      "#fftData[which-1:which+2:]\n"
     ],
     "language": "python",
     "metadata": {},
     "outputs": [
      {
       "output_type": "stream",
       "stream": "stdout",
       "text": [
        "(33,)\n"
       ]
      }
     ],
     "prompt_number": 31
    },
    {
     "cell_type": "code",
     "collapsed": false,
     "input": [
      "chunk = 2**10\n",
      "print chunk\n",
      "\n",
      "freqVec = []\n",
      "\n",
      "# open up a wave\n",
      "wf = wave.open(inF, 'rb')\n",
      "swidth = wf.getsampwidth()\n",
      "RATE = wf.getframerate()\n",
      "NFr = wf.getnframes()\n",
      "\n",
      "print \"chunck: \", chunk, \"rate:\", RATE, \"swidth:\", swidth, \"N frames\", NFr\n",
      "# use a Blackman window\n",
      "window = np.blackman(chunk)\n",
      "# open stream\n",
      "p = pyaudio.PyAudio()\n",
      "stream = p.open(format =\n",
      "                p.get_format_from_width(wf.getsampwidth()),\n",
      "                channels = wf.getnchannels(),\n",
      "                rate = RATE,\n",
      "                output = True)\n",
      "\n",
      "# read some data\n",
      "data = wf.readframes(chunk)\n",
      "# play stream and find the frequency of each chunk\n",
      "while len(data) == chunk*swidth:\n",
      "    # write data out to the audio stream\n",
      "    stream.write(data)\n",
      "    # unpack the data and times by the hamming window\n",
      "    indata = np.array(wave.struct.unpack(\"%dh\"%(len(data)/swidth),\\\n",
      "                                         data))*window\n",
      "    # Take the fft and square each value\n",
      "    fftData=abs(np.fft.rfft(indata))**2\n",
      "    # find the maximum\n",
      "    which = fftData[1:chunk/500].argmax() + 1\n",
      "    # use quadratic interpolation around the max\n",
      "    if which != len(fftData)-1:\n",
      "        y0,y1,y2 = np.log(fftData[which-1:which+2:]) #returns the values of the intensity arround the max\n",
      "        x1 = (y2 - y0) * .5 / (2 * y1 - y2 - y0)\n",
      "        # find the frequency and output it\n",
      "        thefreq = (which+x1)*RATE/chunk\n",
      "        freqVec.append(thefreq)\n",
      "        #print \"The freq is %f Hz.\" % (thefreq)\n",
      "    else:\n",
      "        thefreq = which*RATE/chunk\n",
      "        freqVec.extend(thefreq) \n",
      "        #print \"The freq is %f Hz.\" % (thefreq)\n",
      "    # read some more data\n",
      "    data = wf.readframes(chunk)\n",
      "if data:\n",
      "    stream.write(data)\n",
      "stream.close()\n",
      "p.terminate()\n",
      "\n",
      "freqVec = np.asarray(freqVec)"
     ],
     "language": "python",
     "metadata": {},
     "outputs": [
      {
       "output_type": "stream",
       "stream": "stdout",
       "text": [
        "1024\n",
        "chunck:  1024 rate: 192000 swidth: 2 N frames 200000\n"
       ]
      }
     ],
     "prompt_number": 57
    },
    {
     "cell_type": "code",
     "collapsed": false,
     "input": [
      "outFig = outD+\"/\"+BName+\"-pitch-ws%s.pdf\"%chunk \n",
      "pl.plot(freqVec, 'bo' )\n",
      "pl.savefig(outFig)"
     ],
     "language": "python",
     "metadata": {},
     "outputs": [
      {
       "metadata": {},
       "output_type": "display_data",
       "png": "[encoded data removed]",
       "text": [
        "<matplotlib.figure.Figure at 0x38f2350>"
       ]
      }
     ],
     "prompt_number": 58
    },
    {
     "cell_type": "heading",
     "level": 3,
     "metadata": {},
     "source": [
      "Save data"
     ]
    },
    {
     "cell_type": "code",
     "collapsed": false,
     "input": [
      "#t = np.arange(0,tf, \n",
      "outF = outD+\"/\"+BName+\"-pitch-ws%s.dat\"%chunk \n",
      "print outF\n",
      "\n",
      "N = len(freqVec)\n",
      "t = np.linspace(0, 1.0*NFr/RATE, N)\n",
      "print len(t), NFr\n",
      "allD = np.hstack(( t.reshape((N,1)), freqVec.reshape((N,1)) ) )\n",
      "print np.shape(allD), np.shape(t), np.shape(freqVec)\n",
      "pl.savetxt(outF, allD)"
     ],
     "language": "python",
     "metadata": {},
     "outputs": [
      {
       "output_type": "stream",
       "stream": "stdout",
       "text": [
        "/home/florencia/whales/data/mySamples/training/NKW-06/NKW-06-AN-A-110708_T148_22_22_05-pitch-ws1024.dat\n",
        "128 131841\n",
        "(128, 2) (128,) (128,)\n"
       ]
      }
     ],
     "prompt_number": 23
    },
    {
     "cell_type": "heading",
     "level": 4,
     "metadata": {},
     "source": [
      "Modified"
     ]
    },
    {
     "cell_type": "code",
     "collapsed": false,
     "input": [
      "freqVec = []\n",
      "\n",
      "# open wav and read its properties\n",
      "wf = wave.open(inF, 'rb')\n",
      "swidth = wf.getsampwidth() #lenth of the sample\n",
      "RATE = wf.getframerate() # samp rate\n",
      "print \"wav file\", RATE, swidth\n",
      "\n",
      "# sapling\n",
      "chunk = 2048 # size of the sampling window\n",
      "\n",
      "# read some data\n",
      "data = wf.readframes(chunk)"
     ],
     "language": "python",
     "metadata": {},
     "outputs": [
      {
       "output_type": "stream",
       "stream": "stdout",
       "text": [
        "48000 2\n"
       ]
      }
     ],
     "prompt_number": 54
    },
    {
     "cell_type": "heading",
     "level": 3,
     "metadata": {},
     "source": [
      "pitch track"
     ]
    },
    {
     "cell_type": "code",
     "collapsed": false,
     "input": [
      "files = []\n",
      "wavD = \"/home/florencia/whales/data/mySamples/training/NKW-33/\"\n",
      "for file in os.listdir(wavD):\n",
      "    if file.endswith(\".wav\"):\n",
      "        files.append(wavD+file)        \n",
      "\n",
      "for inF in files:\n",
      "    print inF\n",
      "    outD = '/'.join(inF.split('/')[:-1])\n",
      "    BName = inF.split('/')[-1].split('.wav')[0]\n",
      "    print \"\\noutDir:\", outD, \"\\nbase name:\", BName\n",
      "        \n",
      "    chunk = 2**11\n",
      "    print chunk\n",
      "    \n",
      "    freqVec = []\n",
      "    \n",
      "    # open up a wave\n",
      "    wf = wave.open(inF, 'rb')\n",
      "    swidth = wf.getsampwidth()\n",
      "    RATE = wf.getframerate()\n",
      "    \n",
      "    print chunk, RATE\n",
      "    # use a Blackman window\n",
      "    window = np.blackman(chunk)\n",
      "    # open stream\n",
      "    p = pyaudio.PyAudio()\n",
      "    stream = p.open(format =\n",
      "                    p.get_format_from_width(wf.getsampwidth()),\n",
      "                    channels = wf.getnchannels(),\n",
      "                    rate = RATE,\n",
      "                    output = True)\n",
      "    \n",
      "    # read some data\n",
      "    data = wf.readframes(chunk)\n",
      "    # play stream and find the frequency of each chunk\n",
      "    while len(data) == chunk*swidth:\n",
      "        # write data out to the audio stream\n",
      "        stream.write(data)\n",
      "        # unpack the data and times by the hamming window\n",
      "        indata = np.array(wave.struct.unpack(\"%dh\"%(len(data)/swidth),\\\n",
      "                                             data))*window\n",
      "        # Take the fft and square each value\n",
      "        fftData=abs(np.fft.rfft(indata))**2\n",
      "        # find the maximum\n",
      "        which = fftData[1:].argmax() + 1\n",
      "        # use quadratic interpolation around the max\n",
      "        if which != len(fftData)-1:\n",
      "            y0,y1,y2 = np.log(fftData[which-1:which+2:])\n",
      "            x1 = (y2 - y0) * .5 / (2 * y1 - y2 - y0)\n",
      "            # find the frequency and output it\n",
      "            thefreq = (which+x1)*RATE/chunk\n",
      "            freqVec.append(thefreq)\n",
      "            #print \"The freq is %f Hz.\" % (thefreq)\n",
      "        else:\n",
      "            thefreq = which*RATE/chunk\n",
      "            freqVec.extend(thefreq)\n",
      "            #print \"The freq is %f Hz.\" % (thefreq)\n",
      "        # read some more data\n",
      "        data = wf.readframes(chunk)\n",
      "    if data:\n",
      "        stream.write(data)\n",
      "    stream.close()\n",
      "    p.terminate()\n",
      "    \n",
      "    outFig = outD+\"/\"+BName+\"-pitch-ws%s.pdf\"%chunk \n",
      "    pl.plot(freqVec, 'bo' )\n",
      "    pl.savefig(outFig)"
     ],
     "language": "python",
     "metadata": {},
     "outputs": [
      {
       "output_type": "stream",
       "stream": "stdout",
       "text": [
        "/home/florencia/whales/data/mySamples/training/NKW-33/NKW-33-AN-A-110708_T148_22_41_30.wav\n",
        "\n",
        "outDir: /home/florencia/whales/data/mySamples/training/NKW-33 \n",
        "base name: NKW-33-AN-A-110708_T148_22_41_30\n",
        "2048\n",
        "2048 48000\n",
        "/home/florencia/whales/data/mySamples/training/NKW-33/NKW-33-AN-A-110708_T147_21_58_51.wav"
       ]
      },
      {
       "output_type": "stream",
       "stream": "stdout",
       "text": [
        "\n",
        "\n",
        "outDir: /home/florencia/whales/data/mySamples/training/NKW-33 \n",
        "base name: NKW-33-AN-A-110708_T147_21_58_51\n",
        "2048\n",
        "2048 48000\n",
        "/home/florencia/whales/data/mySamples/training/NKW-33/NKW-33-AN-B-110708_T145_21_08_01.wav"
       ]
      },
      {
       "output_type": "stream",
       "stream": "stdout",
       "text": [
        "\n",
        "\n",
        "outDir: /home/florencia/whales/data/mySamples/training/NKW-33 \n",
        "base name: NKW-33-AN-B-110708_T145_21_08_01\n",
        "2048\n",
        "2048 48000\n",
        "/home/florencia/whales/data/mySamples/training/NKW-33/NKW-33-AN-A-110708_T148_22_40_48.wav"
       ]
      },
      {
       "output_type": "stream",
       "stream": "stdout",
       "text": [
        "\n",
        "\n",
        "outDir: /home/florencia/whales/data/mySamples/training/NKW-33 \n",
        "base name: NKW-33-AN-A-110708_T148_22_40_48\n",
        "2048\n",
        "2048 48000\n",
        "/home/florencia/whales/data/mySamples/training/NKW-33/NKW-33-AN-A-110708_T147_21_54_49.wav"
       ]
      },
      {
       "output_type": "stream",
       "stream": "stdout",
       "text": [
        "\n",
        "\n",
        "outDir: /home/florencia/whales/data/mySamples/training/NKW-33 \n",
        "base name: NKW-33-AN-A-110708_T147_21_54_49\n",
        "2048\n",
        "2048 48000\n",
        "/home/florencia/whales/data/mySamples/training/NKW-33/NKW-33-AN-A-110708_T147_22_06_17.wav"
       ]
      },
      {
       "output_type": "stream",
       "stream": "stdout",
       "text": [
        "\n",
        "\n",
        "outDir: /home/florencia/whales/data/mySamples/training/NKW-33 \n",
        "base name: NKW-33-AN-A-110708_T147_22_06_17\n",
        "2048\n",
        "2048 48000\n",
        "/home/florencia/whales/data/mySamples/training/NKW-33/NKW-33-AN-A-110708_T147_21_57_26.wav"
       ]
      },
      {
       "output_type": "stream",
       "stream": "stdout",
       "text": [
        "\n",
        "\n",
        "outDir: /home/florencia/whales/data/mySamples/training/NKW-33 \n",
        "base name: NKW-33-AN-A-110708_T147_21_57_26\n",
        "2048\n",
        "2048 48000\n",
        "/home/florencia/whales/data/mySamples/training/NKW-33/NKW-33-AN-A-110708_T147_21_54_29.wav"
       ]
      },
      {
       "output_type": "stream",
       "stream": "stdout",
       "text": [
        "\n",
        "\n",
        "outDir: /home/florencia/whales/data/mySamples/training/NKW-33 \n",
        "base name: NKW-33-AN-A-110708_T147_21_54_29\n",
        "2048\n",
        "2048 48000\n",
        "/home/florencia/whales/data/mySamples/training/NKW-33/NKW-33-AN-A-110708_T148_22_40_32.wav"
       ]
      },
      {
       "output_type": "stream",
       "stream": "stdout",
       "text": [
        "\n",
        "\n",
        "outDir: /home/florencia/whales/data/mySamples/training/NKW-33 \n",
        "base name: NKW-33-AN-A-110708_T148_22_40_32\n",
        "2048\n",
        "2048 48000\n"
       ]
      },
      {
       "output_type": "display_data",
       "png": "[encoded data removed]"
      }
     ],
     "prompt_number": 6
    },
    {
     "cell_type": "heading",
     "level": 2,
     "metadata": {},
     "source": [
      "cepstrum traking"
     ]
    },
    {
     "cell_type": "code",
     "collapsed": false,
     "input": [
      "files = []\n",
      "wavD = \"/home/florencia/whales/data/mySamples/wavelets/\"\n",
      "for file in os.listdir(wavD):\n",
      "    if file.endswith(\".wav\"):\n",
      "        files.append(wavD+file)        \n",
      "\n",
      "\n",
      "for inF in files:\n",
      "    print inF\n",
      "    outD = '/'.join(inF.split('/')[:-1])\n",
      "    BName = inF.split('/')[-1].split('.wav')[0]\n",
      "    print \"\\noutDir:\", outD, \"\\nbase name:\", BName\n",
      "        \n",
      "    chunk = 2**10\n",
      "    print chunk\n",
      "    \n",
      "    freqVec = []\n",
      "    \n",
      "    # open up a wave\n",
      "    wf = wave.open(inF, 'rb')\n",
      "    swidth = wf.getsampwidth()\n",
      "    RATE = wf.getframerate()\n",
      "    \n",
      "    print chunk, RATE\n",
      "    # use a Blackman window\n",
      "    window = np.blackman(chunk)\n",
      "    # open stream\n",
      "    p = pyaudio.PyAudio()\n",
      "    stream = p.open(format =\n",
      "                    p.get_format_from_width(wf.getsampwidth()),\n",
      "                    channels = wf.getnchannels(),\n",
      "                    rate = RATE,\n",
      "                    output = True)\n",
      "    \n",
      "    # read some data\n",
      "    data = wf.readframes(chunk)\n",
      "    # play stream and find the frequency of each chunk\n",
      "    while len(data) == chunk*swidth:\n",
      "        # write data out to the audio stream\n",
      "        stream.write(data)\n",
      "        # unpack the data and times by the hamming window\n",
      "        indata = np.array(wave.struct.unpack(\"%dh\"%(len(data)/swidth),\\\n",
      "                                             data))*window\n",
      "        # Take the fft and square each value\n",
      "        ##fftData=abs(np.fft.fft(abs(np.fft.rfft(indata))**2))\n",
      "        fftData=abs(np.fft.rfft(indata))**2\n",
      "        # find the maximum\n",
      "        which = fftData[1:].argmax() + 1\n",
      "        # use quadratic interpolation around the max\n",
      "        if which != len(fftData)-1:\n",
      "            y0,y1,y2 = np.log(fftData[which-1:which+2:])\n",
      "            x1 = (y2 - y0) * .5 / (2 * y1 - y2 - y0)\n",
      "            # find the frequency and output it\n",
      "            thefreq = (which+x1)*RATE/chunk\n",
      "            freqVec.append(thefreq)\n",
      "            #print \"The freq is %f Hz.\" % (thefreq)\n",
      "        else:\n",
      "            thefreq = which*RATE/chunk\n",
      "            freqVec.append(thefreq)\n",
      "            #print \"The freq is %f Hz.\" % (thefreq)\n",
      "        # read some more data\n",
      "        data = wf.readframes(chunk)\n",
      "    if data:\n",
      "        stream.write(data)\n",
      "    stream.close()\n",
      "    p.terminate()\n",
      "    \n",
      "    outFig = outD+\"/\"+BName+\"-pitch-ws%s.pdf\"%chunk \n",
      "    pl.plot(freqVec, 'bo' )\n",
      "    pl.savefig(outFig)"
     ],
     "language": "python",
     "metadata": {},
     "outputs": [
      {
       "output_type": "stream",
       "stream": "stdout",
       "text": [
        "/home/florencia/whales/data/mySamples/wavelets/NKW-06-B1.wav\n",
        "\n",
        "outDir: /home/florencia/whales/data/mySamples/wavelets \n",
        "base name: NKW-06-B1\n",
        "1024\n",
        "1024 48000\n",
        "/home/florencia/whales/data/mySamples/wavelets/NKW-33-A2.wav"
       ]
      },
      {
       "output_type": "stream",
       "stream": "stdout",
       "text": [
        "\n",
        "\n",
        "outDir: /home/florencia/whales/data/mySamples/wavelets \n",
        "base name: NKW-33-A2\n",
        "1024\n",
        "1024 48000\n",
        "/home/florencia/whales/data/mySamples/wavelets/NKW-06-A1.wav"
       ]
      },
      {
       "output_type": "stream",
       "stream": "stdout",
       "text": [
        "\n",
        "\n",
        "outDir: /home/florencia/whales/data/mySamples/wavelets \n",
        "base name: NKW-06-A1\n",
        "1024\n",
        "1024 48000\n",
        "/home/florencia/whales/data/mySamples/wavelets/NKW-33-B1.wav"
       ]
      },
      {
       "output_type": "stream",
       "stream": "stdout",
       "text": [
        "\n",
        "\n",
        "outDir: /home/florencia/whales/data/mySamples/wavelets \n",
        "base name: NKW-33-B1\n",
        "1024\n",
        "1024 48000\n",
        "/home/florencia/whales/data/mySamples/wavelets/NKW-06-A2.wav"
       ]
      },
      {
       "output_type": "stream",
       "stream": "stdout",
       "text": [
        "\n",
        "\n",
        "outDir: /home/florencia/whales/data/mySamples/wavelets \n",
        "base name: NKW-06-A2\n",
        "1024\n",
        "1024 48000\n",
        "/home/florencia/whales/data/mySamples/wavelets/NKW-33-A1.wav"
       ]
      },
      {
       "output_type": "stream",
       "stream": "stdout",
       "text": [
        "\n",
        "\n",
        "outDir: /home/florencia/whales/data/mySamples/wavelets \n",
        "base name: NKW-33-A1\n",
        "1024\n",
        "1024 48000\n"
       ]
      },
      {
       "output_type": "display_data",
       "png": "[encoded data removed]"
      }
     ],
     "prompt_number": 10
    },
    {
     "cell_type": "heading",
     "level": 3,
     "metadata": {},
     "source": [
      "fitting finding the maximums"
     ]
    },
    {
     "cell_type": "code",
     "collapsed": false,
     "input": [
      "xL = 100\n",
      "data = np.reshape( 1.0*np.random.geometric(p=0.5, size = 2000)/11, (20,xL))\n",
      "pl.imshow(data, interpolation='nearest')\n",
      "#pl.colorbar()"
     ],
     "language": "python",
     "metadata": {},
     "outputs": [
      {
       "output_type": "pyout",
       "prompt_number": 71,
       "text": [
        "<matplotlib.image.AxesImage at 0x601df90>"
       ]
      },
      {
       "output_type": "display_data",
       "png": "[encoded data removed]"
      }
     ],
     "prompt_number": 71
    },
    {
     "cell_type": "code",
     "collapsed": false,
     "input": [
      "x = np.arange(xL)\n",
      "y = np.sin(x)\n",
      "#A = np.zeros((20, xL))\n",
      "\n",
      "print np.shape(A)\n",
      "A = data[:]\n",
      "for i in np.arange(90):\n",
      "    A[5*np.sin(0.3*i)-8, i] = 2\n"
     ],
     "language": "python",
     "metadata": {},
     "outputs": [
      {
       "output_type": "stream",
       "stream": "stdout",
       "text": [
        "(20, 100)\n"
       ]
      }
     ],
     "prompt_number": 74
    },
    {
     "cell_type": "code",
     "collapsed": false,
     "input": [
      "pl.imshow(A, interpolation='nearest')\n"
     ],
     "language": "python",
     "metadata": {},
     "outputs": [
      {
       "output_type": "pyout",
       "prompt_number": 78,
       "text": [
        "<matplotlib.image.AxesImage at 0x690f510>"
       ]
      },
      {
       "output_type": "display_data",
       "png": "[encoded data removed]"
      }
     ],
     "prompt_number": 78
    },
    {
     "cell_type": "code",
     "collapsed": false,
     "input": [],
     "language": "python",
     "metadata": {},
     "outputs": []
    }
   ],
   "metadata": {}
  }
 ]
}