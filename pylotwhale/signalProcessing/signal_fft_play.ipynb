{
 "metadata": {
  "name": ""
 },
 "nbformat": 3,
 "nbformat_minor": 0,
 "worksheets": [
  {
   "cells": [
    {
     "cell_type": "code",
     "collapsed": false,
     "input": [
      "import pylab as pl\n",
      "import numpy as np\n",
      "import scikits.audiolab as al\n",
      "import scipy.io.wavfile as wavT\n"
     ],
     "language": "python",
     "metadata": {},
     "outputs": [],
     "prompt_number": 1
    },
    {
     "cell_type": "code",
     "collapsed": false,
     "input": [
      "def makegraph(data, filename):\n",
      "    pl.clf()\n",
      "    pl.plot(data)\n",
      "    pl.savefig(filename)"
     ],
     "language": "python",
     "metadata": {},
     "outputs": [],
     "prompt_number": 2
    },
    {
     "cell_type": "code",
     "collapsed": false,
     "input": [
      "fileN= '/home/florencia/whales/reports/NLP/manuscript/supplement/wavs/B_f124-1_/WAV_0124_001-48kHz_0-30sec.wav'\n",
      "fileN = '/home/florencia/whales/data/mySamples/whales/PWcallSet/NPW-056i-J.wav'\n",
      "#waveform, sRate, more = al.wavread(fileN)\n",
      "sRate, waveform = wavT.read(fileN)\n",
      "NwavF = len(waveform)\n",
      "nuMax = 1.0*sRate/2\n",
      "mu = np.mean(waveform)\n",
      "print sRate, NwavF, nuMax, mu"
     ],
     "language": "python",
     "metadata": {},
     "outputs": [
      {
       "output_type": "stream",
       "stream": "stdout",
       "text": [
        "48000 90288 24000.0 -2.852549619\n"
       ]
      }
     ],
     "prompt_number": 2
    },
    {
     "cell_type": "code",
     "collapsed": false,
     "input": [
      "x =  np.arange(256)\n",
      "sin1=np.sin(2*np.pi*(1250.0/10000)*x)\n",
      "sin2=np.sin(2*np.pi*(625.0/10000)*x)\n",
      "sig = sin1 + sin2\n",
      "pl.plot(sig)\n",
      "\n",
      "data = abs(np.fft.rfft(sig))\n",
      "pl.plot(data)"
     ],
     "language": "python",
     "metadata": {},
     "outputs": [
      {
       "metadata": {},
       "output_type": "pyout",
       "prompt_number": 71,
       "text": [
        "[<matplotlib.lines.Line2D at 0x7f7c79c8c990>]"
       ]
      },
      {
       "metadata": {},
       "output_type": "display_data",
       "png": "[encoded data removed]",
       "text": [
        "<matplotlib.figure.Figure at 0x7f7c7a689a90>"
       ]
      }
     ],
     "prompt_number": 71
    },
    {
     "cell_type": "code",
     "collapsed": false,
     "input": [
      "# saves the slow version of the orginal sound\n",
      "#wavT.write( '/home/florencia/Desktop/slowTune.wav', sRate/4, waveform)"
     ],
     "language": "python",
     "metadata": {},
     "outputs": [],
     "prompt_number": 96
    },
    {
     "cell_type": "code",
     "collapsed": false,
     "input": [
      "delta = int(sRate*0.9)\n",
      "NFFT = 2**14\n",
      "print delta, NFFT\n",
      "data = abs(np.fft.rfft(waveform[delta:delta+NFFT]))\n",
      "pl.plot(np.linspace(0, sRate/2.0, len(data)),data)\n",
      "#pl.ylim(0,100)\n",
      "pl.xlim(0,20000)"
     ],
     "language": "python",
     "metadata": {},
     "outputs": [
      {
       "output_type": "stream",
       "stream": "stdout",
       "text": [
        "43200 16384\n"
       ]
      },
      {
       "metadata": {},
       "output_type": "pyout",
       "prompt_number": 85,
       "text": [
        "(0, 20000)"
       ]
      },
      {
       "metadata": {},
       "output_type": "display_data",
       "png": "[encoded data removed]",
       "text": [
        "<matplotlib.figure.Figure at 0x7f7c79e14e10>"
       ]
      }
     ],
     "prompt_number": 85
    },
    {
     "cell_type": "code",
     "collapsed": false,
     "input": [
      "li=[1,2,3,4,5,6]\n",
      "li[1:3]"
     ],
     "language": "python",
     "metadata": {},
     "outputs": [
      {
       "metadata": {},
       "output_type": "pyout",
       "prompt_number": 69,
       "text": [
        "[2, 3]"
       ]
      }
     ],
     "prompt_number": 69
    },
    {
     "cell_type": "code",
     "collapsed": false,
     "input": [],
     "language": "python",
     "metadata": {},
     "outputs": [
      {
       "metadata": {},
       "output_type": "pyout",
       "prompt_number": 80,
       "text": [
        "(48000, array([-95, -90, -86, ...,  -5,  -7, -11], dtype=int16))"
       ]
      }
     ],
     "prompt_number": 80
    },
    {
     "cell_type": "code",
     "collapsed": false,
     "input": [
      "rWav.read(fileN)"
     ],
     "language": "python",
     "metadata": {},
     "outputs": [
      {
       "metadata": {},
       "output_type": "pyout",
       "prompt_number": 83,
       "text": [
        "(48000, array([-95, -90, -86, ...,  -5,  -7, -11], dtype=int16))"
       ]
      }
     ],
     "prompt_number": 83
    },
    {
     "cell_type": "code",
     "collapsed": false,
     "input": [
      "al.play(waveform)"
     ],
     "language": "python",
     "metadata": {},
     "outputs": [
      {
       "output_type": "stream",
       "stream": "stdout",
       "text": [
        "Period size is 64 , Buffer size is 22050\n"
       ]
      }
     ],
     "prompt_number": 5
    },
    {
     "cell_type": "code",
     "collapsed": false,
     "input": [],
     "language": "python",
     "metadata": {},
     "outputs": []
    }
   ],
   "metadata": {}
  }
 ]
}