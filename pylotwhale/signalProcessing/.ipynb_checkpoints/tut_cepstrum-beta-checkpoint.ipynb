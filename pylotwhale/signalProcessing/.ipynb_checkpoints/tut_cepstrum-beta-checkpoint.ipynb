{
 "metadata": {
  "name": ""
 },
 "nbformat": 3,
 "nbformat_minor": 0,
 "worksheets": [
  {
   "cells": [
    {
     "cell_type": "code",
     "collapsed": false,
     "input": [
      "from __future__ import print_function\n",
      "import os\n",
      "import numpy as np\n",
      "import matplotlib.pyplot as plt\n",
      "\n",
      "%matplotlib inline"
     ],
     "language": "python",
     "metadata": {},
     "outputs": [],
     "prompt_number": 5
    },
    {
     "cell_type": "code",
     "collapsed": false,
     "input": [
      "def mel2f(m):\n",
      "    return(700*(np.exp(m/1125) - 1))\n",
      "\n",
      "def f2mel(f):\n",
      "    return(1125.0 * np.log(1+ f/700.0))"
     ],
     "language": "python",
     "metadata": {},
     "outputs": [],
     "prompt_number": 6
    },
    {
     "cell_type": "code",
     "collapsed": false,
     "input": [
      "print(\"300Hz:\", f2mel(300), \"mel \\n8KHz:\", f2mel(8000),  \"mel\")"
     ],
     "language": "python",
     "metadata": {},
     "outputs": [
      {
       "output_type": "stream",
       "stream": "stdout",
       "text": [
        "300Hz: 401.259311931 mel \n",
        "8KHz: 2834.9977158 mel\n"
       ]
      }
     ],
     "prompt_number": 7
    },
    {
     "cell_type": "code",
     "collapsed": false,
     "input": [
      "m = np.linspace(f2mel(300), f2mel(8*1000), 10)\n",
      "f = map(mel2f, m)\n",
      "\n",
      "fig, ax = plt.subplots()\n",
      "ax.plot(m, f, '-bo')\n",
      "ax.set_xlabel('mel')\n",
      "ax.set_ylabel('frequencies (Hhz)')"
     ],
     "language": "python",
     "metadata": {},
     "outputs": [
      {
       "metadata": {},
       "output_type": "pyout",
       "prompt_number": 8,
       "text": [
        "<matplotlib.text.Text at 0x7fba6b6c8710>"
       ]
      },
      {
       "metadata": {},
       "output_type": "display_data",
       "png": "[encoded data removed]",
       "text": [
        "<matplotlib.figure.Figure at 0x7fba6c440390>"
       ]
      }
     ],
     "prompt_number": 8
    },
    {
     "cell_type": "code",
     "collapsed": false,
     "input": [
      "import features as sfe\n",
      "import sys\n",
      "\n",
      "import signalTools_beta as sT\n",
      "sys.path.append('/home/florencia/whales/scripts/orchive/')"
     ],
     "language": "python",
     "metadata": {},
     "outputs": [],
     "prompt_number": 9
    },
    {
     "cell_type": "code",
     "collapsed": false,
     "input": [
      "wF = '/home/florencia/whales/data/mySamples/whales/tapes/NPW/B/wav/WAV_0111_001-48kHz_0-30sec.wav'\n",
      "bN = os.path.basename(wF).replace('.wav', '')\n",
      "\n",
      "## waveform\n",
      "fs, waveForm0 = sT.wavfile.read(wF)\n",
      "print(\"wavefrom:\", np.shape(waveForm0), \"sampling rate:\", fs )"
     ],
     "language": "python",
     "metadata": {},
     "outputs": [
      {
       "output_type": "stream",
       "stream": "stdout",
       "text": [
        "wavefrom: (1440000,) sampling rate: 48000\n"
       ]
      }
     ],
     "prompt_number": 10
    },
    {
     "cell_type": "code",
     "collapsed": false,
     "input": [
      "M, f = sfe.fbank(waveForm0, samplerate=fs, nfft=2**9)#, ceplifter=30)\n",
      "#M2 = sfe.mfcc(waveForm0, samplerate=fs, nfft=2**9, ceplifter=22)\n",
      "#M3 = M1-M2\n",
      "\n",
      "print(np.shape(M), np.min(M), np.shape(f))#, f[:2])\n",
      "plt.imshow((M).T, aspect='auto', interpolation='nearest')\n"
     ],
     "language": "python",
     "metadata": {},
     "outputs": [
      {
       "output_type": "stream",
       "stream": "stdout",
       "text": [
        "(2999, 26) 1.9491304473 (2999,)\n"
       ]
      },
      {
       "metadata": {},
       "output_type": "pyout",
       "prompt_number": 23,
       "text": [
        "<matplotlib.image.AxesImage at 0x7fba6b30df10>"
       ]
      },
      {
       "metadata": {},
       "output_type": "display_data",
       "png": "[encoded data removed]",
       "text": [
        "<matplotlib.figure.Figure at 0x7fba6af7dc50>"
       ]
      }
     ],
     "prompt_number": 23
    },
    {
     "cell_type": "code",
     "collapsed": false,
     "input": [
      "sfe"
     ],
     "language": "python",
     "metadata": {},
     "outputs": []
    }
   ],
   "metadata": {}
  }
 ]
}