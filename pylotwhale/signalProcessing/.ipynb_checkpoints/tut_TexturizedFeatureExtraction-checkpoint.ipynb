{
 "metadata": {
  "name": ""
 },
 "nbformat": 3,
 "nbformat_minor": 0,
 "worksheets": [
  {
   "cells": [
    {
     "cell_type": "code",
     "collapsed": false,
     "input": [
      "from __future__ import print_function\n",
      "\n",
      "import scipy.signal as signal\n",
      "\n",
      "import numpy as np\n",
      "import matplotlib\n",
      "import matplotlib.pyplot as plt\n",
      "\n",
      "%matplotlib inline\n",
      "\n",
      "import sys\n",
      "import os\n",
      "\n",
      "import signalTools_beta as sT\n",
      "sys.path.append('/home/florencia/whales/scripts/orchive/')\n",
      "import MLtools_beta as myML\n",
      "import aupTextFile2mtlFile as a2m # annotation tools\n",
      "\n",
      "from features import mfcc\n",
      "from features import logfbank\n",
      "\n",
      "from sklearn.datasets import load_svmlight_file\n",
      "from sklearn import cross_validation\n",
      "from sklearn import svm\n",
      "from sklearn.metrics import confusion_matrix\n",
      "from sklearn import preprocessing\n",
      "import pandas as pd\n",
      "\n",
      "reload(sT)"
     ],
     "language": "python",
     "metadata": {},
     "outputs": [
      {
       "metadata": {},
       "output_type": "pyout",
       "prompt_number": 1,
       "text": [
        "<module 'signalTools_beta' from 'signalTools_beta.pyc'>"
       ]
      }
     ],
     "prompt_number": 1
    },
    {
     "cell_type": "markdown",
     "metadata": {},
     "source": [
      "##Feature extraction functions"
     ]
    },
    {
     "cell_type": "markdown",
     "metadata": {},
     "source": [
      "###Load train data"
     ]
    },
    {
     "cell_type": "code",
     "collapsed": false,
     "input": [
      "wF = '/home/florencia/whales/data/mySamples/whales/tapes/NPW/H/wav/WAV_2009-05-22-0021_001_48kHzsamp.WAV'\n",
      "#wF = '/home/florencia/whales/data/mySamples/whales/PWcallSet/groupJ/wav/NPW-021-J-B-090713_f50-3_00_02_18.wav'\n",
      "wavDN = os.path.dirname(wF)\n",
      "bN = os.path.splitext(os.path.basename(wF))[0]\n",
      "imgD = wavDN.replace('/wav', '/images')\n",
      "\n",
      "## waveform\n",
      "#fs, waveForm = sT.wavfile.read(wF)\n",
      "waveForm, fs = sT.wav2waveform(wF)\n",
      "print(\"wavefrom:\", np.shape(waveForm), \"sampling rate:\", fs)\n",
      "\n",
      "##annotations\n",
      "aupFi = os.path.join('/home/florencia/whales/data/mySamples/whales/tapes/NPW/H/annotations/', bN+'.txt')\n",
      "#aupFi = os.path.join('/home/florencia/whales/data/mySamples/whales/PWcallSet/groupJ/annotations/', bN + '.txt' )\n",
      "annotLi_t = sT.aupTxt2annTu(aupFi) ## in sample units\n",
      "#annLi_t=[(a2m.sampleIndex2sec(samp, fs), l) for (samp, l) in annotLi_s] ## in time units\n",
      "print(\"annotations:\", annotLi_t[:3])"
     ],
     "language": "python",
     "metadata": {},
     "outputs": [
      {
       "output_type": "stream",
       "stream": "stdout",
       "text": [
        "wavefrom: (27748204,) sampling rate: 48000\n",
        "annotations: [(0, 'b'), (2.193265, 'c'), (3.27692, 'b')]\n"
       ]
      }
     ],
     "prompt_number": 2
    },
    {
     "cell_type": "markdown",
     "metadata": {},
     "source": [
      "###Feature extraction settings"
     ]
    },
    {
     "cell_type": "code",
     "collapsed": false,
     "input": [
      "#reload(sT)\n",
      "\n",
      "NFTTpow = 9\n",
      "TextWS=0.10\n",
      "Nceps=2**4\n",
      "featExtract=sT.cepstralRep\n",
      "\n",
      "featConstD = { \"NFTTpow\": NFTTpow, \"textWS\" : TextWS, \n",
      "                \"Nceps\" : Nceps} #only for MFCC\n",
      "\n",
      "#setStr='cepstralRepFeatures-'+'-'.join([str(c)+str(v) for (c,v) in featConstD.items()])\n",
      "#featbN = bN + '-' +setStr\n",
      "#print(\"features bN:\", featbN)\n",
      "\n",
      "featConstD[\"featExtrFun\"]= featExtract"
     ],
     "language": "python",
     "metadata": {},
     "outputs": [],
     "prompt_number": 5
    },
    {
     "cell_type": "markdown",
     "metadata": {},
     "source": [
      "###Feature matrix"
     ]
    },
    {
     "cell_type": "code",
     "collapsed": false,
     "input": [
      "M0, y0_names, featN, setStr =  sT.waveform2featMatrix(waveForm, fs, annotations=annotLi_t, **featConstD)\n",
      "print(setStr)\n",
      "datO = myML.dataObj(M0, attrNames=featN, target=y0_names, std_features=True)\n",
      "M = datO.X\n",
      "y_num = datO.y\n",
      "labsD = datO.targetNumDict()\n",
      "\n",
      "print(\"insataces:\", datO.m_instances, \"\\natribuites:\", datO.n_attr, \"\\nTarget dict\", labsD)\n",
      "print(datO.targetFrequencies())\n",
      "datO.visualize()"
     ],
     "language": "python",
     "metadata": {},
     "outputs": [
      {
       "output_type": "stream",
       "stream": "stdout",
       "text": [
        "(6021, 32)\n",
        "m"
       ]
      },
      {
       "output_type": "stream",
       "stream": "stdout",
       "text": [
        " 6021 n 32 578.087583333\n",
        "target array (6021,)\n",
        "NFFT512-OV50-Nceps16-txWin100ms18-TxWinNormalized"
       ]
      },
      {
       "output_type": "stream",
       "stream": "stdout",
       "text": [
        "\n",
        "Annotated data set: set(['x', 'c', 'b'])\n",
        "insataces: 6021 \n",
        "atribuites: 32 \n",
        "Target dict {0: 'b', 1: 'c', 2: 'x'}\n",
        "[('b', 4709), ('c', 1281), ('x', 31)]\n"
       ]
      },
      {
       "metadata": {},
       "output_type": "display_data",
       "png": "[encoded data removed]",
       "text": [
        "<matplotlib.figure.Figure at 0x7fd37e182410>"
       ]
      }
     ],
     "prompt_number": 6
    },
    {
     "cell_type": "markdown",
     "metadata": {},
     "source": [
      "###Train"
     ]
    },
    {
     "cell_type": "code",
     "collapsed": false,
     "input": [
      "X_train, X_test, y_train, y_test = cross_validation.train_test_split(M, y_num, test_size=0.4, random_state=0)\n",
      "kernel = 'linear'\n",
      "\n",
      "for errC in np.linspace(0.1, 100,3):\n",
      "    print(errC)\n",
      "    %time clf=svm.SVC(kernel=kernel, C=errC).fit(X_train, y_train)\n",
      "    s = clf.score(X_test, y_test)\n",
      "    print(\"test (%f):\"%errC, s)\n",
      "    \n",
      "    y_te_pred = clf.predict(X_test)\n",
      "    \n",
      "    cM = confusion_matrix(y_test, y_te_pred)\n",
      "    print(cM, \"\\nfor each category\", cM.diagonal()/(np.sum(cM, axis=1)*1.), cM.diagonal()/(np.sum(cM, axis=0)*1.))\n",
      "    "
     ],
     "language": "python",
     "metadata": {},
     "outputs": [
      {
       "output_type": "stream",
       "stream": "stdout",
       "text": [
        "0.1\n",
        "CPU times: user 226 ms, sys: 0 ns, total: 226 ms"
       ]
      },
      {
       "output_type": "stream",
       "stream": "stdout",
       "text": [
        "\n",
        "Wall time: 226 ms\n",
        "test (0.100000):"
       ]
      },
      {
       "output_type": "stream",
       "stream": "stdout",
       "text": [
        " 0.897882938979\n",
        "[[1869    9    0]\n",
        " [ 226  291    0]\n",
        " [   8    3    3]]"
       ]
      },
      {
       "output_type": "stream",
       "stream": "stdout",
       "text": [
        " \n",
        "for each category [ 0.99520767  0.56286267  0.21428571] [ 0.88873039  0.96039604  1.        ]\n",
        "50.05\n",
        "CPU times: user 6.44 s, sys: 31 \u00b5s, total: 6.44 s"
       ]
      },
      {
       "output_type": "stream",
       "stream": "stdout",
       "text": [
        "\n",
        "Wall time: 6.45 s\n",
        "test (50.050000):"
       ]
      },
      {
       "output_type": "stream",
       "stream": "stdout",
       "text": [
        " 0.906185139062\n",
        "[[1860   18    0]\n",
        " [ 197  320    0]\n",
        " [   9    2    3]]"
       ]
      },
      {
       "output_type": "stream",
       "stream": "stdout",
       "text": [
        " \n",
        "for each category [ 0.99041534  0.61895551  0.21428571] [ 0.90029042  0.94117647  1.        ]\n",
        "100.0\n",
        "CPU times: user 11.2 s, sys: 4.12 ms, total: 11.2 s"
       ]
      },
      {
       "output_type": "stream",
       "stream": "stdout",
       "text": [
        "\n",
        "Wall time: 11.2 s\n",
        "test (100.000000):"
       ]
      },
      {
       "output_type": "stream",
       "stream": "stdout",
       "text": [
        " 0.906185139062\n",
        "[[1860   18    0]\n",
        " [ 197  319    1]\n",
        " [   9    1    4]]"
       ]
      },
      {
       "output_type": "stream",
       "stream": "stdout",
       "text": [
        " \n",
        "for each category [ 0.99041534  0.61702128  0.28571429] [ 0.90029042  0.94378698  0.8       ]\n"
       ]
      }
     ],
     "prompt_number": 7
    },
    {
     "cell_type": "markdown",
     "metadata": {},
     "source": [
      "###Visualize predictions"
     ]
    },
    {
     "cell_type": "code",
     "collapsed": false,
     "input": [
      "matplotlib.rcParams.update({'font.size': 24,'axes.grid':False})\n",
      "\n",
      "outPl = os.path.join(imgD, featbN +'.pdf')\n",
      "\n",
      "myML.plXy(M.T, np.vstack((y_num, y_pred)), plTitle='%.2f'%s, outFig=outPl, y_ix_names=labsD)\n",
      "\n",
      "print(outPl, imgD)\n",
      "print(setStr)"
     ],
     "language": "python",
     "metadata": {},
     "outputs": [
      {
       "output_type": "stream",
       "stream": "stdout",
       "text": [
        "[0, 1, 2] ['b', 'c', 'x']\n",
        "b\n",
        "[0, 1, 2] ['b', 'c', 'x']\n",
        "c\n",
        "[0, 1, 2] ['b', 'c', 'x']\n",
        "x\n",
        "/home/florencia/whales/data/mySamples/whales/tapes/NPW/H/images/WAV_2009-05-22-0021_001_48kHzsamp-cepstralRepFeatures-Nceps16-NFTTpow9-nTextWS10.pdf"
       ]
      },
      {
       "output_type": "stream",
       "stream": "stdout",
       "text": [
        " /home/florencia/whales/data/mySamples/whales/tapes/NPW/H/images\n",
        "cepstralRepFeatures-Nceps16-NFTTpow9-nTextWS10\n"
       ]
      },
      {
       "metadata": {},
       "output_type": "display_data",
       "png": "[encoded data removed]",
       "text": [
        "<matplotlib.figure.Figure at 0x7f6ba7f92c50>"
       ]
      }
     ],
     "prompt_number": 6
    },
    {
     "cell_type": "markdown",
     "metadata": {},
     "source": [
      "### New annotated test set"
     ]
    },
    {
     "cell_type": "code",
     "collapsed": false,
     "input": [
      "#reload(a2m)\n",
      "wF = '/home/florencia/whales/data/mySamples/whales/tapes/NPW/B/wav/WAV_0111_001-48kHz_0-30sec.wav'\n",
      "#wF = '/home/florencia/whales/data/mySamples/whales/PWcallSet/groupJ/wav/NPW-021-J-B-090713_f50-3_00_02_18.wav'\n",
      "\n",
      "wavDN = os.path.dirname(wF)\n",
      "imgD = wavDN.replace('/wav', '/images')\n",
      "bN = os.path.basename(wF).replace('.wav', '')\n",
      "\n",
      "## waveform\n",
      "waveForm_t, fs_t = sT.wav2waveform(wF)\n",
      "print(\"wavefrom:\", np.shape(waveForm_t), \"sampling rate:\", fs_t)\n",
      "\n",
      "## annotations\n",
      "txtFi = os.path.join( wavDN.replace('/wav','/annotations'), bN+'.txt')\n",
      "#txtFi = os.path.join('/home/florencia/whales/data/mySamples/whales/PWcallSet/groupJ/annotations/', bN + '.txt' )\n",
      "\n",
      "annLi0_t = sT.aupTxt2annTu(txtFi) ## in sample units\n",
      "#annLi_t = sT.filterAnnotations(annLi0_t) ## remove buzz\n",
      "print(\"annotations:\", annLi0_t[:3])\n",
      "\n",
      "##### feature extraction\n",
      "M0_t, yt_names, featN_t = sT.waveform2featMatrix(waveForm_t, fs_t, annotations=annLi0_t, **featConstD)\n",
      "\n",
      "testDat = myML.dataObj(M0_t, featN_t, yt_names, std_features=True)\n",
      "\n",
      "## numeric labels\n",
      "y_t_num = datO.tNames2target(yt_names) # read labels into the train dictioanry\n",
      "## preprocess - scale features\n",
      "M_t = testDat.X\n",
      "\n",
      "print(testDat.targetFrequencies())\n",
      "\n",
      "s = clf.score(M_t, y_t_num)\n",
      "print(\"test:\", s)\n",
      "    \n",
      "y_t_pred = clf.predict(M_t)\n",
      "    \n",
      "cM = confusion_matrix(y_t_num, y_t_pred)\n",
      "print(cM)\n",
      "\n",
      "outPl = os.path.join(imgD, bN +'-PRED' + featbN + '.png')\n",
      "myML.plXy(M_t.T, np.vstack((y_t_num, y_t_pred)), plTitle='%.2f'%s, outFig=outPl)#, y_ix_names=labsD\n",
      "print(outPl)\n",
      "\n",
      "## create audacity annotations from predictions\n",
      "tf = 1.0*len(waveForm_t)/fs_t\n",
      "outTxt = os.path.join(wavDN.replace('/wav', '/annotations'), bN + '-PRED' + featbN + '.txt' )\n",
      "a2m.predictions2txt(datO.target2tNames(y_t_pred), outTxt, tf, sections='c')\n",
      "print(outTxt)"
     ],
     "language": "python",
     "metadata": {},
     "outputs": [
      {
       "output_type": "stream",
       "stream": "stdout",
       "text": [
        "wavefrom: (1440000,) sampling rate: 48000\n",
        "annotations: [(0, 'b'), (0.517241, 'c'), (1.290409, 'b')]\n",
        "(562, 32)"
       ]
      },
      {
       "output_type": "stream",
       "stream": "stdout",
       "text": [
        "\n",
        "m"
       ]
      },
      {
       "output_type": "stream",
       "stream": "stdout",
       "text": [
        " 562 n 32 30.0\n",
        "target array (562,)\n",
        "Annotated data set: set(['c', 'b'])\n",
        "[('b', 335), ('c', 227)]\n",
        "test: 0.813167259786\n",
        "[[330   3   2]\n",
        " [ 94 127   6]\n",
        " [  0   0   0]]"
       ]
      },
      {
       "output_type": "stream",
       "stream": "stdout",
       "text": [
        "\n",
        "/home/florencia/whales/data/mySamples/whales/tapes/NPW/B/images/WAV_0111_001-48kHz_0-30sec-PREDWAV_2009-05-22-0021_001_48kHzsamp-cepstralRepFeatures-Nceps16-NFTTpow9-nTextWS10.png"
       ]
      },
      {
       "output_type": "stream",
       "stream": "stdout",
       "text": [
        "\n",
        "/home/florencia/whales/data/mySamples/whales/tapes/NPW/B/annotations/WAV_0111_001-48kHz_0-30sec-PREDWAV_2009-05-22-0021_001_48kHzsamp-cepstralRepFeatures-Nceps16-NFTTpow9-nTextWS10.txt\n"
       ]
      },
      {
       "metadata": {},
       "output_type": "display_data",
       "png": "[encoded data removed]",
       "text": [
        "<matplotlib.figure.Figure at 0x7f6ba658d710>"
       ]
      }
     ],
     "prompt_number": 8
    },
    {
     "cell_type": "markdown",
     "metadata": {},
     "source": [
      "### Predict"
     ]
    },
    {
     "cell_type": "code",
     "collapsed": false,
     "input": [
      "#reload(sT)\n",
      "wF = '/home/florencia/whales/data/mySamples/whales/tapes/NPW/B/wav/WAV_0111_001-48kHz.wav'\n",
      "wF = '/home/florencia/whales/data/mySamples/whales/PWcallSet/groupJ/wav/NPW-021-J-B-090713_f50-3_00_02_18.wav'\n",
      "\n",
      "wavDN = os.path.dirname(wF)\n",
      "imgD = wavDN.replace('/wav', '/images')\n",
      "bN = os.path.basename(wF).replace('.wav', '')\n",
      "\n",
      "## waveform\n",
      "fs_t, waveForm_t = sT.wavfile.read(wF)\n",
      "print(\"wavefrom:\", np.shape(waveForm_t), \"sampling rate:\", fs_t)\n",
      "\n",
      "##### feature extraction\n",
      "M0_t, yt_names, featN_t, _ =  sT.waveform2featMatrix(waveForm_t, fs_t, annotations=None, **featConstD)\n",
      "testDat = myML.dataObj(M0_t, featN_t, target=None, std_features=True)\n",
      "\n",
      "M_t = testDat.X\n",
      "print(\"test:\", s)\n",
      "    \n",
      "y_t_pred = clf.predict(M_t) \n",
      "\n",
      "outPl = os.path.join(imgD, bN +'-PRED' + featbN + '.png')\n",
      "myML.plXy(M_t.T,  y_t_pred, plTitle='predictions', y_ix_names=labsD)# outFig=outPl)#, )\n",
      "print(outPl)\n",
      "\n",
      "## create audacity annotations from predictions\n",
      "tf = 1.0*len(waveForm_t)/fs_t\n",
      "outTxt = os.path.join(wavDN.replace('/wav', '/annotations'), bN + '-PRED' + featbN + '.txt' )\n",
      "a2m.predictions2txt(datO.target2tNames(y_t_pred), outTxt, tf,sections='c')\n",
      "print(outTxt)\n",
      "## filter < 1ms predictions\n",
      "a2m.filterPredictionsForCalls(outTxt)"
     ],
     "language": "python",
     "metadata": {},
     "outputs": [
      {
       "output_type": "stream",
       "stream": "stdout",
       "text": [
        "wavefrom: (100744,) sampling rate: 48000\n",
        "(39, 32)\n",
        "m"
       ]
      },
      {
       "output_type": "stream",
       "stream": "stdout",
       "text": [
        " 39 n 32 2.09883333333\n",
        "target array (39,)\n",
        "Unlabeled data set\n",
        "test: 0.82206405694\n",
        "[0, 1, 2]"
       ]
      },
      {
       "output_type": "stream",
       "stream": "stdout",
       "text": [
        " ['b', 'c', 'x']\n",
        "b\n",
        "[0, 1, 2] ['b', 'c', 'x']\n",
        "c\n",
        "[0, 1, 2] ['b', 'c', 'x']\n",
        "x\n",
        "/home/florencia/whales/data/mySamples/whales/PWcallSet/groupJ/images/NPW-021-J-B-090713_f50-3_00_02_18-PREDWAV_0111_001-48kHz_0-30sec-cepstralRepFeatures-Nceps16-NFTTpow9-nTextWS10.png\n",
        "/home/florencia/whales/data/mySamples/whales/PWcallSet/groupJ/annotations/NPW-021-J-B-090713_f50-3_00_02_18-PREDWAV_0111_001-48kHz_0-30sec-cepstralRepFeatures-Nceps16-NFTTpow9-nTextWS10.txt\n"
       ]
      },
      {
       "metadata": {},
       "output_type": "pyout",
       "prompt_number": 70,
       "text": [
        "'/home/florencia/whales/data/mySamples/whales/PWcallSet/groupJ/annotations/NPW-021-J-B-090713_f50-3_00_02_18-PREDWAV_0111_001-48kHz_0-30sec-cepstralRepFeatures-Nceps16-NFTTpow9-nTextWS10-filtered..txt'"
       ]
      },
      {
       "metadata": {},
       "output_type": "display_data",
       "png": "[encoded data removed]",
       "text": [
        "<matplotlib.figure.Figure at 0x7f8936573650>"
       ]
      }
     ],
     "prompt_number": 70
    },
    {
     "cell_type": "code",
     "collapsed": false,
     "input": [
      "a2m.predictions2txt(datO.target2tNames(y_t_pred), outTxt, tf,sections='c')\n"
     ],
     "language": "python",
     "metadata": {},
     "outputs": [],
     "prompt_number": 71
    },
    {
     "cell_type": "markdown",
     "metadata": {},
     "source": [
      "### Change decimal separator in audacity file"
     ]
    },
    {
     "cell_type": "code",
     "collapsed": false,
     "input": [
      "annF='/home/florencia/whales/data/mySamples/whales/tapes/NPW/H/annotations/WAV_2009-05-22-0021_001_48KHzsamp.txt'\n",
      "\n",
      "a2m.commas2periods(annF)"
     ],
     "language": "python",
     "metadata": {},
     "outputs": [],
     "prompt_number": 3
    },
    {
     "cell_type": "code",
     "collapsed": false,
     "input": [
      "is"
     ],
     "language": "python",
     "metadata": {},
     "outputs": []
    },
    {
     "cell_type": "code",
     "collapsed": false,
     "input": [
      "li=[1,2,3]\n"
     ],
     "language": "python",
     "metadata": {},
     "outputs": [],
     "prompt_number": 6
    },
    {
     "cell_type": "code",
     "collapsed": false,
     "input": [
      "list(None)"
     ],
     "language": "python",
     "metadata": {},
     "outputs": [
      {
       "ename": "TypeError",
       "evalue": "'NoneType' object is not iterable",
       "output_type": "pyerr",
       "traceback": [
        "\u001b[0;31m---------------------------------------------------------------------------\u001b[0m\n\u001b[0;31mTypeError\u001b[0m                                 Traceback (most recent call last)",
        "\u001b[0;32m<ipython-input-7-ee4f639e4738>\u001b[0m in \u001b[0;36m<module>\u001b[0;34m()\u001b[0m\n\u001b[0;32m----> 1\u001b[0;31m \u001b[0mlist\u001b[0m\u001b[0;34m(\u001b[0m\u001b[0mNone\u001b[0m\u001b[0;34m)\u001b[0m\u001b[0;34m\u001b[0m\u001b[0m\n\u001b[0m",
        "\u001b[0;31mTypeError\u001b[0m: 'NoneType' object is not iterable"
       ]
      }
     ],
     "prompt_number": 7
    },
    {
     "cell_type": "code",
     "collapsed": false,
     "input": [
      "for i in []:\n",
      "    print( i)"
     ],
     "language": "python",
     "metadata": {},
     "outputs": [],
     "prompt_number": 11
    },
    {
     "cell_type": "code",
     "collapsed": false,
     "input": [
      "with open('file.txt', 'a') as f:\n",
      "    f.writelines('hola')"
     ],
     "language": "python",
     "metadata": {},
     "outputs": [],
     "prompt_number": 24
    },
    {
     "cell_type": "code",
     "collapsed": false,
     "input": [
      "'-'.join(str(item) for item in np.arange(3))"
     ],
     "language": "python",
     "metadata": {},
     "outputs": [
      {
       "metadata": {},
       "output_type": "pyout",
       "prompt_number": 14,
       "text": [
        "'0-1-2'"
       ]
      }
     ],
     "prompt_number": 14
    },
    {
     "cell_type": "code",
     "collapsed": false,
     "input": [
      "reload(myML)\n"
     ],
     "language": "python",
     "metadata": {},
     "outputs": [
      {
       "metadata": {},
       "output_type": "pyout",
       "prompt_number": 21,
       "text": [
        "<module 'MLtools_beta' from '/home/florencia/whales/scripts/orchive/MLtools_beta.py'>"
       ]
      }
     ],
     "prompt_number": 21
    },
    {
     "cell_type": "code",
     "collapsed": false,
     "input": [
      "myML.printClfScores('test.txt', clf, M0, y_num, l0='')"
     ],
     "language": "python",
     "metadata": {},
     "outputs": [],
     "prompt_number": 22
    },
    {
     "cell_type": "code",
     "collapsed": false,
     "input": [],
     "language": "python",
     "metadata": {},
     "outputs": []
    }
   ],
   "metadata": {}
  }
 ]
}