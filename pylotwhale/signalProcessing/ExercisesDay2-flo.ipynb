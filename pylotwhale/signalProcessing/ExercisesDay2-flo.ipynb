{
 "metadata": {
  "name": "",
  "signature": "sha256:afe48eea982f06b6cdaaff6c6157ab720e837c7afa702e6e19843aa3b32398ea"
 },
 "nbformat": 3,
 "nbformat_minor": 0,
 "worksheets": [
  {
   "cells": [
    {
     "cell_type": "heading",
     "level": 1,
     "metadata": {
      "slideshow": {
       "slide_type": "slide"
      }
     },
     "source": [
      "Exercises Day 2 - Numpy and Matplotlib"
     ]
    },
    {
     "cell_type": "markdown",
     "metadata": {
      "slideshow": {
       "slide_type": "fragment"
      }
     },
     "source": [
      "IMPRS Neurosciences - Python Course, June 26, 2013\n",
      "\n",
      "Exercise by Norma K\u00fchn"
     ]
    },
    {
     "cell_type": "markdown",
     "metadata": {
      "slideshow": {
       "slide_type": "fragment"
      }
     },
     "source": [
      "In this exercise you will learn how to load data from text files, to organize it in numpy arrays and to work with it. You will get introduced to histograms and curve fitting and several other tools from matplotlib and scipy.\n",
      "\n",
      "The exercise will guide you through a simple analysis of electrophysiological data recorded from a retinal ganglion cell in the mouse retina by Michael Weick (Gollisch Lab)."
     ]
    },
    {
     "cell_type": "heading",
     "level": 2,
     "metadata": {
      "slideshow": {
       "slide_type": "slide"
      }
     },
     "source": [
      "1. Loading and organizing data"
     ]
    },
    {
     "cell_type": "markdown",
     "metadata": {
      "slideshow": {
       "slide_type": "fragment"
      }
     },
     "source": [
      "**Useful functions:** `numpy.loadtxt()`, `pylab.hist()`\n",
      "\n",
      "Load the module 'numpy' to load the data."
     ]
    },
    {
     "cell_type": "code",
     "collapsed": false,
     "input": [
      "import numpy as np"
     ],
     "language": "python",
     "metadata": {
      "slideshow": {
       "slide_type": "fragment"
      }
     },
     "outputs": [],
     "prompt_number": 2
    },
    {
     "cell_type": "markdown",
     "metadata": {
      "slideshow": {
       "slide_type": "skip"
      }
     },
     "source": [
      "Load the data from file 'Vtrace.dat' as ascii text and pass it to a variable which you call 'Vtrace'. This might take a few seconds since it is a large data set."
     ]
    },
    {
     "cell_type": "code",
     "collapsed": false,
     "input": [
      "Vtrace = np.loadtxt('Vtrace.dat')"
     ],
     "language": "python",
     "metadata": {
      "slideshow": {
       "slide_type": "fragment"
      }
     },
     "outputs": [],
     "prompt_number": 3
    },
    {
     "cell_type": "markdown",
     "metadata": {
      "slideshow": {
       "slide_type": "skip"
      }
     },
     "source": [
      "This is the voltage trace of a patch clamp recording from a retinal ganglion cell. The trace is sampled with 20 kHz.\n",
      "\n",
      "Create a numpy array 'tbins' which contains the time bins of the voltage trace in steps of 0.00005 s. The array should have the same length as the voltage trace."
     ]
    },
    {
     "cell_type": "heading",
     "level": 2,
     "metadata": {
      "slideshow": {
       "slide_type": "slide"
      }
     },
     "source": [
      "Define the time stamps for the voltage"
     ]
    },
    {
     "cell_type": "code",
     "collapsed": false,
     "input": [
      "tbins = np.arange(0, len(Vtrace-1)/20000., 0.00005)\n",
      "print tbins[0], tbins[-1]\n",
      "\n",
      "# flo: an alternative way with linespace, insted of specifying the step you set up the length fo the vector\n",
      "tbins = np.linspace(0, len(Vtrace)/20000., len(Vtrace))\n",
      "print tbins[0], tbins[-1]"
     ],
     "language": "python",
     "metadata": {
      "slideshow": {
       "slide_type": "skip"
      }
     },
     "outputs": [
      {
       "output_type": "stream",
       "stream": "stdout",
       "text": [
        "0.0 76.70425\n",
        "0.0 76.7043\n"
       ]
      }
     ],
     "prompt_number": 4
    },
    {
     "cell_type": "markdown",
     "metadata": {
      "slideshow": {
       "slide_type": "fragment"
      }
     },
     "source": [
      "\"Vtrace\" is the voltage trace, sampled at 20kHz."
     ]
    },
    {
     "cell_type": "code",
     "collapsed": false,
     "input": [
      "tbins = np.linspace(0, len(Vtrace)/20000., len(Vtrace))\n",
      "print tbins[0], tbins[-1]"
     ],
     "language": "python",
     "metadata": {
      "slideshow": {
       "slide_type": "fragment"
      }
     },
     "outputs": [
      {
       "output_type": "stream",
       "stream": "stdout",
       "text": [
        "0.0 76.7043\n"
       ]
      }
     ],
     "prompt_number": 5
    },
    {
     "cell_type": "heading",
     "level": 2,
     "metadata": {
      "slideshow": {
       "slide_type": "slide"
      }
     },
     "source": [
      "2. Plotting data"
     ]
    },
    {
     "cell_type": "markdown",
     "metadata": {
      "slideshow": {
       "slide_type": "fragment"
      }
     },
     "source": [
      "Load the module 'pylab' for plotting."
     ]
    },
    {
     "cell_type": "code",
     "collapsed": false,
     "input": [
      "import pylab as pl"
     ],
     "language": "python",
     "metadata": {
      "slideshow": {
       "slide_type": "fragment"
      }
     },
     "outputs": [],
     "prompt_number": 6
    },
    {
     "cell_type": "markdown",
     "metadata": {
      "slideshow": {
       "slide_type": "notes"
      }
     },
     "source": [
      "Plot the first 5 s of data. Look for a reasonable threshold to detect spikes and add this threshold as a red dashed line to the plot. Don't forget to label the axes and to put a legend in the end."
     ]
    },
    {
     "cell_type": "code",
     "collapsed": false,
     "input": [
      "pl.plot(tbins, Vtrace, label = 'V trace')\n",
      "threshold = -100\n",
      "pl.plot(tbins, np.ones(len(tbins))*threshold, '--r', label = 'Threshold')\n",
      "pl.xlim(1,5)\n",
      "pl.xlabel('Time (s)')\n",
      "pl.ylabel('Voltage (mV)')\n",
      "pl.legend()"
     ],
     "language": "python",
     "metadata": {
      "slideshow": {
       "slide_type": "fragment"
      }
     },
     "outputs": [
      {
       "metadata": {},
       "output_type": "pyout",
       "prompt_number": 7,
       "text": [
        "<matplotlib.legend.Legend at 0x469cf50>"
       ]
      },
      {
       "metadata": {},
       "output_type": "display_data",
       "png": "[encoded data removed]",
       "text": [
        "<matplotlib.figure.Figure at 0x45d5e50>"
       ]
      }
     ],
     "prompt_number": 7
    },
    {
     "cell_type": "markdown",
     "metadata": {
      "slideshow": {
       "slide_type": "notes"
      }
     },
     "source": [
      "Now, find the time points where the voltage trace is crossing the threshold from below. \n",
      "\n",
      "The easiest way to do so is to first create a numpy array of `True` and `False` values by using `Vtrace < threshold`. Then, the entries of the array will be `True` whenever the voltage is below threshold. The time point of crossing the threshold is when a `False` entry is followed by a `True` entry. Use this information to determine the spike times and pass them to a numpy array called 'spikeTimes'.\n",
      "\n",
      "Check if you really got the right spike timings by plotting them in a new plot together with the voltage trace."
     ]
    },
    {
     "cell_type": "code",
     "collapsed": false,
     "input": [
      "above = (Vtrace < threshold) # True/False whenever the voltage passes th threshold\n",
      "\n",
      "print Vtrace[:5], threshold\n",
      "print \"Above the threshold:\", len(above), above[:5], above[-5:], above.sum()\n",
      "\n",
      "pl.plot(tbins, Vtrace, tbins[above], Vtrace[above], 'xr')\n",
      "pl.xlim([0, 1])"
     ],
     "language": "python",
     "metadata": {
      "slideshow": {
       "slide_type": "notes"
      }
     },
     "outputs": [
      {
       "output_type": "stream",
       "stream": "stdout",
       "text": [
        "[ 40.954588  44.189451  43.94531   41.80908   43.273924] -100\n",
        "Above the threshold: 1534086 [False False False False False] [False False False False False] 8826\n"
       ]
      },
      {
       "metadata": {},
       "output_type": "pyout",
       "prompt_number": 8,
       "text": [
        "(0, 1)"
       ]
      },
      {
       "metadata": {},
       "output_type": "display_data",
       "png": "[encoded data removed]",
       "text": [
        "<matplotlib.figure.Figure at 0x45d5810>"
       ]
      }
     ],
     "prompt_number": 8
    },
    {
     "cell_type": "markdown",
     "metadata": {
      "slideshow": {
       "slide_type": "notes"
      }
     },
     "source": [
      "We want to find the times at which there is a spike. Not all the voltages that excede the threshold, voltages next to each other that exeede the threshold are due to the same spike. We are only interested on the first spike that crosses the threshold. We will select this with the simple trick of False < True is True"
     ]
    },
    {
     "cell_type": "code",
     "collapsed": false,
     "input": [
      "print True < True, True < False, False < True, False < False\n",
      "\n",
      "spikes = above[1:] < above[0:-1] # We compare the the voltage with the voltage at the previous step\n",
      "\n",
      "print \"spikes:\", len(spikes), spikes[:5], spikes[-5:], spikes.sum()\n",
      "\n",
      "spikeTimes = tbins[spikes]\n",
      "pl.plot(tbins, Vtrace, tbins[spikes], Vtrace[spikes], 'xr', markersize=10)\n",
      "pl.xlim([0, 1])"
     ],
     "language": "python",
     "metadata": {
      "slideshow": {
       "slide_type": "notes"
      }
     },
     "outputs": [
      {
       "output_type": "stream",
       "stream": "stdout",
       "text": [
        "False False True False\n",
        "spikes: 1534085 [False False False False False] [False False False False False] 1060\n"
       ]
      },
      {
       "metadata": {},
       "output_type": "pyout",
       "prompt_number": 16,
       "text": [
        "(0, 1)"
       ]
      },
      {
       "metadata": {},
       "output_type": "display_data",
       "png": "[encoded data removed]",
       "text": [
        "<matplotlib.figure.Figure at 0x7be1a90>"
       ]
      }
     ],
     "prompt_number": 16
    },
    {
     "cell_type": "heading",
     "level": 2,
     "metadata": {
      "slideshow": {
       "slide_type": "slide"
      }
     },
     "source": [
      "Spike times"
     ]
    },
    {
     "cell_type": "code",
     "collapsed": false,
     "input": [
      "print \"False < True:\", False < True\n",
      "\n",
      "above = (Vtrace < threshold) # all points below the threshold\n",
      "spikes = above[1:] < above[0:-1] # we are interested in the instant at which the voltage crosses the threshold\n",
      "\n",
      "spikeTimes = tbins[spikes]\n",
      "pl.plot(tbins, Vtrace, tbins[spikes], Vtrace[spikes], 'xr', markersize = 9)\n",
      "pl.xlim([0, 1])"
     ],
     "language": "python",
     "metadata": {
      "slideshow": {
       "slide_type": "fragment"
      }
     },
     "outputs": [
      {
       "output_type": "stream",
       "stream": "stdout",
       "text": [
        "False < True: True\n"
       ]
      },
      {
       "metadata": {},
       "output_type": "pyout",
       "prompt_number": 18,
       "text": [
        "(0, 1)"
       ]
      },
      {
       "metadata": {},
       "output_type": "display_data",
       "png": "[encoded data removed]",
       "text": [
        "<matplotlib.figure.Figure at 0x6741910>"
       ]
      }
     ],
     "prompt_number": 18
    },
    {
     "cell_type": "heading",
     "level": 3,
     "metadata": {
      "slideshow": {
       "slide_type": "slide"
      }
     },
     "source": [
      "b) Inter-spike-intervals and histograms"
     ]
    },
    {
     "cell_type": "markdown",
     "metadata": {
      "slideshow": {
       "slide_type": "notes"
      }
     },
     "source": [
      "Obtain the differences between spike times and pass them to the variable `ISI`."
     ]
    },
    {
     "cell_type": "code",
     "collapsed": false,
     "input": [
      "ISI = np.diff(spikeTimes) # diference between the spiking times"
     ],
     "language": "python",
     "metadata": {
      "slideshow": {
       "slide_type": "fragment"
      }
     },
     "outputs": [],
     "prompt_number": 11
    },
    {
     "cell_type": "markdown",
     "metadata": {
      "slideshow": {
       "slide_type": "notes"
      }
     },
     "source": [
      "Plot these values into a histogram."
     ]
    },
    {
     "cell_type": "code",
     "collapsed": false,
     "input": [
      "ISIhist = pl.hist(ISI, 50)"
     ],
     "language": "python",
     "metadata": {
      "slideshow": {
       "slide_type": "fragment"
      }
     },
     "outputs": [
      {
       "metadata": {},
       "output_type": "display_data",
       "png": "[encoded data removed]",
       "text": [
        "<matplotlib.figure.Figure at 0x46a2ad0>"
       ]
      }
     ],
     "prompt_number": 12
    }
   ],
   "metadata": {}
  }
 ]
}