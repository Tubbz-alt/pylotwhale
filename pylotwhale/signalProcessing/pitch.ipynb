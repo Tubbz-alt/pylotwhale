{
 "metadata": {
  "name": "pitch"
 },
 "nbformat": 3,
 "nbformat_minor": 0,
 "worksheets": [
  {
   "cells": [
    {
     "cell_type": "code",
     "collapsed": false,
     "input": [
      "# Read in a WAV and find the freq's\n",
      "import pyaudio\n",
      "import wave\n",
      "import numpy as np\n",
      "import pylab as pl"
     ],
     "language": "python",
     "metadata": {},
     "outputs": [],
     "prompt_number": 1
    },
    {
     "cell_type": "code",
     "collapsed": false,
     "input": [
      "del freqVec\n",
      "del data\n",
      "del chunk\n",
      "del swidth"
     ],
     "language": "python",
     "metadata": {},
     "outputs": []
    },
    {
     "cell_type": "code",
     "collapsed": false,
     "input": [
      "\n",
      "chunk = 2048\n",
      "fileN = '/home/florencia/whales/data/mySamples/whales/PWcallSet/subset/harmonic.wav'\n",
      "\n",
      "# open up a wave\n",
      "wf = wave.open(fileN, 'rb')\n",
      "\n",
      "swidth = wf.getsampwidth()\n",
      "RATE = wf.getframerate()\n",
      "freqVec=np.array([])\n",
      "# use a Blackman window\n",
      "window = np.blackman(chunk)\n",
      "# open stream\n",
      "p = pyaudio.PyAudio()\n",
      "stream = p.open(format =\n",
      "                p.get_format_from_width(wf.getsampwidth()),\n",
      "                channels = wf.getnchannels(),\n",
      "                rate = RATE,\n",
      "                output = True)\n",
      "\n",
      "# read some data\n",
      "data = wf.readframes(chunk)\n",
      "# play stream and find the frequency of each chunk\n",
      "while len(data) == chunk*swidth:\n",
      "    # write data out to the audio stream\n",
      "    stream.write(data)\n",
      "    # unpack the data and times by the hamming window\n",
      "    indata = np.array(wave.struct.unpack(\"%dh\"%(len(data)/swidth),\\\n",
      "                                         data))*window\n",
      "    # Take the fft and square each value\n",
      "    fftData=abs(np.fft.rfft(indata))**2\n",
      "    # find the maximum\n",
      "    which = fftData[1:].argmax() + 1\n",
      "    # use quadratic interpolation around the max\n",
      "    if which != len(fftData)-1:\n",
      "        y0,y1,y2 = np.log(fftData[which-1:which+2:])\n",
      "        x1 = (y2 - y0) * .5 / (2 * y1 - y2 - y0)\n",
      "        # find the frequency and output it\n",
      "        thefreq = (which+x1)*RATE/chunk\n",
      "        #print \"1) The freq is %f Hz.\" % (thefreq)\n",
      "        freqVec=np.append(freqVec,thefreq)\n",
      "    else:\n",
      "        thefreq = which*RATE/chunk\n",
      "        #print \"2) The freq is %f Hz.\" % (thefreq)\n",
      "        freqVec.extend(thefreq)\n",
      "    # read some more data\n",
      "        freqVec=np.append(freqVec,thefreq)\n",
      "if data:\n",
      "    stream.write(data)\n",
      "stream.close()\n",
      "p.terminate()\n"
     ],
     "language": "python",
     "metadata": {},
     "outputs": [
      {
       "ename": "KeyboardInterrupt",
       "evalue": "",
       "output_type": "pyerr",
       "traceback": [
        "\u001b[0;31m---------------------------------------------------------------------------\u001b[0m\n\u001b[0;31mKeyboardInterrupt\u001b[0m                         Traceback (most recent call last)",
        "\u001b[0;32m<ipython-input-6-7126f7e08622>\u001b[0m in \u001b[0;36m<module>\u001b[0;34m()\u001b[0m\n\u001b[1;32m     24\u001b[0m \u001b[0;32mwhile\u001b[0m \u001b[0mlen\u001b[0m\u001b[0;34m(\u001b[0m\u001b[0mdata\u001b[0m\u001b[0;34m)\u001b[0m \u001b[0;34m==\u001b[0m \u001b[0mchunk\u001b[0m\u001b[0;34m*\u001b[0m\u001b[0mswidth\u001b[0m\u001b[0;34m:\u001b[0m\u001b[0;34m\u001b[0m\u001b[0m\n\u001b[1;32m     25\u001b[0m     \u001b[0;31m# write data out to the audio stream\u001b[0m\u001b[0;34m\u001b[0m\u001b[0;34m\u001b[0m\u001b[0m\n\u001b[0;32m---> 26\u001b[0;31m     \u001b[0mstream\u001b[0m\u001b[0;34m.\u001b[0m\u001b[0mwrite\u001b[0m\u001b[0;34m(\u001b[0m\u001b[0mdata\u001b[0m\u001b[0;34m)\u001b[0m\u001b[0;34m\u001b[0m\u001b[0m\n\u001b[0m\u001b[1;32m     27\u001b[0m     \u001b[0;31m# unpack the data and times by the hamming window\u001b[0m\u001b[0;34m\u001b[0m\u001b[0;34m\u001b[0m\u001b[0m\n\u001b[1;32m     28\u001b[0m     indata = np.array(wave.struct.unpack(\"%dh\"%(len(data)/swidth),\\\n",
        "\u001b[0;32m/usr/lib/python2.7/dist-packages/pyaudio.pyc\u001b[0m in \u001b[0;36mwrite\u001b[0;34m(self, frames, num_frames, exception_on_underflow)\u001b[0m\n\u001b[1;32m    585\u001b[0m \u001b[0;34m\u001b[0m\u001b[0m\n\u001b[1;32m    586\u001b[0m         pa.write_stream(self._stream, frames, num_frames,\n\u001b[0;32m--> 587\u001b[0;31m                         exception_on_underflow)\n\u001b[0m\u001b[1;32m    588\u001b[0m \u001b[0;34m\u001b[0m\u001b[0m\n\u001b[1;32m    589\u001b[0m \u001b[0;34m\u001b[0m\u001b[0m\n",
        "\u001b[0;31mKeyboardInterrupt\u001b[0m: "
       ]
      }
     ],
     "prompt_number": 6
    },
    {
     "cell_type": "code",
     "collapsed": false,
     "input": [],
     "language": "python",
     "metadata": {},
     "outputs": []
    },
    {
     "cell_type": "code",
     "collapsed": false,
     "input": [
      "# Read in a WAV and find the freq's\n",
      "import pyaudio\n",
      "import wave\n",
      "import numpy as np\n",
      "\n",
      "chunk = 2048\n",
      "freqVec=np.array([])\n",
      "# open up a wave\n",
      "wf = wave.open('harmonic.wav', 'rb')\n",
      "swidth = wf.getsampwidth()\n",
      "RATE = wf.getframerate()\n",
      "# use a Blackman window\n",
      "window = np.blackman(chunk)\n",
      "# open stream\n",
      "p = pyaudio.PyAudio()\n",
      "stream = p.open(format =\n",
      "                p.get_format_from_width(wf.getsampwidth()),\n",
      "                channels = wf.getnchannels(),\n",
      "                rate = RATE,\n",
      "                output = True)\n",
      "\n",
      "# read some data\n",
      "data = wf.readframes(chunk)\n",
      "# play stream and find the frequency of each chunk\n",
      "while len(data) == chunk*swidth:\n",
      "    # write data out to the audio stream\n",
      "    stream.write(data)\n",
      "    # unpack the data and times by the hamming window\n",
      "    indata = np.array(wave.struct.unpack(\"%dh\"%(len(data)/swidth),\\\n",
      "                                         data))*window\n",
      "    # Take the fft and square each value\n",
      "    fftData=abs(np.fft.rfft(indata))**2\n",
      "    # find the maximum\n",
      "    which = fftData[1:].argmax() + 1\n",
      "    # use quadratic interpolation around the max\n",
      "    if which != len(fftData)-1:\n",
      "        y0,y1,y2 = np.log(fftData[which-1:which+2:])\n",
      "        x1 = (y2 - y0) * .5 / (2 * y1 - y2 - y0)\n",
      "        # find the frequency and output it\n",
      "        thefreq = (which+x1)*RATE/chunk\n",
      "        #print \"The freq is %f Hz.\" % (thefreq)\n",
      "        freqVec=np.append(freqVec,thefreq)\n",
      "    else:\n",
      "        thefreq = which*RATE/chunk\n",
      "        print \"The freq is %f Hz.\" % (thefreq)\n",
      "    # read some more data\n",
      "    data = wf.readframes(chunk)\n",
      "if data:\n",
      "    stream.write(data)\n",
      "stream.close()\n",
      "p.terminate()"
     ],
     "language": "python",
     "metadata": {},
     "outputs": [],
     "prompt_number": 9
    },
    {
     "cell_type": "code",
     "collapsed": false,
     "input": [
      "#pl.xkcd()\n",
      "#pl.figure(figsize=(20,5))\n",
      "#pl.subplot(1,2,1)\n",
      "#variousPitch=freqVec\n",
      "#pl.plot(variousPitch, 'bo')\n",
      "#pl.title('various')\n",
      "\n",
      "pl.subplot(111)\n",
      "harmonicPitch=freqVec\n",
      "pl.plot(harmonicPitch, 'bo')\n",
      "pl.title('harmonic')\n"
     ],
     "language": "python",
     "metadata": {},
     "outputs": []
    },
    {
     "cell_type": "code",
     "collapsed": false,
     "input": [
      "pl.matplotlib.__version__\n"
     ],
     "language": "python",
     "metadata": {},
     "outputs": []
    },
    {
     "cell_type": "code",
     "collapsed": false,
     "input": [
      "pl.plot(myVec)"
     ],
     "language": "python",
     "metadata": {},
     "outputs": [
      {
       "ename": "NameError",
       "evalue": "name 'myVec' is not defined",
       "output_type": "pyerr",
       "traceback": [
        "\u001b[0;31m---------------------------------------------------------------------------\u001b[0m\n\u001b[0;31mNameError\u001b[0m                                 Traceback (most recent call last)",
        "\u001b[0;32m<ipython-input-5-fa3b1223b478>\u001b[0m in \u001b[0;36m<module>\u001b[0;34m()\u001b[0m\n\u001b[0;32m----> 1\u001b[0;31m \u001b[0mpl\u001b[0m\u001b[0;34m.\u001b[0m\u001b[0mplot\u001b[0m\u001b[0;34m(\u001b[0m\u001b[0mmyVec\u001b[0m\u001b[0;34m)\u001b[0m\u001b[0;34m\u001b[0m\u001b[0m\n\u001b[0m",
        "\u001b[0;31mNameError\u001b[0m: name 'myVec' is not defined"
       ]
      }
     ],
     "prompt_number": 5
    },
    {
     "cell_type": "code",
     "collapsed": false,
     "input": [
      "myAr=np.array([])\n",
      "myAr"
     ],
     "language": "python",
     "metadata": {},
     "outputs": [
      {
       "output_type": "pyout",
       "prompt_number": 6,
       "text": [
        "array([], dtype=float64)"
       ]
      }
     ],
     "prompt_number": 6
    },
    {
     "cell_type": "code",
     "collapsed": false,
     "input": [
      "myAr=np.array([])\n",
      "myAr=np.append(myAr,5)\n",
      "print myAr\n",
      "myAr=np.append(myAr,8)\n",
      "myAr"
     ],
     "language": "python",
     "metadata": {},
     "outputs": [
      {
       "output_type": "stream",
       "stream": "stdout",
       "text": [
        "[ 5.]\n"
       ]
      },
      {
       "output_type": "pyout",
       "prompt_number": 7,
       "text": [
        "array([ 5.,  8.])"
       ]
      }
     ],
     "prompt_number": 7
    },
    {
     "cell_type": "code",
     "collapsed": false,
     "input": [
      "np.log(fftData[which-1:which+2:])"
     ],
     "language": "python",
     "metadata": {},
     "outputs": [
      {
       "output_type": "pyout",
       "prompt_number": 12,
       "text": [
        "array([ 26.0794102 ,  25.42442407,  23.92533086])"
       ]
      }
     ],
     "prompt_number": 12
    },
    {
     "cell_type": "code",
     "collapsed": false,
     "input": [],
     "language": "python",
     "metadata": {},
     "outputs": []
    }
   ],
   "metadata": {}
  }
 ]
}