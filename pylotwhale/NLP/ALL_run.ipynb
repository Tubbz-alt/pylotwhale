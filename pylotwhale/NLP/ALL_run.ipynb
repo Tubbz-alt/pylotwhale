{
 "cells": [
  {
   "cell_type": "code",
   "execution_count": 1,
   "metadata": {
    "collapsed": false
   },
   "outputs": [],
   "source": [
    "from __future__ import print_function\n",
    "from subprocess import call\n",
    "import os\n",
    "import pandas as pd\n",
    "import re"
   ]
  },
  {
   "cell_type": "markdown",
   "metadata": {},
   "source": [
    "# Instructions\n",
    "\n",
    "The **NLP** sripts contain a set of tools for analysing bigrms in sequences of NPW calls.\n",
    "\n",
    "### All the tools are contained in:\n",
    "\n",
    "* <code>sequencesO_beta.py</code>\n",
    "* <code>ngramO_beta.py</code>\n",
    "* <code>statMechT_beta.py</code> - Issing istpited tool for analyzing tapes\n",
    "\n",
    "### And the scripts can be divided into two groups\n",
    "\n",
    "#### wPandas\n",
    "\n",
    "##### 1. Acting over the data frame\n",
    "\n",
    " 1.  <code>csvDatFr-seqs-2gramN_**shuffledDistributions**.py</code> -- generates the shuffled distributions\n",
    " 2.  <code>csvDatFr-tauIter.py</code> --  explores the data frame sequences at different values of $\\tau$\n",
    " 2.  <code>csvDatFr-ict.py</code> -- explores the time intervals in the data frame\n",
    " \n",
    "##### 2. Acting over the bigram counts and the shuffling distributions\n",
    "\n",
    " 2.  <code>csvShuffledDistributions-plotBigrams.py</code>\n",
    " 3.  <code>csvShuffledDistributions-chiSquareTest.py</code>\n",
    " 4.  <code>csvShuffledDistributions-diffProportionsTest.py</code>\n",
    " \n",
    "#### Ising\n"
   ]
  },
  {
   "cell_type": "markdown",
   "metadata": {},
   "source": [
    "# wPandas\n",
    "\n",
    "## 1. data frame ---> bigram counts and shuffled bigrams"
   ]
  },
  {
   "cell_type": "markdown",
   "metadata": {},
   "source": [
    "#### Dataframe selections settings"
   ]
  },
  {
   "cell_type": "code",
   "execution_count": 4,
   "metadata": {
    "collapsed": false
   },
   "outputs": [
    {
     "name": "stdout",
     "output_type": "stream",
     "text": [
      "/home/florencia/whales/scripts/NLP/csvDatFr-seqs-2gramN_shuffledDistributions.py /home/florencia/whales/NLP/NPWvocalRepertoire/wPandas/no_general_sounds/NPWVR-seqsData.csv F -minC 50 -N 99 -n 0 -T 4 -ict\n"
     ]
    },
    {
     "data": {
      "text/plain": [
       "0"
      ]
     },
     "execution_count": 4,
     "metadata": {},
     "output_type": "execute_result"
    }
   ],
   "source": [
    "indf = '/home/florencia/whales/NLP/NPWvocalRepertoire/wPandas/no_general_sounds/NPWVR-seqsData.csv'\n",
    "grN = 'F'\n",
    "#tape = 'f50-2_'#'all'\n",
    "Nsh = \"99\"\n",
    "minC = \"50\"\n",
    "normalize = \"0\"\n",
    "T = \"4\"\n",
    "ict = \"-ict\"\n",
    "\n",
    "script = '/home/florencia/whales/scripts/NLP/csvDatFr-seqs-2gramN_shuffledDistributions.py'\n",
    "\n",
    "#comand = [script, indf, grN, \"-ta\", tape, \"-minC\", minC, \"-N\", Nsh, \"-n\", normalize, \"-T\", T, ict]\n",
    "#comand = [script, indf, grN, \"-minC\", minC, \"-N\", Nsh, \"-n\", normalize,\"-T\", T, ict] # witout tape const\n",
    "print((\" \").join(comand))\n",
    "call(comand)"
   ]
  },
  {
   "cell_type": "markdown",
   "metadata": {},
   "source": [
    "### Tau iterations\n",
    "\n",
    "Ngram histograms ($\\tau$)\n",
    "\n",
    "This plot is quite pointless because most of the information here can be much better captured in the intercall-times distribution"
   ]
  },
  {
   "cell_type": "code",
   "execution_count": 7,
   "metadata": {
    "collapsed": false
   },
   "outputs": [
    {
     "name": "stdout",
     "output_type": "stream",
     "text": [
      "/home/florencia/whales/scripts/NLP/csvDatFr-tauIter.py /home/florencia/whales/NLP/NPWvocalRepertoire/wPandas/no_general_sounds/NPWVR-seqsData.csv J -T 0:15\n"
     ]
    }
   ],
   "source": [
    "script = '/home/florencia/whales/scripts/NLP/csvDatFr-tauIter.py'\n",
    "\n",
    "tauInt=\"0:15\"\n",
    "grN=\"J\"\n",
    "command = [script, indf, grN, \"-T\", tauInt]\n",
    "print(\" \".join(command))\n",
    "#call(command)"
   ]
  },
  {
   "cell_type": "code",
   "execution_count": null,
   "metadata": {
    "collapsed": false
   },
   "outputs": [],
   "source": [
    "script = '/home/florencia/whales/scripts/NLP/csvDatFr-tauIter.py'\n",
    "\n",
    "print((\" \").join(comand))\n",
    "\n",
    "groupNs = ['F']\n",
    "\n",
    "for grN in groupsNs:\n",
    "    df = datB0.loc[datB0['group'] == grN]\n",
    "\n",
    "    tapes = list(set(df['recording']))\n",
    "    for tape in tapes:\n",
    "        comand = [script, indf, grN, \"-T\", tauInt]\n",
    "\n",
    "        inGenName = genName.replace(\"TAPE\", \"%s\"%tape)\n",
    "        print(tape, grN, inGenName.split(\"/\")[-1])\n",
    "        call([script, inGenName + '.csv', inGenName + '.dat', \"-s\", plFontSz])"
   ]
  },
  {
   "cell_type": "markdown",
   "metadata": {},
   "source": [
    "##2. bigram counts and shuffled bigrams --->\n",
    "                                            plots\n",
    "                                            chisquare test\n",
    "                                            diff of proportions test\n",
    "                                            \n"
   ]
  },
  {
   "cell_type": "markdown",
   "metadata": {},
   "source": [
    "###shuffled dist settings\n",
    "(needs dataframe selection settings)"
   ]
  },
  {
   "cell_type": "code",
   "execution_count": 7,
   "metadata": {
    "collapsed": false
   },
   "outputs": [],
   "source": [
    "T=\"4\"\n",
    "plFontSz=\"22\"\n",
    "plNbigrTresh=\"0\"\n",
    "normalize = \"0\"\n",
    "\n",
    "dirName = \"/home/florencia/whales/NLP/NPWvocalRepertoire/wPandas/no_general_sounds-shuffled/\"\n",
    "fileGenericN = \"NPWVR-seqsData_GRX_TAPE_T{}_NORM{}_N{}\".format(T, normalize, Nsh) # values from previous cell\n",
    "genName = os.path.join(dirName, fileGenericN)\n",
    "groupsNs = ['J', 'B', 'H']\n",
    "\n",
    "INdb = \"/home/florencia/whales/NLP/NPWvocalRepertoire/wPandas/NPWVR-seqsData.csv\"\n",
    "datB0 = pd.read_csv(INdb)\n",
    "\n",
    "script = '/home/florencia/whales/scripts/NLP/csvShuffledDistributions-plotBigrams.py'\n"
   ]
  },
  {
   "cell_type": "markdown",
   "metadata": {},
   "source": [
    "#### plots - one tape"
   ]
  },
  {
   "cell_type": "raw",
   "metadata": {},
   "source": [
    "tape = \"f50-2_\"\n",
    "grN = 'J'\n",
    "\n",
    "genName = re.sub(r'(_GR\\w_)', r'_GR%s_'%grN, genName) # replace whale group name\n",
    "#genName = genName.replace('GRX_', 'GR%s_'%grN)\n",
    "inGenName = genName.replace(\"TAPE\", \"%s\"%tape)\n",
    "print(inGenName)\n",
    "command  =[script, inGenName + '.csv', inGenName + '.dat', \"-s\", plFontSz, \"-pT\", plNbigrTresh, \"--plDiffRepHist\"]\n",
    "print((' ').join(command))\n",
    "call(command)"
   ]
  },
  {
   "cell_type": "markdown",
   "metadata": {},
   "source": [
    "###plots - all tapes getrent"
   ]
  },
  {
   "cell_type": "code",
   "execution_count": 35,
   "metadata": {
    "collapsed": false
   },
   "outputs": [
    {
     "name": "stdout",
     "output_type": "stream",
     "text": [
      "f99-1_ J NPWVR-seqsData_GRJ_f99-1__T7_NORM0_N100\n",
      "f50-2_ J NPWVR-seqsData_GRJ_f50-2__T7_NORM0_N100\n",
      "f123-1_ J NPWVR-seqsData_GRJ_f123-1__T7_NORM0_N100\n",
      "f50-6_ J NPWVR-seqsData_GRJ_f50-6__T7_NORM0_N100\n",
      "f94-1_ J NPWVR-seqsData_GRJ_f94-1__T7_NORM0_N100\n",
      "f51-1_ J NPWVR-seqsData_GRJ_f51-1__T7_NORM0_N100\n",
      "f98-1_ J NPWVR-seqsData_GRJ_f98-1__T7_NORM0_N100\n",
      "f46-1_ J NPWVR-seqsData_GRJ_f46-1__T7_NORM0_N100\n",
      "f100-1_ J NPWVR-seqsData_GRJ_f100-1__T7_NORM0_N100\n",
      "f50-8_ J NPWVR-seqsData_GRJ_f50-8__T7_NORM0_N100\n",
      "f50-3_ J NPWVR-seqsData_GRJ_f50-3__T7_NORM0_N100\n",
      "f50-10_ J NPWVR-seqsData_GRJ_f50-10__T7_NORM0_N100\n",
      "f97-1_ J NPWVR-seqsData_GRJ_f97-1__T7_NORM0_N100\n",
      "f51-3_ J NPWVR-seqsData_GRJ_f51-3__T7_NORM0_N100\n",
      "f49-2_ J NPWVR-seqsData_GRJ_f49-2__T7_NORM0_N100\n",
      "f50-7_ J NPWVR-seqsData_GRJ_f50-7__T7_NORM0_N100\n",
      "f50-5_ J NPWVR-seqsData_GRJ_f50-5__T7_NORM0_N100\n",
      "f123-2_ J NPWVR-seqsData_GRJ_f123-2__T7_NORM0_N100\n",
      "f49-1_ J NPWVR-seqsData_GRJ_f49-1__T7_NORM0_N100\n",
      "f51-2_ J NPWVR-seqsData_GRJ_f51-2__T7_NORM0_N100\n",
      "f122-1_ J NPWVR-seqsData_GRJ_f122-1__T7_NORM0_N100\n",
      "f50-4_ J NPWVR-seqsData_GRJ_f50-4__T7_NORM0_N100\n",
      "f124-1_ J NPWVR-seqsData_GRJ_f124-1__T7_NORM0_N100\n",
      "f95-1_ J NPWVR-seqsData_GRJ_f95-1__T7_NORM0_N100\n",
      "f50-9_ J NPWVR-seqsData_GRJ_f50-9__T7_NORM0_N100\n",
      "f49-3_ J NPWVR-seqsData_GRJ_f49-3__T7_NORM0_N100\n",
      "f47_ J NPWVR-seqsData_GRJ_f47__T7_NORM0_N100\n",
      "f93-1_ J NPWVR-seqsData_GRJ_f93-1__T7_NORM0_N100\n",
      "f50-1_ J NPWVR-seqsData_GRJ_f50-1__T7_NORM0_N100\n"
     ]
    }
   ],
   "source": [
    "\n",
    "for grN in groupsNs:\n",
    "    df = datB0.loc[datB0['group'] == grN]\n",
    "    inGenName = genName.replace('GRX', 'GR%s'%grN)\n",
    "    tapes = list(set(df['recording']))\n",
    "    for tape in tapes:\n",
    "        inGenNameT = inGenName.replace(\"TAPE\", \"%s\"%tape)\n",
    "        print(tape, grN, inGenNameT.split(\"/\")[-1])\n",
    "        command = [script, inGenNameT + '.csv', inGenNameT + '.dat', \"-s\", plFontSz, \"-pT\", plNbigrTresh]\n",
    "        call(command)\n",
    "    "
   ]
  },
  {
   "cell_type": "markdown",
   "metadata": {},
   "source": [
    "##diff of proportions test"
   ]
  },
  {
   "cell_type": "code",
   "execution_count": 6,
   "metadata": {
    "collapsed": false
   },
   "outputs": [
    {
     "ename": "NameError",
     "evalue": "name 'inGenName' is not defined",
     "output_type": "error",
     "traceback": [
      "\u001b[0;31m---------------------------------------------------------------------------\u001b[0m\n\u001b[0;31mNameError\u001b[0m                                 Traceback (most recent call last)",
      "\u001b[0;32m<ipython-input-6-2cc4e2de994e>\u001b[0m in \u001b[0;36m<module>\u001b[0;34m()\u001b[0m\n\u001b[1;32m      4\u001b[0m \u001b[0mscript\u001b[0m \u001b[0;34m=\u001b[0m \u001b[0;34m'/home/florencia/whales/scripts/NLP/csvShuffledDistributions-diffProportions.py'\u001b[0m\u001b[0;34m\u001b[0m\u001b[0m\n\u001b[1;32m      5\u001b[0m \u001b[0;34m\u001b[0m\u001b[0m\n\u001b[0;32m----> 6\u001b[0;31m \u001b[0mcomand\u001b[0m \u001b[0;34m=\u001b[0m \u001b[0;34m[\u001b[0m\u001b[0mscript\u001b[0m\u001b[0;34m,\u001b[0m \u001b[0minGenName\u001b[0m \u001b[0;34m+\u001b[0m \u001b[0;34m'.csv'\u001b[0m\u001b[0;34m,\u001b[0m \u001b[0minGenName\u001b[0m \u001b[0;34m+\u001b[0m \u001b[0;34m'.dat'\u001b[0m\u001b[0;34m,\u001b[0m \u001b[0;34m\"-s\"\u001b[0m\u001b[0;34m,\u001b[0m \u001b[0mplFontSz\u001b[0m\u001b[0;34m,\u001b[0m \u001b[0;34m\"pT\"\u001b[0m\u001b[0;34m,\u001b[0m \u001b[0mplNbigrTresh\u001b[0m\u001b[0;34m]\u001b[0m\u001b[0;34m\u001b[0m\u001b[0m\n\u001b[0m\u001b[1;32m      7\u001b[0m \u001b[0;32mprint\u001b[0m\u001b[0;34m(\u001b[0m\u001b[0;34m(\u001b[0m\u001b[0;34m\" \"\u001b[0m\u001b[0;34m)\u001b[0m\u001b[0;34m.\u001b[0m\u001b[0mjoin\u001b[0m\u001b[0;34m(\u001b[0m\u001b[0mcomand\u001b[0m\u001b[0;34m)\u001b[0m\u001b[0;34m)\u001b[0m\u001b[0;34m\u001b[0m\u001b[0m\n",
      "\u001b[0;31mNameError\u001b[0m: name 'inGenName' is not defined"
     ]
    }
   ],
   "source": [
    "plFontSz=\"22\"\n",
    "plNbigrTresh=\"0\"\n",
    "\n",
    "script = '/home/florencia/whales/scripts/NLP/csvShuffledDistributions-diffProportions.py'\n",
    "\n",
    "comand = [script, inGenName + '.csv', inGenName + '.dat', \"-s\", plFontSz, \"pT\", plNbigrTresh]\n",
    "print((\" \").join(comand))"
   ]
  },
  {
   "cell_type": "markdown",
   "metadata": {},
   "source": [
    "####diff of proportions test for all tapes"
   ]
  },
  {
   "cell_type": "code",
   "execution_count": 29,
   "metadata": {
    "collapsed": false
   },
   "outputs": [
    {
     "name": "stdout",
     "output_type": "stream",
     "text": [
      "f99-1_ J NPWVR-seqsData_GRJ_f99-1__T7_NORM0_N100\n",
      "f50-2_ J NPWVR-seqsData_GRJ_f50-2__T7_NORM0_N100\n",
      "f123-1_ J NPWVR-seqsData_GRJ_f123-1__T7_NORM0_N100\n",
      "f50-6_ J NPWVR-seqsData_GRJ_f50-6__T7_NORM0_N100\n",
      "f94-1_ J NPWVR-seqsData_GRJ_f94-1__T7_NORM0_N100\n",
      "f51-1_ J NPWVR-seqsData_GRJ_f51-1__T7_NORM0_N100\n",
      "f98-1_ J NPWVR-seqsData_GRJ_f98-1__T7_NORM0_N100\n",
      "f46-1_ J NPWVR-seqsData_GRJ_f46-1__T7_NORM0_N100\n",
      "f100-1_ J NPWVR-seqsData_GRJ_f100-1__T7_NORM0_N100\n",
      "f50-8_ J NPWVR-seqsData_GRJ_f50-8__T7_NORM0_N100\n",
      "f50-3_ J NPWVR-seqsData_GRJ_f50-3__T7_NORM0_N100\n",
      "f50-10_ J NPWVR-seqsData_GRJ_f50-10__T7_NORM0_N100\n",
      "f97-1_ J NPWVR-seqsData_GRJ_f97-1__T7_NORM0_N100\n",
      "f51-3_ J NPWVR-seqsData_GRJ_f51-3__T7_NORM0_N100\n",
      "f49-2_ J NPWVR-seqsData_GRJ_f49-2__T7_NORM0_N100\n",
      "f50-7_ J NPWVR-seqsData_GRJ_f50-7__T7_NORM0_N100\n",
      "f50-5_ J NPWVR-seqsData_GRJ_f50-5__T7_NORM0_N100\n",
      "f123-2_ J NPWVR-seqsData_GRJ_f123-2__T7_NORM0_N100\n",
      "f49-1_ J NPWVR-seqsData_GRJ_f49-1__T7_NORM0_N100\n",
      "f51-2_ J NPWVR-seqsData_GRJ_f51-2__T7_NORM0_N100\n",
      "f122-1_ J NPWVR-seqsData_GRJ_f122-1__T7_NORM0_N100\n",
      "f50-4_ J NPWVR-seqsData_GRJ_f50-4__T7_NORM0_N100\n",
      "f124-1_ J NPWVR-seqsData_GRJ_f124-1__T7_NORM0_N100\n",
      "f95-1_ J NPWVR-seqsData_GRJ_f95-1__T7_NORM0_N100\n",
      "f50-9_ J NPWVR-seqsData_GRJ_f50-9__T7_NORM0_N100\n",
      "f49-3_ J NPWVR-seqsData_GRJ_f49-3__T7_NORM0_N100\n",
      "f47_ J NPWVR-seqsData_GRJ_f47__T7_NORM0_N100\n",
      "f93-1_ J NPWVR-seqsData_GRJ_f93-1__T7_NORM0_N100\n",
      "f50-1_ J NPWVR-seqsData_GRJ_f50-1__T7_NORM0_N100\n"
     ]
    }
   ],
   "source": [
    "for grN in groupsNs:\n",
    "    df = datB0.loc[datB0['group'] == grN]\n",
    "    genName = genName.replace('GRX', 'GR%s'%grN)\n",
    "    tapes = list(set(df['recording']))\n",
    "    for tape in tapes:\n",
    "        inGenName = genName.replace(\"TAPE\", \"%s\"%tape)\n",
    "        print(tape, grN, inGenName.split(\"/\")[-1])\n",
    "        call([script, inGenName + '.csv', inGenName + '.dat', \"-s\",plFontSz])"
   ]
  },
  {
   "cell_type": "markdown",
   "metadata": {},
   "source": [
    "#$\\chi$-square test for the observed and randomized frequencies"
   ]
  },
  {
   "cell_type": "code",
   "execution_count": 1,
   "metadata": {
    "collapsed": false
   },
   "outputs": [],
   "source": [
    "outSummaryF = \"/home/florencia/whales/NLP/NPWvocalRepertoire/wPandas/no_general_sounds-shuffled/confidenceIntervalsChi/summary.txt\"\n",
    "\n",
    "script = '/home/florencia/whales/scripts/NLP/csvShuffledDistributions-chiSqr.py'\n"
   ]
  },
  {
   "cell_type": "markdown",
   "metadata": {},
   "source": [
    "####for one file only"
   ]
  },
  {
   "cell_type": "code",
   "execution_count": 5,
   "metadata": {
    "collapsed": false
   },
   "outputs": [
    {
     "name": "stdout",
     "output_type": "stream",
     "text": [
      "/home/florencia/whales/scripts/NLP/csvShuffledDistributions-chiSqr.py /home/florencia/whales/NLP/NPWvocalRepertoire/wPandas/no_general_sounds-shuffled/NPWVR__recordingf50-7_f50-5_f50-3__groupJ_T4_NORM0_N100.csv /home/florencia/whales/NLP/NPWvocalRepertoire/wPandas/no_general_sounds-shuffled/NPWVR__recordingf50-7_f50-5_f50-3__groupJ_T4_NORM0_N100.dat -af /home/florencia/whales/NLP/NPWvocalRepertoire/wPandas/no_general_sounds-shuffled/confidenceIntervalsChi/summary.txt\n"
     ]
    },
    {
     "data": {
      "text/plain": [
       "0"
      ]
     },
     "execution_count": 5,
     "metadata": {},
     "output_type": "execute_result"
    }
   ],
   "source": [
    "genName = '/home/florencia/whales/NLP/NPWvocalRepertoire/wPandas/no_general_sounds-shuffled/NPWVR__recordingf50-7_f50-5_f50-3__groupJ_T4_NORM0_N100'\n",
    "script = '/home/florencia/whales/scripts/NLP/csvShuffledDistributions-chiSqr.py'\n",
    "\n",
    "command = [script, genName + '.csv', genName + '.dat', \"-af\", outSummaryF]\n",
    "\n",
    "print(' '.join(command))\n",
    "call(command)"
   ]
  },
  {
   "cell_type": "markdown",
   "metadata": {},
   "source": [
    "###for all the tapes"
   ]
  },
  {
   "cell_type": "code",
   "execution_count": 51,
   "metadata": {
    "collapsed": false
   },
   "outputs": [
    {
     "name": "stdout",
     "output_type": "stream",
     "text": [
      "f25_ H NPWVR-seqsData_GRJ_f25__T4_NORM0_N100\n",
      "f17-1_ H NPWVR-seqsData_GRJ_f17-1__T4_NORM0_N100\n",
      "f-15_ H NPWVR-seqsData_GRJ_f-15__T4_NORM0_N100\n",
      "f20-1_ H NPWVR-seqsData_GRJ_f20-1__T4_NORM0_N100\n",
      "f22-5_ H NPWVR-seqsData_GRJ_f22-5__T4_NORM0_N100\n",
      "f19-2_ H NPWVR-seqsData_GRJ_f19-2__T4_NORM0_N100\n",
      "f22-1_ H NPWVR-seqsData_GRJ_f22-1__T4_NORM0_N100\n",
      "f16-1_ H NPWVR-seqsData_GRJ_f16-1__T4_NORM0_N100\n",
      "f17_ H NPWVR-seqsData_GRJ_f17__T4_NORM0_N100\n",
      "f28-1_ H NPWVR-seqsData_GRJ_f28-1__T4_NORM0_N100\n",
      "f28-2_ H NPWVR-seqsData_GRJ_f28-2__T4_NORM0_N100\n",
      "f15_ H NPWVR-seqsData_GRJ_f15__T4_NORM0_N100\n",
      "f29-1_ H NPWVR-seqsData_GRJ_f29-1__T4_NORM0_N100\n",
      "f-27_ H NPWVR-seqsData_GRJ_f-27__T4_NORM0_N100\n",
      "f13_ H NPWVR-seqsData_GRJ_f13__T4_NORM0_N100\n",
      "f24_ H NPWVR-seqsData_GRJ_f24__T4_NORM0_N100\n",
      "f18_ H NPWVR-seqsData_GRJ_f18__T4_NORM0_N100\n",
      "f19-1_ H NPWVR-seqsData_GRJ_f19-1__T4_NORM0_N100\n",
      "f22-2_ H NPWVR-seqsData_GRJ_f22-2__T4_NORM0_N100\n",
      "f22-4_ H NPWVR-seqsData_GRJ_f22-4__T4_NORM0_N100\n",
      "f26_ H NPWVR-seqsData_GRJ_f26__T4_NORM0_N100\n",
      "f16-2_ H NPWVR-seqsData_GRJ_f16-2__T4_NORM0_N100\n",
      "f16_2_ H NPWVR-seqsData_GRJ_f16_2__T4_NORM0_N100\n",
      "f14_ H NPWVR-seqsData_GRJ_f14__T4_NORM0_N100\n",
      "f-18_ H NPWVR-seqsData_GRJ_f-18__T4_NORM0_N100\n",
      "f21-1_ H NPWVR-seqsData_GRJ_f21-1__T4_NORM0_N100\n",
      "f29-2_ H NPWVR-seqsData_GRJ_f29-2__T4_NORM0_N100\n",
      "f17-2_ H NPWVR-seqsData_GRJ_f17-2__T4_NORM0_N100\n",
      "f20-3_ H NPWVR-seqsData_GRJ_f20-3__T4_NORM0_N100\n",
      "f119-2_ B NPWVR-seqsData_GRJ_f119-2__T4_NORM0_N100\n",
      "f110-1_ B NPWVR-seqsData_GRJ_f110-1__T4_NORM0_N100\n",
      "f116-1_ B NPWVR-seqsData_GRJ_f116-1__T4_NORM0_N100\n",
      "f115-1_ B NPWVR-seqsData_GRJ_f115-1__T4_NORM0_N100\n",
      "f118-1_ B NPWVR-seqsData_GRJ_f118-1__T4_NORM0_N100\n",
      "f113-1_ B NPWVR-seqsData_GRJ_f113-1__T4_NORM0_N100\n",
      "f115-2_ B NPWVR-seqsData_GRJ_f115-2__T4_NORM0_N100\n",
      "f112-1_ B NPWVR-seqsData_GRJ_f112-1__T4_NORM0_N100\n",
      "f111-1_ B NPWVR-seqsData_GRJ_f111-1__T4_NORM0_N100\n",
      "f114-1_ B NPWVR-seqsData_GRJ_f114-1__T4_NORM0_N100\n",
      "f118-2_ B NPWVR-seqsData_GRJ_f118-2__T4_NORM0_N100\n",
      "f109-1_ B NPWVR-seqsData_GRJ_f109-1__T4_NORM0_N100\n",
      "f119-1_ B NPWVR-seqsData_GRJ_f119-1__T4_NORM0_N100\n",
      "f121-1_ B NPWVR-seqsData_GRJ_f121-1__T4_NORM0_N100\n",
      "f117-1_ B NPWVR-seqsData_GRJ_f117-1__T4_NORM0_N100\n",
      "f116-2_ B NPWVR-seqsData_GRJ_f116-2__T4_NORM0_N100\n",
      "f108-1_ B NPWVR-seqsData_GRJ_f108-1__T4_NORM0_N100\n"
     ]
    }
   ],
   "source": [
    "groupsNs = ['H', 'B']\n",
    "for grN in groupsNs:\n",
    "    df = datB0.loc[datB0['group'] == grN]\n",
    "    genName = genName.replace('GRX', 'GR%s'%grN)\n",
    "    tapes = list(set(df['recording']))\n",
    "    for tape in tapes:\n",
    "        inGenName = genName.replace(\"TAPE\", \"%s\"%tape)\n",
    "        command = [script, inGenName + '.csv', inGenName + '.dat', \"-af\", outSummaryF]\n",
    "\n",
    "        print(tape, grN, inGenName.split(\"/\")[-1])\n",
    "        #print(' '.join(command))\n",
    "        call(command)"
   ]
  },
  {
   "cell_type": "markdown",
   "metadata": {},
   "source": [
    "###By group"
   ]
  },
  {
   "cell_type": "code",
   "execution_count": 74,
   "metadata": {
    "collapsed": false
   },
   "outputs": [
    {
     "name": "stdout",
     "output_type": "stream",
     "text": [
      "H NPWVR-seqsData_GRG_T4_NORM0_N100\n",
      "/home/florencia/whales/scripts/NLP/csvShuffledDistributions-chiSqr.py /home/florencia/whales/NLP/NPWvocalRepertoire/wPandas/no_general_sounds-shuffled/NPWVR-seqsData_GRH_T4_NORM0_N100.csv /home/florencia/whales/NLP/NPWvocalRepertoire/wPandas/no_general_sounds-shuffled/NPWVR-seqsData_GRH_T4_NORM0_N100.dat -af /home/florencia/whales/NLP/NPWvocalRepertoire/wPandas/no_general_sounds-shuffled/confidenceIntervalsChi/summary.txt\n",
      "B NPWVR-seqsData_GRG_T4_NORM0_N100\n",
      "/home/florencia/whales/scripts/NLP/csvShuffledDistributions-chiSqr.py /home/florencia/whales/NLP/NPWvocalRepertoire/wPandas/no_general_sounds-shuffled/NPWVR-seqsData_GRB_T4_NORM0_N100.csv /home/florencia/whales/NLP/NPWvocalRepertoire/wPandas/no_general_sounds-shuffled/NPWVR-seqsData_GRB_T4_NORM0_N100.dat -af /home/florencia/whales/NLP/NPWvocalRepertoire/wPandas/no_general_sounds-shuffled/confidenceIntervalsChi/summary.txt\n",
      "J NPWVR-seqsData_GRG_T4_NORM0_N100\n",
      "/home/florencia/whales/scripts/NLP/csvShuffledDistributions-chiSqr.py /home/florencia/whales/NLP/NPWvocalRepertoire/wPandas/no_general_sounds-shuffled/NPWVR-seqsData_GRJ_T4_NORM0_N100.csv /home/florencia/whales/NLP/NPWvocalRepertoire/wPandas/no_general_sounds-shuffled/NPWVR-seqsData_GRJ_T4_NORM0_N100.dat -af /home/florencia/whales/NLP/NPWvocalRepertoire/wPandas/no_general_sounds-shuffled/confidenceIntervalsChi/summary.txt\n",
      "F NPWVR-seqsData_GRG_T4_NORM0_N100\n",
      "/home/florencia/whales/scripts/NLP/csvShuffledDistributions-chiSqr.py /home/florencia/whales/NLP/NPWvocalRepertoire/wPandas/no_general_sounds-shuffled/NPWVR-seqsData_GRF_T4_NORM0_N100.csv /home/florencia/whales/NLP/NPWvocalRepertoire/wPandas/no_general_sounds-shuffled/NPWVR-seqsData_GRF_T4_NORM0_N100.dat -af /home/florencia/whales/NLP/NPWvocalRepertoire/wPandas/no_general_sounds-shuffled/confidenceIntervalsChi/summary.txt\n",
      "G NPWVR-seqsData_GRG_T4_NORM0_N100\n",
      "/home/florencia/whales/scripts/NLP/csvShuffledDistributions-chiSqr.py /home/florencia/whales/NLP/NPWvocalRepertoire/wPandas/no_general_sounds-shuffled/NPWVR-seqsData_GRG_T4_NORM0_N100.csv /home/florencia/whales/NLP/NPWvocalRepertoire/wPandas/no_general_sounds-shuffled/NPWVR-seqsData_GRG_T4_NORM0_N100.dat -af /home/florencia/whales/NLP/NPWvocalRepertoire/wPandas/no_general_sounds-shuffled/confidenceIntervalsChi/summary.txt\n",
      "D NPWVR-seqsData_GRG_T4_NORM0_N100\n",
      "/home/florencia/whales/scripts/NLP/csvShuffledDistributions-chiSqr.py /home/florencia/whales/NLP/NPWvocalRepertoire/wPandas/no_general_sounds-shuffled/NPWVR-seqsData_GRD_T4_NORM0_N100.csv /home/florencia/whales/NLP/NPWvocalRepertoire/wPandas/no_general_sounds-shuffled/NPWVR-seqsData_GRD_T4_NORM0_N100.dat -af /home/florencia/whales/NLP/NPWvocalRepertoire/wPandas/no_general_sounds-shuffled/confidenceIntervalsChi/summary.txt\n"
     ]
    }
   ],
   "source": [
    "groupsNs = ['H', 'B', 'J', 'F', 'G', 'D']\n",
    "genName = '/home/florencia/whales/NLP/NPWvocalRepertoire/wPandas/no_general_sounds-shuffled/NPWVR-seqsData_GRG_T4_NORM0_N100'\n",
    "script = '/home/florencia/whales/scripts/NLP/csvShuffledDistributions-chiSqr.py'\n",
    "\n",
    "for grN in groupsNs:\n",
    "    df = datB0.loc[datB0['group'] == grN]\n",
    "    genName = re.sub('GR\\w', 'GR%s'%grN, genName)\n",
    "    command = [script, genName + '.csv', genName + '.dat', \"-af\", outSummaryF]\n",
    "\n",
    "    print(grN, inGenName.split(\"/\")[-1])\n",
    "    print(' '.join(command))\n",
    "    call(command)"
   ]
  },
  {
   "cell_type": "code",
   "execution_count": 48,
   "metadata": {
    "collapsed": false
   },
   "outputs": [
    {
     "name": "stdout",
     "output_type": "stream",
     "text": [
      "/home/florencia/whales/scripts/NLP/csvShuffledDistributions-diffProportions.py /home/florencia/whales/NLP/NPWvocalRepertoire/wPandas/no_general_sounds-shuffled/NPWVR-seqsData_GRJ_f99-1__T7_NORM0_N100.csv /home/florencia/whales/NLP/NPWvocalRepertoire/wPandas/no_general_sounds-shuffled/NPWVR-seqsData_GRJ_f99-1__T7_NORM0_N100.dat -s 22 pT 0\n"
     ]
    }
   ],
   "source": [
    "print((\" \").join(comand))"
   ]
  },
  {
   "cell_type": "code",
   "execution_count": null,
   "metadata": {
    "collapsed": false
   },
   "outputs": [],
   "source": []
  }
 ],
 "metadata": {
  "kernelspec": {
   "display_name": "Python 2",
   "language": "python",
   "name": "python2"
  },
  "language_info": {
   "codemirror_mode": {
    "name": "ipython",
    "version": 2
   },
   "file_extension": ".py",
   "mimetype": "text/x-python",
   "name": "python",
   "nbconvert_exporter": "python",
   "pygments_lexer": "ipython2",
   "version": "2.7.6"
  }
 },
 "nbformat": 4,
 "nbformat_minor": 0
}
