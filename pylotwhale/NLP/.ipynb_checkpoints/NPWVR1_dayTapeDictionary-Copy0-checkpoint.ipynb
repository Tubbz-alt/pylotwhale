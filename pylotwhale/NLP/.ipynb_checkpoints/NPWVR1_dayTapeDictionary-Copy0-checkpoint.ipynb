{
 "metadata": {
  "name": ""
 },
 "nbformat": 3,
 "nbformat_minor": 0,
 "worksheets": [
  {
   "cells": [
    {
     "cell_type": "code",
     "collapsed": false,
     "input": [
      "import sys\n",
      "import os\n",
      "import numpy as np\n",
      "import pylab as pl"
     ],
     "language": "python",
     "metadata": {},
     "outputs": [],
     "prompt_number": 12
    },
    {
     "cell_type": "code",
     "collapsed": false,
     "input": [],
     "language": "python",
     "metadata": {},
     "outputs": [],
     "prompt_number": 12
    },
    {
     "cell_type": "raw",
     "metadata": {},
     "source": [
      "This script reads a text file with the following information: \n",
      "\n",
      "col0: hh_mm_ss\n",
      "col1: <frame>\n",
      "col2: yymmdd\n",
      "col3: <call>\n",
      "col4: <indextoTheOriginalWavFileList>\n",
      "col5: <whaleGroup(NPW)>\n",
      "col5: ...\n",
      "\n",
      "Idenifies elements with the same day-fram label."
     ]
    },
    {
     "cell_type": "heading",
     "level": 3,
     "metadata": {},
     "source": [
      "read files"
     ]
    },
    {
     "cell_type": "code",
     "collapsed": false,
     "input": [
      "inF = '/home/florencia/whales/NLP/NPWvocalRepertoire/yearSetting/NPWVR-time-noNA.dat'\n",
      "print inF"
     ],
     "language": "python",
     "metadata": {},
     "outputs": [
      {
       "output_type": "stream",
       "stream": "stdout",
       "text": [
        "/home/florencia/whales/NLP/NPWvocalRepertoire/yearSetting/NPWVR-time-noNA.dat\n"
       ]
      }
     ],
     "prompt_number": 13
    },
    {
     "cell_type": "heading",
     "level": 3,
     "metadata": {},
     "source": [
      "name output file"
     ]
    },
    {
     "cell_type": "code",
     "collapsed": false,
     "input": [
      "fName = os.path.abspath(os.path.expanduser(inF)) # write the whole path\n",
      "#Bname = os.path.splitext(fName)[0] # remove extension\n",
      "dirName = os.path.dirname(fName) # remove extension\n",
      "\n",
      "print fName, \"\\nout dir:\", dirName"
     ],
     "language": "python",
     "metadata": {},
     "outputs": [
      {
       "output_type": "stream",
       "stream": "stdout",
       "text": [
        "/home/florencia/whales/NLP/NPWvocalRepertoire/yearSetting/NPWVR-time-noNA.dat \n",
        "out dir: /home/florencia/whales/NLP/NPWvocalRepertoire/yearSetting\n"
       ]
      }
     ],
     "prompt_number": 14
    },
    {
     "cell_type": "heading",
     "level": 4,
     "metadata": {},
     "source": [
      "Read lines and identify the the day-tape stamp"
     ]
    },
    {
     "cell_type": "code",
     "collapsed": false,
     "input": [
      "### INICIALIZATIONS\n",
      "dayTape = {}\n",
      "\n",
      "### READ FILE\n",
      "f = open(inF, 'r')\n",
      "str1 = file.read(f) # reading file\n",
      "lines = str1.split('\\n') # vector of lines\n",
      "Nlines = len(lines)-1\n",
      "tStamp = np.zeros([Nlines,1])\n",
      "\n",
      "lIndex = 0\n",
      "for j in lines[:Nlines]: #inicialize dictionary, leve put the last element\n",
      "        col = j.split('\\t') # vector of the elements in the line       \n",
      "        if(len(col)>1):\n",
      "            dayTapeL = ''.join([col[2],col[1]])\n",
      "            dayTape[dayTapeL] = []\n",
      "            hora, minuto, segundo = col[0].split('_')\n",
      "            tStamp[lIndex] = int(hora)*60*60 + int(minuto)*60 + int(segundo)\n",
      "            lIndex += 1\n",
      "            #print int(hora), int(minuto), segundo\n",
      "            #timeStamp[lIndex] = \n",
      "            #print dayTapeL\n",
      "        else:\n",
      "            lIndex += 1\n",
      "            print j\n",
      "        \n",
      "lIndex = 0\n",
      "for j in lines[:Nlines]: #create dictionary with the elements with the same day and tape label\n",
      "        col = j.split('\\t') # vector of the elements in the line\n",
      "        \n",
      "        if(len(col)>1):\n",
      "            dayTapeL = ''.join([col[2],col[1]])\n",
      "            dayTape[dayTapeL].append(lIndex)\n",
      "            lIndex+=1\n",
      "        else:\n",
      "            lIndex+=1\n",
      "            print j\n",
      "\n",
      "      "
     ],
     "language": "python",
     "metadata": {},
     "outputs": [],
     "prompt_number": 15
    },
    {
     "cell_type": "code",
     "collapsed": false,
     "input": [
      "group = [lines[i].split('\\t')[7] for i in range(len(lines)-1) ]\n",
      "group[2:10]"
     ],
     "language": "python",
     "metadata": {},
     "outputs": [
      {
       "output_type": "pyout",
       "prompt_number": 34,
       "text": [
        "['F', 'F', 'F', 'F', 'H', 'H', 'H', 'H']"
       ]
      }
     ],
     "prompt_number": 34
    },
    {
     "cell_type": "code",
     "collapsed": false,
     "input": [
      "print Nlines,lIndex,len(tStamp),tStamp[0], \"\\n\", lines[0], \"\\n\", lines[0].split(\"\\t\")[:4],\"\\n\", dayTape.keys()[:5],\\\n",
      "len(dayTape.keys()[:])"
     ],
     "language": "python",
     "metadata": {},
     "outputs": [
      {
       "output_type": "stream",
       "stream": "stdout",
       "text": [
        "7009 7009 7009 [ 475.] \n",
        "00_07_55\tf2_\t070628\tbuzz\t7102\tNPW\tbuzz\tF\t070628\tf2_00_07_55 \n",
        "['00_07_55', 'f2_', '070628', 'buzz'] \n",
        "['090811f85-2_', '090522f20-3_', '090524f28-1_', '090522f-20-3_', '080714f3_'] 115\n"
       ]
      }
     ],
     "prompt_number": 16
    },
    {
     "cell_type": "code",
     "collapsed": false,
     "input": [
      "for dayTapeL in dayTape.keys()[:]: # for each day-tape-label"
     ],
     "language": "python",
     "metadata": {},
     "outputs": []
    },
    {
     "cell_type": "markdown",
     "metadata": {},
     "source": [
      "Setup: i. Select feature to print, ii. out file name"
     ]
    },
    {
     "cell_type": "code",
     "collapsed": false,
     "input": [
      "feature = [lines[i].split(\"\\t\")[7] for i in np.arange(Nlines) ]\n",
      "print feature[:3]\n",
      "\n",
      "outF = dirName+\"/NPWVR-sequences-group.dat\" # declre out file name\n",
      "print \"in:\", fName, \"\\nout:\", outF\n",
      "\n",
      "secF = open(outF, 'w') # sequences file"
     ],
     "language": "python",
     "metadata": {},
     "outputs": [
      {
       "output_type": "stream",
       "stream": "stdout",
       "text": [
        "['F', 'F', 'F']\n",
        "in: /home/florencia/whales/NLP/NPWvocalRepertoire/yearSetting/NPWVR-time-noNA.dat \n",
        "out: /home/florencia/whales/NLP/NPWvocalRepertoire/yearSetting/NPWVR-sequences-group.dat\n"
       ]
      }
     ],
     "prompt_number": 17
    },
    {
     "cell_type": "markdown",
     "metadata": {},
     "source": [
      "Read elements separad by an interval smaller than the threshols and print the feature in the out file"
     ]
    },
    {
     "cell_type": "code",
     "collapsed": false,
     "input": [
      "histDt = np.zeros(1000) # inicialize Dt histogram\n",
      "tTreshold = 4\n",
      "secsF = open(outF, 'w') # helper file\n",
      "\n",
      "for dayTapeL in dayTape.keys()[:]: # for each day-tape-label\n",
      "    tL = []  # inicialize a temporal time vector\n",
      "    iL = []  # index label\n",
      "    \n",
      "    for callIndex in dayTape[dayTapeL]: # itereator over the elements with the tape-day label\n",
      "        #print callIndex, tL, tStamp[callIndex]\n",
      "        tL.extend(tStamp[callIndex]) # define time stamp vector\n",
      "        iL.append(feature[callIndex]) # define time stamp vector\n",
      "        sortIndex = np.argsort(tL)    \n",
      "        tL0 = tL[sortIndex[-1]] #inicialize the earliest time stamp with the latest\n",
      "    #print iL,\"\\n\", tL\n",
      "\n",
      "    secsF.write(\"\\n%s\"%(iL[sortIndex[0]]))\n",
      "    for i in sortIndex[:]:\n",
      "      difT = tL[i] - tL0\n",
      "      #print i, tL[i],\"feature\",iL[i], difT#,lines[iL[i]]\n",
      "\n",
      "      if( difT >= 0 ): # is not the first element\n",
      "                histDt[difT]+=1\n",
      "                \n",
      "                if( difT > tTreshold ): # we have a new sequence!\n",
      "                        #print \"new chunk\", iL[i]                        \n",
      "                        secsF.write(\"\\n%s\"%(iL[i]))\n",
      "\n",
      "                elif( difT <= tTreshold ): # continue the sequence!\n",
      "                        #print \"add to chunk\", iL[i]                        \n",
      "                        secsF.write(\" %s\"%(iL[i]))\n",
      "                    \n",
      "      tL0 = tL[i]\n",
      "      difT0 = difT\n",
      "                    \n",
      "secsF.close() "
     ],
     "language": "python",
     "metadata": {},
     "outputs": [],
     "prompt_number": 18
    },
    {
     "cell_type": "code",
     "collapsed": false,
     "input": [
      "feature[:5]"
     ],
     "language": "python",
     "metadata": {},
     "outputs": [
      {
       "output_type": "pyout",
       "prompt_number": 9,
       "text": [
        "['buzz', 'buzz', 'buzz', 'buzz', 'buzz']"
       ]
      }
     ],
     "prompt_number": 9
    },
    {
     "cell_type": "heading",
     "level": 4,
     "metadata": {},
     "source": [
      "Dt Histograms"
     ]
    },
    {
     "cell_type": "code",
     "collapsed": false,
     "input": [
      "histNorm = histDt.sum()\n",
      "plName = dirName+\"/images/NPWVR-DtHist-zoom.png\" # declre out file name\n",
      "\n",
      "pl.figure(figsize=(6,4))\n",
      "pl.plot(histDt[:100]/histNorm)\n",
      "pl.xlim(0,10)\n",
      "#pl.ylim(0,1400)\n",
      "pl.fill_between(np.arange(100),0, histDt[:100]/histNorm, alpha=0.4)\n",
      "\n",
      "pl.xlabel('$\\Delta$ t [s]', size=16)\n",
      "pl.ylabel('Fraction of consecutive calls', size=16)\n",
      "pl.tick_params(axis='both', labelsize=14)\n",
      "#pl.ylim(0,1)\n",
      "\n",
      "pl.savefig(plName)\n",
      "print plName"
     ],
     "language": "python",
     "metadata": {},
     "outputs": [
      {
       "output_type": "stream",
       "stream": "stdout",
       "text": [
        "/home/florencia/whales/NLP/NPWvocalRepertoire/yearSetting/images/NPWVR-DtHist-zoom.png\n"
       ]
      },
      {
       "output_type": "display_data",
       "png": "[encoded data removed]"
      }
     ],
     "prompt_number": 22
    },
    {
     "cell_type": "code",
     "collapsed": false,
     "input": [
      "\n",
      "#normHist = histDt/histNorm\n",
      "comHistDt = np.add.accumulate(histDt)/histNorm\n",
      "\n",
      "plName = dirName+\"/images/NPWVR-DtComulativeHist.png\" # declre out file name\n",
      "\n",
      "pl.figure(figsize=(6,4))\n",
      "pl.plot(comHistDt[:100])\n",
      "pl.xlim(-1,50)\n",
      "#pl.ylim(0,1500)\n",
      "pl.fill_between(np.arange(100),0, comHistDt[:100], alpha=0.4)\n",
      "\n",
      "pl.xlabel('$\\Delta$ t [s]', size=16)\n",
      "pl.ylabel('Accomulative fraction of calls', size=16)\n",
      "pl.tick_params(axis='both', labelsize=14)\n",
      "#pl.ylim(0,1)\n",
      "\n",
      "pl.savefig(plName)\n",
      "print plName\n"
     ],
     "language": "python",
     "metadata": {},
     "outputs": [
      {
       "output_type": "stream",
       "stream": "stdout",
       "text": [
        "/home/florencia/whales/NLP/NPWvocalRepertoire/yearSetting/images/NPWVR-DtComulativeHist.png\n"
       ]
      },
      {
       "output_type": "display_data",
       "png": "[encoded data removed]"
      }
     ],
     "prompt_number": 24
    },
    {
     "cell_type": "code",
     "collapsed": false,
     "input": [
      "print \"the lasgest time interval within a frame tape day is 634s\", histDt[634:].sum()"
     ],
     "language": "python",
     "metadata": {},
     "outputs": [
      {
       "output_type": "stream",
       "stream": "stdout",
       "text": [
        "the lasgest time interval within a frame tape day is 634s 1.0\n"
       ]
      }
     ],
     "prompt_number": 59
    },
    {
     "cell_type": "code",
     "collapsed": false,
     "input": [],
     "language": "python",
     "metadata": {},
     "outputs": [
      {
       "ename": "IndentationError",
       "evalue": "unexpected indent (<ipython-input-56-8af73d2cb9f3>, line 1)",
       "output_type": "pyerr",
       "traceback": [
        "\u001b[0;36m  File \u001b[0;32m\"<ipython-input-56-8af73d2cb9f3>\"\u001b[0;36m, line \u001b[0;32m1\u001b[0m\n\u001b[0;31m    634/60\u001b[0m\n\u001b[0m    ^\u001b[0m\n\u001b[0;31mIndentationError\u001b[0m\u001b[0;31m:\u001b[0m unexpected indent\n"
       ]
      }
     ],
     "prompt_number": 56
    },
    {
     "cell_type": "code",
     "collapsed": false,
     "input": [
      "myD={'A':np.array([[2,3,1], [2], [3,1,1]])}"
     ],
     "language": "python",
     "metadata": {},
     "outputs": [],
     "prompt_number": 1
    },
    {
     "cell_type": "code",
     "collapsed": false,
     "input": [
      "myD['B']=np.array([[10,20]])"
     ],
     "language": "python",
     "metadata": {},
     "outputs": [],
     "prompt_number": 5
    },
    {
     "cell_type": "code",
     "collapsed": false,
     "input": [
      "myD"
     ],
     "language": "python",
     "metadata": {},
     "outputs": [
      {
       "output_type": "pyout",
       "prompt_number": 6,
       "text": [
        "{'A': array([[2, 3, 1], [2], [3, 1, 1]], dtype=object), 'B': array([[10, 20]])}"
       ]
      }
     ],
     "prompt_number": 6
    },
    {
     "cell_type": "code",
     "collapsed": false,
     "input": [
      "for i in myD.keys():\n",
      "    setN = i+\".dat\" \n",
      "    print setN\n",
      "    for j in myD[i]:\n",
      "       print i, j"
     ],
     "language": "python",
     "metadata": {},
     "outputs": [
      {
       "output_type": "stream",
       "stream": "stdout",
       "text": [
        "A.dat\n",
        "A [2, 3, 1]\n",
        "A [2]\n",
        "A [3, 1, 1]\n",
        "B.dat\n",
        "B [10 20]\n"
       ]
      }
     ],
     "prompt_number": 11
    },
    {
     "cell_type": "code",
     "collapsed": false,
     "input": [],
     "language": "python",
     "metadata": {},
     "outputs": []
    }
   ],
   "metadata": {}
  }
 ]
}