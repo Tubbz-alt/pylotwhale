{
 "metadata": {
  "name": ""
 },
 "nbformat": 3,
 "nbformat_minor": 0,
 "worksheets": [
  {
   "cells": [
    {
     "cell_type": "code",
     "collapsed": false,
     "input": [
      "import os\n",
      "import pylab as pl\n",
      "import numpy as np\n",
      "import sys\n",
      "import os"
     ],
     "language": "python",
     "metadata": {},
     "outputs": [],
     "prompt_number": 1
    },
    {
     "cell_type": "code",
     "collapsed": false,
     "input": [
      "fileN = \"/home/florencia/whales/NLP/NPWvocalRepertoire/yearSetting/NPWVR-sequences-calls.dat\"\n",
      "fileN = \"/home/florencia/whales/NLP/NPWvocalRepertoire/yearSetting/objectTests/time/\"\n",
      "dirN = \"/\".join(fileN.split('/')[:-1])\n",
      "basN = os.path.basename(fileN).split('.dat')[0]\n",
      "f = open(fileN, \"r\")\n",
      "print fileN, \"\\nDir\", dirN, \"\\nbanse name:\", basN"
     ],
     "language": "python",
     "metadata": {},
     "outputs": [
      {
       "output_type": "stream",
       "stream": "stdout",
       "text": [
        "/home/florencia/whales/NLP/NPWvocalRepertoire/yearSetting/NPWVR-sequences-calls.dat \n",
        "Dir /home/florencia/whales/NLP/NPWvocalRepertoire/yearSetting \n",
        "banse name: NPWVR-sequences-calls\n"
       ]
      }
     ],
     "prompt_number": 49
    },
    {
     "cell_type": "code",
     "collapsed": false,
     "input": [
      "seqs = f.read()\n",
      "lines = seqs.split(\"\\n\")[1:] # the first element is a space, therefore we ignore it"
     ],
     "language": "python",
     "metadata": {},
     "outputs": [],
     "prompt_number": 50
    },
    {
     "cell_type": "code",
     "collapsed": false,
     "input": [
      "print len(lines), \"first:\", lines[2],\"last:\",  lines[-1],\"second last:\",  lines[-2]"
     ],
     "language": "python",
     "metadata": {},
     "outputs": [
      {
       "output_type": "stream",
       "stream": "stdout",
       "text": [
        "2454 first: 105 105 105 105 last: whistle second last: whistle\n"
       ]
      }
     ],
     "prompt_number": 51
    },
    {
     "cell_type": "heading",
     "level": 4,
     "metadata": {},
     "source": [
      "Histogram with the of the number of each ngram"
     ]
    },
    {
     "cell_type": "code",
     "collapsed": false,
     "input": [
      "ngramHist = np.zeros(100)\n",
      "\n",
      "for i in lines: # iterate over the lines\n",
      "    dict = {}\n",
      "    col = i.split(' ')\n",
      "    #print len(col)\n",
      "    for j in col: #iterate over the elemnts of each line\n",
      "        dict[j]=1\n",
      "    ngramHist[len(col)]+=1\n",
      "    #if len(col)>6:\n",
      "        #print len(col), len(dict.keys()), dict.keys()\n",
      "        \n",
      "ngramHist[:5]"
     ],
     "language": "python",
     "metadata": {},
     "outputs": [
      {
       "metadata": {},
       "output_type": "pyout",
       "prompt_number": 52,
       "text": [
        "array([    0.,  1268.,   464.,   230.,   128.])"
       ]
      }
     ],
     "prompt_number": 52
    },
    {
     "cell_type": "code",
     "collapsed": false,
     "input": [
      "figName = dirN+\"/images/\"+basN+\"-zoom.pdf\"\n",
      "pl.figure(figsize=(10,2))\n",
      "pl.bar(range(93), ngramHist[:93])\n",
      "#pl.xlabel('order of Ngram',size=16)\n",
      "#pl.ylabel('occurrences', size=16)\n",
      "pl.tick_params(axis='both', labelsize=12)\n",
      "pl.ylim(0,20)\n",
      "pl.xlim(10,)\n",
      "\n",
      "pl.savefig(figName, bbox_inches='tight')\n",
      "    \n",
      "print figName"
     ],
     "language": "python",
     "metadata": {},
     "outputs": [
      {
       "output_type": "stream",
       "stream": "stdout",
       "text": [
        "/home/florencia/whales/NLP/NPWvocalRepertoire/yearSetting/images/NPWVR-sequences-calls-zoom.pdf\n"
       ]
      },
      {
       "metadata": {},
       "output_type": "display_data",
       "png": "[encoded data removed]",
       "text": [
        "<matplotlib.figure.Figure at 0x49d4850>"
       ]
      }
     ],
     "prompt_number": 58
    },
    {
     "cell_type": "code",
     "collapsed": false,
     "input": [
      "ngramHist[0:5]"
     ],
     "language": "python",
     "metadata": {},
     "outputs": [
      {
       "metadata": {},
       "output_type": "pyout",
       "prompt_number": 56,
       "text": [
        "array([    0.,  1268.,   464.,   230.,   128.])"
       ]
      }
     ],
     "prompt_number": 56
    },
    {
     "cell_type": "code",
     "collapsed": false,
     "input": [
      "c105 = np.sum([li.count('105') for li in lines])"
     ],
     "language": "python",
     "metadata": {},
     "outputs": [],
     "prompt_number": 14
    },
    {
     "cell_type": "code",
     "collapsed": false,
     "input": [
      "c105\n"
     ],
     "language": "python",
     "metadata": {},
     "outputs": [
      {
       "metadata": {},
       "output_type": "pyout",
       "prompt_number": 15,
       "text": [
        "13"
       ]
      }
     ],
     "prompt_number": 15
    },
    {
     "cell_type": "code",
     "collapsed": false,
     "input": [],
     "language": "python",
     "metadata": {},
     "outputs": []
    }
   ],
   "metadata": {}
  }
 ]
}