{
 "metadata": {
  "name": ""
 },
 "nbformat": 3,
 "nbformat_minor": 0,
 "worksheets": [
  {
   "cells": [
    {
     "cell_type": "code",
     "collapsed": false,
     "input": [
      "import sys\n",
      "import os\n",
      "import numpy as np\n",
      "import pylab as pl"
     ],
     "language": "python",
     "metadata": {},
     "outputs": [],
     "prompt_number": 2
    },
    {
     "cell_type": "code",
     "collapsed": false,
     "input": [
      "sys.path.append('/home/florencia/whales/scripts/NLP')\n",
      "import ngramOsec as ngramO"
     ],
     "language": "python",
     "metadata": {},
     "outputs": [],
     "prompt_number": 3
    },
    {
     "cell_type": "code",
     "collapsed": false,
     "input": [
      "reload(ngramO)"
     ],
     "language": "python",
     "metadata": {},
     "outputs": [
      {
       "metadata": {},
       "output_type": "pyout",
       "prompt_number": 4,
       "text": [
        "<module 'ngramOsec' from 'ngramOsec.pyc'>"
       ]
      }
     ],
     "prompt_number": 4
    },
    {
     "cell_type": "heading",
     "level": 3,
     "metadata": {},
     "source": [
      "read files"
     ]
    },
    {
     "cell_type": "code",
     "collapsed": false,
     "input": [
      "inF = '/home/florencia/whales/NLP/NPWvocalRepertoire/yearSetting/NPWVR-time-noNA.dat'\n",
      "outDir = '/'.join(inF.split('/')[:-1])+\"/objectTests/time\"\n",
      "outFigD = outDir+'/images'\n",
      "print inF, \"\\n\", outDir, \"\\n\", outFigD"
     ],
     "language": "python",
     "metadata": {},
     "outputs": [
      {
       "output_type": "stream",
       "stream": "stdout",
       "text": [
        "/home/florencia/whales/NLP/NPWvocalRepertoire/yearSetting/NPWVR-time-noNA.dat \n",
        "/home/florencia/whales/NLP/NPWvocalRepertoire/yearSetting/objectTests/time \n",
        "/home/florencia/whales/NLP/NPWvocalRepertoire/yearSetting/objectTests/time/images\n"
       ]
      }
     ],
     "prompt_number": 1
    },
    {
     "cell_type": "heading",
     "level": 4,
     "metadata": {},
     "source": [
      "Read table into matrix"
     ]
    },
    {
     "cell_type": "code",
     "collapsed": false,
     "input": [
      "myChart = ngramO.chartCharact(inF)\n",
      "fullData = myChart.matrix\n",
      "\n",
      "groupsFreq = myChart.labels(7)\n",
      "groupsN = groupsFreq.keys()\n",
      "\n",
      "print \"whale groups frequencies:\", groupsFreq, \"\\nnumber of clumns:\", myChart.Ncols, \"\\nnumber of lines:\", myChart.Nlines, \\\n",
      "\"\\ndata matrix: \", np.shape(fullData)"
     ],
     "language": "python",
     "metadata": {},
     "outputs": [
      {
       "output_type": "stream",
       "stream": "stdout",
       "text": [
        "loaded a chart with shape 7009 10\n",
        "whale groups frequencies: {'B': 1417, 'shot': 2, 'D': 989, 'G': 223, 'F': 181, 'H': 1829, 'J': 2361, 'Nx': 2, '004': 4, 'bout': 1} \n",
        "number of clumns: 10 \n",
        "number of lines: 7009 \n",
        "data matrix:  (7009, 10)\n"
       ]
      }
     ],
     "prompt_number": 6
    },
    {
     "cell_type": "heading",
     "level": 3,
     "metadata": {},
     "source": [
      "plotting functions"
     ]
    },
    {
     "cell_type": "code",
     "collapsed": false,
     "input": [
      "### bigram matrix\n",
      "def plBigramMatrix(biG, outFigD, baseN, pl_title = ''):\n",
      "    outFig = outFigD+\"/%s-bigram.pdf\"%baseN\n",
      "    fig = pl.figure()\n",
      "    ax = fig.add_subplot()\n",
      "    cax = pl.imshow(biG, interpolation='nearest', cmap=pl.cm.gist_earth_r)\n",
      "    cbar = fig.colorbar((cax), ticks=[1,0.5,0]) #, shrink = 0.8)\n",
      "    #cbar.ax.set_yticklabels(['0',\"$10^3$\", \"$10^5$\"])#, size='large')# vertically oriented colorbar\n",
      "    cbar.ax.tick_params(labelsize=10)\n",
      "    cbar.set_label(\"probability\", size=12)\n",
      "    pl.ylabel(\"first call\", size = 12)\n",
      "    pl.xlabel(\"second call\", size = 12)\n",
      "    pl.title(\"%s\"% pl_title)\n",
      "    pl.savefig(outFig)\n",
      "    print \"\\nbigram matrix:\", outFig\n",
      "    \n",
      "    \n",
      "# plot diff and rep call probabilities\n",
      "def plRepDiffCallprobability(reP, difP, outFigD, baseN, pl_title = ''):\n",
      "\n",
      "    outFig = outFigD+\"/%s-probabilities.pdf\"%baseN\n",
      "    print len(reP), len(difP), outFig\n",
      "    \n",
      "    fig = pl.figure(figsize=(10,3))\n",
      "    pl.title('probability of getting the same or a differnet call (%s)'%pl_title)\n",
      "    pl.plot(np.sort(reP), 'b.', label=\"repetitoin\")\n",
      "    pl.plot(np.sort(difP), 'g.', label = \"different\")\n",
      "    pl.legend(loc='upper left')\n",
      "    pl.ylim(0,1.1)\n",
      "    pl.xlabel('calls')\n",
      "    pl.ylabel('probability')\n",
      "    pl.savefig(outFig)\n",
      "\n",
      "#print repetion and different call files\n",
      "\n",
      "def printRepAndDiffCallFiles(biG, words, sortedPC, outDir, baseN):\n",
      "    \n",
      "    outF1 = outDir+\"/%s2gramchart-repetitions.dat\"%baseN\n",
      "    outF2 = outDir+\"/%s2gramchart-diffCall.dat\"%baseN\n",
      "    f1 = open(outF1,'w')\n",
      "    f2 = open(outF2, 'w')\n",
      "    print outF1, outF2\n",
      "    counter = 1\n",
      "\n",
      "    for i in np.arange(len(biG)): \n",
      "        if occurences[i] > occurrencesT: # filter low frequency events\n",
      "            if MPCprob[i] == biG[i,i]:\n",
      "                f1.write(\"%d\\t%d\\t%d (%s)\\t%d (%s)\\t%.2f\\t%d (%s)\\t%.2f\\n\"%(counter, occurences[i], i, words[i],\\\n",
      "                sortedPC[i,0], words[ sortedPC[i,0]], biG[ i, sortedPC[i,0]], \\\n",
      "                sortedPC[i,1], words[ sortedPC[i,1]], biG[ i, sortedPC[i,1]] ) )\n",
      "\n",
      "            else:\n",
      "                f2.write(\"%d\\t%d\\t%d (%s)\\t%d (%s)\\t%.2f\\t%d (%s)\\t%.2f\\n\"%(counter, occurences[i], i, words[i],\\\n",
      "                sortedPC[i,0], words[sortedPC[i,0]], biG[i, sortedPC[i,0]], \\\n",
      "                sortedPC[i,1], words[sortedPC[i,1]], biG[i, sortedPC[i,1]] ) )\n",
      "            \n",
      "            counter+=1\n",
      "        \n",
      "    f1.close()\n",
      "    f2.close()\n",
      "    \n",
      "   \n",
      "def plMPC(sortedPC, occurrencesT, outFigD, baseN, pl_title ='' ):\n",
      "    figN = outFigD+\"/%s-first2MPC-moreThan%dccs.png\"%(baseN, occurrencesT)\n",
      "    print figN\n",
      "    fig = pl.figure(figsize=(6,5))\n",
      "    ax = fig.add_subplot()\n",
      "    cax = pl.plot(sortedPC[subbiG_i[:],0], subbiG_i[:], 'bo', markersize = 10 , label = 'most probable call') \n",
      "    cax = pl.plot(sortedPC[subbiG_i[:],1], subbiG_i[:], 'go', markersize = 6, alpha=0.4, label = 'second most probable call') \n",
      "    pl.gca().invert_yaxis() # inver y axis\n",
      "    pl.xlabel(\"second call\", size=12)\n",
      "    pl.ylabel(\"first call\", size=12)\n",
      "    pl.title(\"%s\"%pl_title)\n",
      "    pl.tick_params(\"both\", labelsize=12)\n",
      "    #pl.legend(loc=\"upper left\")\n",
      "    pl.savefig(figN)"
     ],
     "language": "python",
     "metadata": {},
     "outputs": [],
     "prompt_number": 42
    },
    {
     "cell_type": "heading",
     "level": 3,
     "metadata": {},
     "source": [
      "print sequences for all groups"
     ]
    },
    {
     "cell_type": "markdown",
     "metadata": {},
     "source": [
      "all: create sequences files and process them"
     ]
    },
    {
     "cell_type": "code",
     "collapsed": false,
     "input": [
      "groupNames = ['B', 'D', 'G', 'F', 'H', 'J']\n",
      "#groupNames = [\"all\"] #uncomment for all data\n",
      "seqsFiles = []\n",
      "timeTvec = range(0,10)\n",
      "\n",
      "outT = outDir+\"/N_ngrams_time.dat\"\n",
      "\n",
      "print outT\n",
      "f1 = open(outT, 'w')\n",
      "\n",
      "\n",
      "for timeT in timeTvec:\n",
      "    for group in groupNames:    \n",
      "        groupSelect = ngramO.group(fullData, group) # for groups\n",
      "        groupData = groupSelect.groupMatrix # for groups\n",
      "        #groupData = fullData # uncoment for all data\n",
      "        seqs = ngramO.mySequences(groupData, timeT).sequences\n",
      "    \n",
      "        oFN = outDir+\"/sequences-group%s-timeT%d.dat\"%(group, timeT)\n",
      "        oF = open(oFN, 'w')    \n",
      "        for i in seqs:\n",
      "            aux = \" \".join(i)\n",
      "            oF.write(\"%s\\n\"%aux)\n",
      "        oF.close()\n",
      "        \n",
      "        txtF = oFN\n",
      "        baseN = txtF.split('/')[-1].split('.')[0]\n",
      "        occurrencesT = 5\n",
      "\n",
      "        #print \"in file:\", txtF, \"\\nout dir:\", outDir,\"\\nout fig dir:\",  outFigD, \"\\nbase name:\", baseN\n",
      "\n",
      "        ### frequences\n",
      "        sequences = ngramO.bigram(txtF)\n",
      "        frec2G = sequences.BiGMatrix() #frequency matrix\n",
      "        words = sequences.words\n",
      "\n",
      "        ### probabilities\n",
      "        secProbs = ngramO.bigramProbabilities(frec2G)\n",
      "        biG = secProbs.bigramMatrix\n",
      "        occurences = secProbs.Nbigrams\n",
      "        sortedPC = secProbs.getProbableCalls()\n",
      "        print \"\\nINFO\", group, sum(occurences), timeT\n",
      "        f1.write(\"%s\\t%d\\t%d\\t\"%(group, sum( occurences), timeT )+ ' '.join(map(str, map(int, occurences))) +\"\\n\")\n",
      "        \n",
      "        ### sub grup of high occurrences\n",
      "        subbiG_i= secProbs.subSetMoreThanN(occurrencesT)\n",
      "\n",
      "        ### output\n",
      "        #plBigramMatrix(biG, outFigD, baseN, group)\n",
      "        #plMPC(sortedPC, occurrencesT, outFigD, baseN, group)\n",
      "        #printRepAndDiffCallFiles(biG, words, sortedPC, outDir, baseN)\n",
      "        \n",
      "        del sequences, words, frec2G, secProbs, biG, occurences, sortedPC\n",
      "        \n",
      "f1.close()\n",
      "        "
     ],
     "language": "python",
     "metadata": {},
     "outputs": [
      {
       "output_type": "stream",
       "stream": "stdout",
       "text": [
        "/home/florencia/whales/NLP/NPWvocalRepertoire/yearSetting/objectTests/time/N_ngrams_time.dat\n",
        "bigram object"
       ]
      },
      {
       "output_type": "stream",
       "stream": "stdout",
       "text": [
        "\n",
        "full bigram\n",
        "effective bigram\n",
        "\n",
        "INFO"
       ]
      },
      {
       "output_type": "stream",
       "stream": "stdout",
       "text": [
        " all 549.0 0\n",
        "bigram object"
       ]
      },
      {
       "output_type": "stream",
       "stream": "stdout",
       "text": [
        "\n",
        "full bigram\n",
        "effective bigram\n",
        "\n",
        "INFO"
       ]
      },
      {
       "output_type": "stream",
       "stream": "stdout",
       "text": [
        " all 1752.0 1\n",
        "bigram object"
       ]
      },
      {
       "output_type": "stream",
       "stream": "stdout",
       "text": [
        "\n",
        "full bigram\n",
        "effective bigram\n",
        "\n",
        "INFO"
       ]
      },
      {
       "output_type": "stream",
       "stream": "stdout",
       "text": [
        " all 3054.0 2\n",
        "bigram object"
       ]
      },
      {
       "output_type": "stream",
       "stream": "stdout",
       "text": [
        "\n",
        "full bigram\n",
        "effective bigram\n",
        "\n",
        "INFO"
       ]
      },
      {
       "output_type": "stream",
       "stream": "stdout",
       "text": [
        " all 3902.0 3\n",
        "bigram object"
       ]
      },
      {
       "output_type": "stream",
       "stream": "stdout",
       "text": [
        "\n",
        "full bigram\n",
        "effective bigram\n",
        "\n",
        "INFO"
       ]
      },
      {
       "output_type": "stream",
       "stream": "stdout",
       "text": [
        " all 4561.0 4\n",
        "bigram object"
       ]
      },
      {
       "output_type": "stream",
       "stream": "stdout",
       "text": [
        "\n",
        "full bigram\n",
        "effective bigram\n",
        "\n",
        "INFO"
       ]
      },
      {
       "output_type": "stream",
       "stream": "stdout",
       "text": [
        " all 4977.0 5\n",
        "bigram object"
       ]
      },
      {
       "output_type": "stream",
       "stream": "stdout",
       "text": [
        "\n",
        "full bigram\n",
        "effective bigram\n",
        "\n",
        "INFO"
       ]
      },
      {
       "output_type": "stream",
       "stream": "stdout",
       "text": [
        " all 5315.0 6\n",
        "bigram object"
       ]
      },
      {
       "output_type": "stream",
       "stream": "stdout",
       "text": [
        "\n",
        "full bigram\n",
        "effective bigram\n",
        "\n",
        "INFO"
       ]
      },
      {
       "output_type": "stream",
       "stream": "stdout",
       "text": [
        " all 5542.0 7\n",
        "bigram object"
       ]
      },
      {
       "output_type": "stream",
       "stream": "stdout",
       "text": [
        "\n",
        "full bigram\n",
        "effective bigram\n",
        "\n",
        "INFO"
       ]
      },
      {
       "output_type": "stream",
       "stream": "stdout",
       "text": [
        " all 5735.0 8\n",
        "bigram object"
       ]
      },
      {
       "output_type": "stream",
       "stream": "stdout",
       "text": [
        "\n",
        "full bigram\n",
        "effective bigram\n",
        "\n",
        "INFO"
       ]
      },
      {
       "output_type": "stream",
       "stream": "stdout",
       "text": [
        " all 5898.0 9\n"
       ]
      }
     ],
     "prompt_number": 63
    },
    {
     "cell_type": "code",
     "collapsed": false,
     "input": [
      "group = 'H'#groupNames = ['B', 'D', 'G', 'F', 'H', 'J']\n",
      "seqsFiles = []\n",
      "timeTvec = range(5)\n",
      "repSet = []\n",
      "diffSet = []\n",
      "\n",
      "for timeT in timeTvec:\n",
      "       \n",
      "    oFN = outDir+\"/sequences-group%s-timeT%d.dat\"%(group, timeT)\n",
      "    #del sequences, words, frec2G, secProbs, biG, occurences, sortedPC\n",
      "\n",
      "    txtF = oFN\n",
      "    baseN = txtF.split('/')[-1].split('.')[0]\n",
      "    occurrencesT = 5\n",
      "\n",
      "    print \"in file:\", txtF, \"\\nout dir:\", outDir,\"\\nout fig dir:\",  outFigD, \"\\nbase name:\", baseN\n",
      "\n",
      "    ### frequences\n",
      "    sequences = ngramO.bigram(txtF)\n",
      "    frec2G = sequences.BiGMatrix() #frequency matrix\n",
      "    words = sequences.words\n",
      "\n",
      "    ### probabilities\n",
      "    secProbs = ngramO.bigramProbabilities(frec2G)\n",
      "    biG = secProbs.bigramMatrix\n",
      "    occurences = secProbs.Nbigrams\n",
      "    sortedPC = secProbs.getProbableCalls()\n",
      "    \n",
      "    ### sub grup of high occurrences\n",
      "    subbiG_i= secProbs.subSetMoreThanN(occurrencesT)\n",
      "    \n",
      "    repW = [words[i] for i in secProbs.MPrepetitionCallSet if i in subbiG_i ]\n",
      "    repSet.append( repW )\n",
      "    difW = [words[i] for i in secProbs.MPdiffCallSet if i in subbiG_i ]\n",
      "    diffSet.append( difW )\n",
      "\n",
      "    \n",
      "    ### output\n",
      "    #plBigramMatrix(biG, outFigD, baseN, group)\n",
      "    #plMPC(sortedPC, occurrencesT, outFigD, baseN, group)\n",
      "    #printRepAndDiffCallFiles(biG, words, sortedPC, outDir, baseN)\n",
      "        \n",
      "    print \"group\", group, \"\\nrep:\", repSet, \"\\ndifSet:\", diffSet\n",
      "\n",
      "        "
     ],
     "language": "python",
     "metadata": {},
     "outputs": [
      {
       "output_type": "stream",
       "stream": "stdout",
       "text": [
        "in file: /home/florencia/whales/NLP/NPWvocalRepertoire/yearSetting/objectTests/time/sequences-groupH-timeT0.dat \n",
        "out dir: /home/florencia/whales/NLP/NPWvocalRepertoire/yearSetting/objectTests/time \n",
        "out fig dir: /home/florencia/whales/NLP/NPWvocalRepertoire/yearSetting/objectTests/time/images \n",
        "base name: sequences-groupH-timeT0\n",
        "bigram object\n",
        "full bigram\n",
        "effective bigram\n",
        "group H \n",
        "rep: [[]] \n",
        "difSet: [['022', 'squeak', '030', 'whistle', '027', 'oc', 'buzz']]\n",
        "in file: /home/florencia/whales/NLP/NPWvocalRepertoire/yearSetting/objectTests/time/sequences-groupH-timeT1.dat \n",
        "out dir: /home/florencia/whales/NLP/NPWvocalRepertoire/yearSetting/objectTests/time \n",
        "out fig dir: /home/florencia/whales/NLP/NPWvocalRepertoire/yearSetting/objectTests/time/images \n",
        "base name: sequences-groupH-timeT1\n",
        "bigram object\n",
        "full bigram\n",
        "effective bigram\n",
        "group H \n",
        "rep: [[], ['070', '078', 'squeak', '063', '027', '028', '040']] \n",
        "difSet: [['022', 'squeak', '030', 'whistle', '027', 'oc', 'buzz'], ['022', '030', 'whistle', '024', '014i', 'oc', 'buzz']]\n",
        "in file: /home/florencia/whales/NLP/NPWvocalRepertoire/yearSetting/objectTests/time/sequences-groupH-timeT2.dat \n",
        "out dir: /home/florencia/whales/NLP/NPWvocalRepertoire/yearSetting/objectTests/time \n",
        "out fig dir: /home/florencia/whales/NLP/NPWvocalRepertoire/yearSetting/objectTests/time/images \n",
        "base name: sequences-groupH-timeT2\n",
        "bigram object\n",
        "full bigram\n",
        "effective bigram"
       ]
      },
      {
       "output_type": "stream",
       "stream": "stdout",
       "text": [
        "\n",
        "group H \n",
        "rep: [[], ['070', '078', 'squeak', '063', '027', '028', '040'], ['070', '078', 'squeak', '039', '063', '027', '028', '040']] \n",
        "difSet: [['022', 'squeak', '030', 'whistle', '027', 'oc', 'buzz'], ['022', '030', 'whistle', '024', '014i', 'oc', 'buzz'], ['022', '030', '036', 'weak', 'whistle', '006', '023', '044', '024', '014i', 'oc', 'buzz']]\n",
        "in file: /home/florencia/whales/NLP/NPWvocalRepertoire/yearSetting/objectTests/time/sequences-groupH-timeT3.dat \n",
        "out dir: /home/florencia/whales/NLP/NPWvocalRepertoire/yearSetting/objectTests/time \n",
        "out fig dir: /home/florencia/whales/NLP/NPWvocalRepertoire/yearSetting/objectTests/time/images \n",
        "base name: sequences-groupH-timeT3\n",
        "bigram object\n",
        "full bigram\n",
        "effective bigram\n",
        "group H \n",
        "rep: [[], ['070', '078', 'squeak', '063', '027', '028', '040'], ['070', '078', 'squeak', '039', '063', '027', '028', '040'], ['070', '078', '079', 'squeak', '039', '030', '063', 'whistle', '027', '044', '028', '040', 'oc']] \n",
        "difSet: [['022', 'squeak', '030', 'whistle', '027', 'oc', 'buzz'], ['022', '030', 'whistle', '024', '014i', 'oc', 'buzz'], ['022', '030', '036', 'weak', 'whistle', '006', '023', '044', '024', '014i', 'oc', 'buzz'], ['022', '036', '037', 'weak', '006', '023', '024', '014i', 'buzz']]\n",
        "in file: /home/florencia/whales/NLP/NPWvocalRepertoire/yearSetting/objectTests/time/sequences-groupH-timeT4.dat \n",
        "out dir: /home/florencia/whales/NLP/NPWvocalRepertoire/yearSetting/objectTests/time \n",
        "out fig dir: /home/florencia/whales/NLP/NPWvocalRepertoire/yearSetting/objectTests/time/images \n",
        "base name: sequences-groupH-timeT4\n",
        "bigram object\n",
        "full bigram\n",
        "effective bigram\n",
        "group H \n",
        "rep: [[], ['070', '078', 'squeak', '063', '027', '028', '040'], ['070', '078', 'squeak', '039', '063', '027', '028', '040'], ['070', '078', '079', 'squeak', '039', '030', '063', 'whistle', '027', '044', '028', '040', 'oc'], ['070', '078', '079', 'squeak', '039', '058', '030', '035', '063', 'weak', '025', 'whistle', '027', '044', '028', '040', '024', 'oc']] \n",
        "difSet: [['022', 'squeak', '030', 'whistle', '027', 'oc', 'buzz'], ['022', '030', 'whistle', '024', '014i', 'oc', 'buzz'], ['022', '030', '036', 'weak', 'whistle', '006', '023', '044', '024', '014i', 'oc', 'buzz'], ['022', '036', '037', 'weak', '006', '023', '024', '014i', 'buzz'], ['022', '036', '037', '006', '023', '014i', '082i', 'buzz']]\n"
       ]
      }
     ],
     "prompt_number": 90
    },
    {
     "cell_type": "code",
     "collapsed": false,
     "input": [
      "for i in repSet:\n",
      "    print i"
     ],
     "language": "python",
     "metadata": {},
     "outputs": [
      {
       "output_type": "stream",
       "stream": "stdout",
       "text": [
        "[]\n",
        "['070', '078', 'squeak', '063', '027', '028', '040']\n",
        "['070', '078', 'squeak', '039', '063', '027', '028', '040']\n",
        "['070', '078', '079', 'squeak', '039', '030', '063', 'whistle', '027', '044', '028', '040', 'oc']\n",
        "['070', '078', '079', 'squeak', '039', '058', '030', '035', '063', 'weak', '025', 'whistle', '027', '044', '028', '040', '024', 'oc']\n"
       ]
      }
     ],
     "prompt_number": 92
    },
    {
     "cell_type": "code",
     "collapsed": false,
     "input": [
      "for i in seqsFiles:\n",
      "    print i"
     ],
     "language": "python",
     "metadata": {},
     "outputs": [
      {
       "output_type": "stream",
       "stream": "stdout",
       "text": [
        "/home/florencia/whales/NLP/NPWvocalRepertoire/yearSetting/objectTests/time/sequences-groupB-timeT4.dat\n",
        "/home/florencia/whales/NLP/NPWvocalRepertoire/yearSetting/objectTests/time/sequences-groupD-timeT4.dat\n",
        "/home/florencia/whales/NLP/NPWvocalRepertoire/yearSetting/objectTests/time/sequences-groupG-timeT4.dat\n",
        "/home/florencia/whales/NLP/NPWvocalRepertoire/yearSetting/objectTests/time/sequences-groupF-timeT4.dat\n",
        "/home/florencia/whales/NLP/NPWvocalRepertoire/yearSetting/objectTests/time/sequences-groupH-timeT4.dat\n",
        "/home/florencia/whales/NLP/NPWvocalRepertoire/yearSetting/objectTests/time/sequences-groupJ-timeT4.dat\n"
       ]
      }
     ],
     "prompt_number": 17
    },
    {
     "cell_type": "code",
     "collapsed": false,
     "input": [
      "txtF =  '/home/florencia/whales/NLP/NPWvocalRepertoire/yearSetting/objectTests/allSequences-timeT4.dat'"
     ],
     "language": "python",
     "metadata": {},
     "outputs": [],
     "prompt_number": 51
    },
    {
     "cell_type": "code",
     "collapsed": false,
     "input": [
      "del sequences, words, frec2G, secProbs, biG, occurences, sortedPC\n",
      "\n",
      "baseN = txtF.split('/')[-1].split('.')[0]\n",
      "occurrencesT = 5\n",
      "\n",
      "print \"in file:\", txtF, \"\\nout dir:\", outDir,\"\\nout fig dir:\",  outFigD, \"\\nbase name:\", baseN\n",
      "\n",
      "### frequences\n",
      "sequences = ngramO.bigram(txtF)\n",
      "frec2G = sequences.BiGMatrix() #frequency matrix\n",
      "words = sequences.words\n",
      "\n",
      "### probabilities\n",
      "secProbs = ngramO.bigramProbabilities(frec2G)\n",
      "biG = secProbs.bigramMatrix\n",
      "occurences = secProbs.Nbigrams\n",
      "sortedPC = secProbs.getProbableCalls()\n",
      "\n",
      "### sub grup of high occurrences\n",
      "subbiG_i= secProbs.subSetMoreThanN(occurrencesT)\n",
      "\n",
      "### output\n",
      "plBigramMatrix(biG, outFigD, baseN, 'all')\n",
      "plMPC(sortedPC, occurrencesT, outFigD, baseN, 'all')\n",
      "printRepAndDiffCallFiles(biG, words, sortedPC, outDir, baseN)\n"
     ],
     "language": "python",
     "metadata": {},
     "outputs": [
      {
       "output_type": "stream",
       "stream": "stdout",
       "text": [
        "in file: /home/florencia/whales/NLP/NPWvocalRepertoire/yearSetting/objectTests/allSequences-timeT4.dat \n",
        "out dir: /home/florencia/whales/NLP/NPWvocalRepertoire/yearSetting/objectTests/time \n",
        "out fig dir: /home/florencia/whales/NLP/NPWvocalRepertoire/yearSetting/objectTests/time/images \n",
        "base name: allSequences-timeT4\n",
        "bigram object\n",
        "full bigram\n",
        "effective bigram\n",
        "\n",
        "bigram matrix:"
       ]
      },
      {
       "output_type": "stream",
       "stream": "stdout",
       "text": [
        " /home/florencia/whales/NLP/NPWvocalRepertoire/yearSetting/objectTests/time/images/allSequences-timeT4-bigram.pdf\n",
        "/home/florencia/whales/NLP/NPWvocalRepertoire/yearSetting/objectTests/time/images/allSequences-timeT4-first2MPC-moreThan5ccs.pdf\n",
        "/home/florencia/whales/NLP/NPWvocalRepertoire/yearSetting/objectTests/time/allSequences-timeT42gramchart-repetitions.dat"
       ]
      },
      {
       "output_type": "stream",
       "stream": "stdout",
       "text": [
        " /home/florencia/whales/NLP/NPWvocalRepertoire/yearSetting/objectTests/time/allSequences-timeT42gramchart-diffCall.dat\n"
       ]
      },
      {
       "output_type": "display_data",
       "png": "[encoded data removed]"
      },
      {
       "output_type": "display_data",
       "png": "[encoded data removed]"
      }
     ],
     "prompt_number": 59
    },
    {
     "cell_type": "code",
     "collapsed": false,
     "input": [
      "# most probable call\n",
      "for i in range(len(subbiG_i[:])):\n",
      "    print words[subbiG_i[i]], words[sortedPC[subbiG_i[i], 0]]"
     ],
     "language": "python",
     "metadata": {},
     "outputs": [
      {
       "output_type": "stream",
       "stream": "stdout",
       "text": [
        "098 098\n",
        "079 079\n",
        "032 weak\n",
        "054 033\n",
        "033 033\n",
        "21 079\n",
        "006 weak\n",
        "other 021\n",
        "061 021\n",
        "060 060\n",
        "067 067\n",
        "buzz weak\n",
        "weak weak\n",
        "085 021\n",
        "whistle whistle\n",
        "122 122\n",
        "021 021\n",
        "049 021\n",
        "squeak weak\n",
        "uscalls 060\n",
        "056i 056i\n",
        "32 021\n",
        "uw uw\n",
        "007iv 021\n"
       ]
      }
     ],
     "prompt_number": 22
    },
    {
     "cell_type": "code",
     "collapsed": false,
     "input": [
      "pl.plot(sort(secProbs.Nbigrams))\n",
      "pl.ylim(0,10)"
     ],
     "language": "python",
     "metadata": {},
     "outputs": [
      {
       "output_type": "pyout",
       "prompt_number": 32,
       "text": [
        "(0, 10)"
       ]
      },
      {
       "output_type": "display_data",
       "png": "[encoded data removed]"
      }
     ],
     "prompt_number": 32
    },
    {
     "cell_type": "code",
     "collapsed": false,
     "input": [],
     "language": "python",
     "metadata": {},
     "outputs": []
    }
   ],
   "metadata": {}
  }
 ]
}