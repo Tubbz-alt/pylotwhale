{
 "metadata": {
  "name": ""
 },
 "nbformat": 3,
 "nbformat_minor": 0,
 "worksheets": [
  {
   "cells": [
    {
     "cell_type": "code",
     "collapsed": false,
     "input": [
      "import sys\n",
      "import os\n",
      "import numpy as np\n",
      "import pylab as pl"
     ],
     "language": "python",
     "metadata": {},
     "outputs": [],
     "prompt_number": 1
    },
    {
     "cell_type": "code",
     "collapsed": false,
     "input": [
      "sys.path.append('/home/florencia/whales/scripts/NLP')\n",
      "import ngramOsec as ngramO"
     ],
     "language": "python",
     "metadata": {},
     "outputs": [],
     "prompt_number": 14
    },
    {
     "cell_type": "code",
     "collapsed": false,
     "input": [
      "reload(ngramO)"
     ],
     "language": "python",
     "metadata": {},
     "outputs": [
      {
       "output_type": "pyout",
       "prompt_number": 15,
       "text": [
        "<module 'ngramOsec' from 'ngramOsec.pyc'>"
       ]
      }
     ],
     "prompt_number": 15
    },
    {
     "cell_type": "heading",
     "level": 3,
     "metadata": {},
     "source": [
      "read files"
     ]
    },
    {
     "cell_type": "code",
     "collapsed": false,
     "input": [
      "inF = '/home/florencia/whales/NLP/NPWvocalRepertoire/yearSetting/NPWVR-time-noNA.dat'\n",
      "outDir = '/'.join(inF.split('/')[:-1])+\"/objectTests\"\n",
      "print inF, \"\\n\", outDir"
     ],
     "language": "python",
     "metadata": {},
     "outputs": [
      {
       "output_type": "stream",
       "stream": "stdout",
       "text": [
        "/home/florencia/whales/NLP/NPWvocalRepertoire/yearSetting/NPWVR-time-noNA.dat \n",
        "/home/florencia/whales/NLP/NPWvocalRepertoire/yearSetting/objectTests\n"
       ]
      }
     ],
     "prompt_number": 16
    },
    {
     "cell_type": "heading",
     "level": 4,
     "metadata": {},
     "source": [
      "Read table into matrix"
     ]
    },
    {
     "cell_type": "code",
     "collapsed": false,
     "input": [
      "myChart = ngramO.chartCharact(inF)\n",
      "fullData = myChart.matrix\n",
      "\n",
      "groupsFreq = myChart.labels(7)\n",
      "groupsN = groupsFreq.keys()\n",
      "\n",
      "print \"whale groups frequencies:\", groupsFreq, \"\\nnumber of clumns:\", myChart.Ncols, \"\\nnumber of lines:\", myChart.Nlines, \\\n",
      "\"\\ndata matrix: \", np.shape(fullData)"
     ],
     "language": "python",
     "metadata": {},
     "outputs": [
      {
       "output_type": "stream",
       "stream": "stdout",
       "text": [
        "loaded a chart with shape 7009 10\n",
        "whale groups frequencies: {'B': 1417, 'shot': 2, 'D': 989, 'G': 223, 'F': 181, 'H': 1829, 'J': 2361, 'Nx': 2, '004': 4, 'bout': 1} \n",
        "number of clumns: 10 \n",
        "number of lines: 7009 \n",
        "data matrix:  (7009, 10)\n"
       ]
      }
     ],
     "prompt_number": 17
    },
    {
     "cell_type": "heading",
     "level": 3,
     "metadata": {},
     "source": [
      "print the sequeces for one group"
     ]
    },
    {
     "cell_type": "code",
     "collapsed": false,
     "input": [
      "group = 'B'\n",
      "groupSelect = ngramO.group(fullData, group)\n",
      "groupData = groupSelect.groupMatrix\n",
      "seqs = ngramO.mySequences(groupData, 5).sequences\n",
      "\n",
      "print \"goup:\", group, \"\\ngroup data:\", np.shape(groupData), \"\\nsequences:\", np.shape(seqs)#, groupSelect.whaleGroup, fullData[0:10,7]"
     ],
     "language": "python",
     "metadata": {},
     "outputs": [
      {
       "output_type": "stream",
       "stream": "stdout",
       "text": [
        "goup: B \n",
        "group data: (1417, 10) \n",
        "sequences: (458,)\n"
       ]
      }
     ],
     "prompt_number": 18
    },
    {
     "cell_type": "code",
     "collapsed": false,
     "input": [
      "oFN = outDir+\"/sequences-group%s.dat\"%group\n",
      "print oFN\n",
      "oF = open(oFN, 'w')\n",
      "for i in seqs:\n",
      "    aux = \" \".join(i)\n",
      "    oF.write(\"%s\\n\"%aux)\n",
      "oF.close()"
     ],
     "language": "python",
     "metadata": {},
     "outputs": [
      {
       "output_type": "stream",
       "stream": "stdout",
       "text": [
        "/home/florencia/whales/NLP/NPWvocalRepertoire/yearSetting/objectTests/sequences-groupB.dat\n"
       ]
      }
     ],
     "prompt_number": 7
    },
    {
     "cell_type": "heading",
     "level": 3,
     "metadata": {},
     "source": [
      "print sequences for all groups"
     ]
    },
    {
     "cell_type": "code",
     "collapsed": false,
     "input": [
      "groupNames = ['B', 'D', 'G', 'F', 'H', 'J']\n",
      "seqsFiles = []\n",
      "timeT = 4\n",
      "\n",
      "for group in groupNames:    \n",
      "    groupSelect = ngramO.group(fullData, group)\n",
      "    groupData = groupSelect.groupMatrix\n",
      "    seqs = ngramO.mySequences(groupData, timeT).sequences\n",
      "    \n",
      "    oFN = outDir+\"/sequences-group%s-timeT%d.dat\"%(group, timeT)\n",
      "    print oFN\n",
      "    seqsFiles.append(oFN)\n",
      "    oF = open(oFN, 'w')\n",
      "    \n",
      "    for i in seqs:\n",
      "        aux = \" \".join(i)\n",
      "        oF.write(\"%s\\n\"%aux)\n",
      "    \n",
      "    oF.close()"
     ],
     "language": "python",
     "metadata": {},
     "outputs": [
      {
       "output_type": "stream",
       "stream": "stdout",
       "text": [
        "/home/florencia/whales/NLP/NPWvocalRepertoire/yearSetting/objectTests/sequences-groupB-timeT4.dat\n",
        "/home/florencia/whales/NLP/NPWvocalRepertoire/yearSetting/objectTests/sequences-groupD-timeT4.dat\n",
        "/home/florencia/whales/NLP/NPWvocalRepertoire/yearSetting/objectTests/sequences-groupG-timeT4.dat"
       ]
      },
      {
       "output_type": "stream",
       "stream": "stdout",
       "text": [
        "\n",
        "/home/florencia/whales/NLP/NPWvocalRepertoire/yearSetting/objectTests/sequences-groupF-timeT4.dat\n",
        "/home/florencia/whales/NLP/NPWvocalRepertoire/yearSetting/objectTests/sequences-groupH-timeT4.dat"
       ]
      },
      {
       "output_type": "stream",
       "stream": "stdout",
       "text": [
        "\n",
        "/home/florencia/whales/NLP/NPWvocalRepertoire/yearSetting/objectTests/sequences-groupJ-timeT4.dat"
       ]
      },
      {
       "output_type": "stream",
       "stream": "stdout",
       "text": [
        "\n"
       ]
      }
     ],
     "prompt_number": 8
    },
    {
     "cell_type": "code",
     "collapsed": false,
     "input": [
      "for i in seqsFiles:\n",
      "    print i"
     ],
     "language": "python",
     "metadata": {},
     "outputs": [
      {
       "output_type": "stream",
       "stream": "stdout",
       "text": [
        "/home/florencia/whales/NLP/NPWvocalRepertoire/yearSetting/objectTests/sequences-groupB-timeT4.dat\n",
        "/home/florencia/whales/NLP/NPWvocalRepertoire/yearSetting/objectTests/sequences-groupD-timeT4.dat\n",
        "/home/florencia/whales/NLP/NPWvocalRepertoire/yearSetting/objectTests/sequences-groupG-timeT4.dat\n",
        "/home/florencia/whales/NLP/NPWvocalRepertoire/yearSetting/objectTests/sequences-groupF-timeT4.dat\n",
        "/home/florencia/whales/NLP/NPWvocalRepertoire/yearSetting/objectTests/sequences-groupH-timeT4.dat\n",
        "/home/florencia/whales/NLP/NPWvocalRepertoire/yearSetting/objectTests/sequences-groupJ-timeT4.dat\n"
       ]
      }
     ],
     "prompt_number": 9
    },
    {
     "cell_type": "code",
     "collapsed": false,
     "input": [
      "txtF =  '/home/florencia/whales/NLP/NPWvocalRepertoire/yearSetting/objectTests/allSequences-timeT4.dat'"
     ],
     "language": "python",
     "metadata": {},
     "outputs": [],
     "prompt_number": 10
    },
    {
     "cell_type": "code",
     "collapsed": false,
     "input": [
      "idx = 4\n",
      "\n",
      "txtF = os.path.expanduser( seqsFiles[idx])\n",
      "#Group = 'All groups'#groupNames[idx]\n",
      "Group = groupNames[idx]\n",
      "outFigD = '/'.join(txtF.split('/')[:-1])+'/images/'\n",
      "baseN = txtF.split('/')[-1].split('.')[0]\n",
      "\n",
      "occurrencesT = 5\n",
      "print txtF, outFigD, baseN\n",
      "\n",
      "sequences = ngramO.bigram(txtF)\n",
      "#vocabulary = sequences.vocabulary()\n",
      "frec2G = sequences.BiGMatrix() #frequency matrix\n",
      "words = sequences.words\n",
      "secProbs = ngramO.bigramProbabilities(frec2G)\n",
      "biG = secProbs.bigramMatrix\n",
      "\n",
      "### bigram matrix\n",
      "outFig = outFigD+\"%s-bigram.pdf\"%baseN\n",
      "fig = pl.figure()\n",
      "ax = fig.add_subplot()\n",
      "cax = pl.imshow(biG, interpolation='nearest', cmap=pl.cm.gist_earth_r)\n",
      "cbar = fig.colorbar((cax), ticks=[1,0.5,0]) #, shrink = 0.8)\n",
      "#cbar.ax.set_yticklabels(['0',\"$10^3$\", \"$10^5$\"])#, size='large')# vertically oriented colorbar\n",
      "cbar.ax.tick_params(labelsize=10)\n",
      "cbar.set_label(\"probability\", size=12)\n",
      "pl.ylabel(\"first call\", size = 12)\n",
      "pl.xlabel(\"second call\", size = 12)\n",
      "pl.title(\"Group %s\"% Group)\n",
      "pl.savefig(outFig)\n",
      "print \"\\nbigram matrix:\", outFig\n",
      "\n",
      "### probabilities\n",
      "reP = secProbs.repetitionP\n",
      "difP = secProbs.differentP\n",
      "occurences = secProbs.Nbigrams\n",
      "vec = reP + np.asarray(difP)\n",
      "\n",
      "outFig = outFigD+\"%s-probabilities.pdf\"%baseN\n",
      "print len(reP), len(difP), outFig\n",
      "\n",
      "fig = pl.figure(figsize=(10,3))\n",
      "pl.title('probability of getting the same or a different call (group %s)'%Group)\n",
      "pl.plot(np.sort(reP), 'b.', label=\"repetitoin\")\n",
      "pl.plot(np.sort(difP), 'g.', label = \"different\")\n",
      "pl.legend(loc='upper left')\n",
      "pl.ylim(0,1.1)\n",
      "pl.xlabel('calls')\n",
      "pl.ylabel('probability')\n",
      "pl.savefig(outFig)\n",
      "\n",
      "\n",
      "indxMPC = secProbs.mostProbableC\n",
      "MPCprob = [ biG[ j, indxMPC[j] ] for j in range(len(biG)) ]\n",
      "\n",
      "sortedPC=secProbs.getProbableCalls()\n",
      "\n",
      "outF1 = outDir+\"/%s2gramchart-repetitions.dat\"%baseN\n",
      "outF2 = outDir+\"/%s2gramchart-diffCall.dat\"%baseN\n",
      "f1 = open(outF1,'w')\n",
      "f2 = open(outF2, 'w')\n",
      "print outF1, outF2\n",
      "\n",
      "counter = 1\n",
      "\n",
      "for i in np.arange(len(biG)):\n",
      "    if occurences[i] > occurrencesT: # filter low frequency events\n",
      "        if MPCprob[i] == biG[i,i]:\n",
      "            #print \"repretition\", biG[i,i], indxMPC[i], sortedPC[i,0], biG[i, sortedPC[i,0]], sortedPC[i,1], biG[i, sortedPC[i,1]] \n",
      "            f1.write(\"%d\\t%d\\t%d (%s)\\t%d (%s)\\t%.2f\\t%d (%s)\\t%.2f\\n\"%(counter, occurences[i], i, words[i],\\\n",
      "            sortedPC[i,0], words[ sortedPC[i,0]], biG[ i, sortedPC[i,0]], \\\n",
      "            sortedPC[i,1], words[ sortedPC[i,1]], biG[ i, sortedPC[i,1]] ) )\n",
      "\n",
      "        else:\n",
      "            #print \"i\"\n",
      "            f2.write(\"%d\\t%d\\t%d (%s)\\t%d (%s)\\t%.2f\\t%d (%s)\\t%.2f\\n\"%(counter, occurences[i], i, words[i],\\\n",
      "            sortedPC[i,0], words[sortedPC[i,0]], biG[i, sortedPC[i,0]], \\\n",
      "            sortedPC[i,1], words[sortedPC[i,1]], biG[i, sortedPC[i,1]] ) )\n",
      "            \n",
      "        counter+=1\n",
      "        \n",
      "\n",
      "f1.close()\n",
      "f2.close()\n",
      "\n",
      "### sub grup of high occurrences\n",
      "subbiG_i=[]\n",
      "for i in np.arange(len(biG)):\n",
      "    if occurences[i] > occurrencesT: # filter low frequency events\n",
      "        #print occurences[i]\n",
      "        subbiG_i.append(i)\n",
      "        \n",
      "#print len(subbiG_i), np.argmax(biG[subbiG_i])\n",
      "figN = outFigD+\"%s-first2MostProbableCalls-moreThan%dccs.pdf\"%(baseN, occurrencesT)\n",
      "print figN\n",
      "fig = pl.figure(figsize=(6,5))\n",
      "ax = fig.add_subplot()\n",
      "cax = pl.plot(subbiG_i[:], sortedPC[subbiG_i[:],0], 'bo', label = 'most probable call') \n",
      "cax = pl.plot(subbiG_i[:], sortedPC[subbiG_i[:],1], 'g.', alpha=0.2, label = 'second most probable call') \n",
      "pl.xlabel(\"call index\", size=12)\n",
      "pl.ylabel(\"call index\", size=12)\n",
      "pl.title(\"Group %s\"%Group)\n",
      "pl.tick_params(\"both\", labelsize=12)\n",
      "#pl.legend(loc=\"upper left\")\n",
      "pl.savefig(figN)"
     ],
     "language": "python",
     "metadata": {},
     "outputs": [
      {
       "output_type": "stream",
       "stream": "stdout",
       "text": [
        "/home/florencia/whales/NLP/NPWvocalRepertoire/yearSetting/objectTests/sequences-groupH-timeT4.dat /home/florencia/whales/NLP/NPWvocalRepertoire/yearSetting/objectTests/images/ sequences-groupH-timeT4\n",
        "bigram object\n",
        "full bigram\n",
        "effective bigram\n",
        "\n",
        "bigram matrix:"
       ]
      },
      {
       "output_type": "stream",
       "stream": "stdout",
       "text": [
        " /home/florencia/whales/NLP/NPWvocalRepertoire/yearSetting/objectTests/images/sequences-groupH-timeT4-bigram.pdf\n",
        "64 64 /home/florencia/whales/NLP/NPWvocalRepertoire/yearSetting/objectTests/images/sequences-groupH-timeT4-probabilities.pdf\n",
        "/home/florencia/whales/NLP/NPWvocalRepertoire/yearSetting/objectTests/sequences-groupH-timeT42gramchart-repetitions.dat"
       ]
      },
      {
       "output_type": "stream",
       "stream": "stdout",
       "text": [
        " /home/florencia/whales/NLP/NPWvocalRepertoire/yearSetting/objectTests/sequences-groupH-timeT42gramchart-diffCall.dat\n",
        "/home/florencia/whales/NLP/NPWvocalRepertoire/yearSetting/objectTests/images/sequences-groupH-timeT4-first2MostProbableCalls-moreThan5ccs.pdf\n"
       ]
      },
      {
       "output_type": "display_data",
       "png": "[encoded data removed]"
      },
      {
       "output_type": "display_data",
       "png": "[encoded data removed]"
      },
      {
       "output_type": "display_data",
       "png": "[encoded data removed]"
      }
     ],
     "prompt_number": 37
    },
    {
     "cell_type": "code",
     "collapsed": false,
     "input": [
      "# most probable call\n",
      "for i in range(len(subbiG_i[:])):\n",
      "    print words[subbiG_i[i]], words[sortedPC[subbiG_i[i], 0]]"
     ],
     "language": "python",
     "metadata": {},
     "outputs": [
      {
       "output_type": "stream",
       "stream": "stdout",
       "text": [
        "098 098\n",
        "079 079\n",
        "032 weak\n",
        "054 033\n",
        "033 033\n",
        "21 079\n",
        "006 weak\n",
        "other 021\n",
        "061 021\n",
        "060 060\n",
        "067 067\n",
        "buzz weak\n",
        "weak weak\n",
        "085 021\n",
        "whistle whistle\n",
        "122 122\n",
        "021 021\n",
        "049 021\n",
        "squeak weak\n",
        "uscalls 060\n",
        "056i 056i\n",
        "32 021\n",
        "uw uw\n",
        "007iv 021\n"
       ]
      }
     ],
     "prompt_number": 22
    },
    {
     "cell_type": "code",
     "collapsed": false,
     "input": [
      "pl.plot(sort(secProbs.Nbigrams))\n",
      "pl.ylim(0,10)"
     ],
     "language": "python",
     "metadata": {},
     "outputs": [
      {
       "output_type": "pyout",
       "prompt_number": 32,
       "text": [
        "(0, 10)"
       ]
      },
      {
       "output_type": "display_data",
       "png": "[encoded data removed]"
      }
     ],
     "prompt_number": 32
    },
    {
     "cell_type": "code",
     "collapsed": false,
     "input": [],
     "language": "python",
     "metadata": {},
     "outputs": []
    }
   ],
   "metadata": {}
  }
 ]
}