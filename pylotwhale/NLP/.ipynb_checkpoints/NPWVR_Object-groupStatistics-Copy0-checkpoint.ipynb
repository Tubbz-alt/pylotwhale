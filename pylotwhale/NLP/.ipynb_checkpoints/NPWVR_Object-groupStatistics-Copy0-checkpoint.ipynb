{
 "metadata": {
  "name": ""
 },
 "nbformat": 3,
 "nbformat_minor": 0,
 "worksheets": [
  {
   "cells": [
    {
     "cell_type": "code",
     "collapsed": false,
     "input": [
      "import sys\n",
      "import os\n",
      "import numpy as np\n",
      "import pylab as pl\n",
      "import pandas as pd"
     ],
     "language": "python",
     "metadata": {},
     "outputs": [],
     "prompt_number": 13
    },
    {
     "cell_type": "code",
     "collapsed": false,
     "input": [
      "sys.path.append('/home/florencia/whales/scripts/NLP')\n",
      "import ngramOsec as ngramO"
     ],
     "language": "python",
     "metadata": {},
     "outputs": [],
     "prompt_number": 2
    },
    {
     "cell_type": "code",
     "collapsed": false,
     "input": [
      "reload(ngramO)"
     ],
     "language": "python",
     "metadata": {},
     "outputs": [
      {
       "metadata": {},
       "output_type": "pyout",
       "prompt_number": 3,
       "text": [
        "<module 'ngramOsec' from 'ngramOsec.pyc'>"
       ]
      }
     ],
     "prompt_number": 3
    },
    {
     "cell_type": "heading",
     "level": 3,
     "metadata": {},
     "source": [
      "read files"
     ]
    },
    {
     "cell_type": "code",
     "collapsed": false,
     "input": [
      "inF = '/home/florencia/whales/NLP/NPWvocalRepertoire/yearSetting/NPWVR-time-noNA.dat'\n",
      "outDir = '/'.join(inF.split('/')[:-1])+'/objectTests'\n",
      "print inF, \"\\n\", outDir"
     ],
     "language": "python",
     "metadata": {},
     "outputs": [
      {
       "output_type": "stream",
       "stream": "stdout",
       "text": [
        "/home/florencia/whales/NLP/NPWvocalRepertoire/yearSetting/NPWVR-time-noNA.dat \n",
        "/home/florencia/whales/NLP/NPWvocalRepertoire/yearSetting/objectTests\n"
       ]
      },
      {
       "html": [
        "<div style=\"max-height:1000px;max-width:1500px;overflow:auto;\">\n",
        "<table border=\"1\" class=\"dataframe\">\n",
        "  <thead>\n",
        "    <tr style=\"text-align: right;\">\n",
        "      <th></th>\n",
        "      <th>00_07_55\tf2_\t070628\tbuzz\t7102\tNPW\tbuzz\tF\t070628\tf2_00_07_55</th>\n",
        "    </tr>\n",
        "  </thead>\n",
        "  <tbody>\n",
        "    <tr>\n",
        "      <th>0</th>\n",
        "      <td> 00_02_45\\tf3_\\t070628\\tbuzz\\t7103\\tNPW\\tbuzz\\t...</td>\n",
        "    </tr>\n",
        "    <tr>\n",
        "      <th>1</th>\n",
        "      <td> 00_06_48\\tf2_\\t070628\\tbuzz\\t7104\\tNPW\\tbuzz\\t...</td>\n",
        "    </tr>\n",
        "    <tr>\n",
        "      <th>2</th>\n",
        "      <td> 00_02_49\\tf3_\\t070628\\tbuzz\\t7105\\tNPW\\tbuzz\\t...</td>\n",
        "    </tr>\n",
        "    <tr>\n",
        "      <th>3</th>\n",
        "      <td> 00_05_30\\tf2_\\t070628\\tbuzz\\t7107\\tNPW\\tbuzz\\t...</td>\n",
        "    </tr>\n",
        "    <tr>\n",
        "      <th>4</th>\n",
        "      <td> 00_04_33\\tf2_\\t070628\\tbuzz\\t7108\\tNPW\\tbuzz\\t...</td>\n",
        "    </tr>\n",
        "  </tbody>\n",
        "</table>\n",
        "<p>5 rows \u00d7 1 columns</p>\n",
        "</div>"
       ],
       "metadata": {},
       "output_type": "pyout",
       "prompt_number": 21,
       "text": [
        "  00_07_55\\tf2_\\t070628\\tbuzz\\t7102\\tNPW\\tbuzz\\tF\\t070628\\tf2_00_07_55\n",
        "0  00_02_45\\tf3_\\t070628\\tbuzz\\t7103\\tNPW\\tbuzz\\t...                  \n",
        "1  00_06_48\\tf2_\\t070628\\tbuzz\\t7104\\tNPW\\tbuzz\\t...                  \n",
        "2  00_02_49\\tf3_\\t070628\\tbuzz\\t7105\\tNPW\\tbuzz\\t...                  \n",
        "3  00_05_30\\tf2_\\t070628\\tbuzz\\t7107\\tNPW\\tbuzz\\t...                  \n",
        "4  00_04_33\\tf2_\\t070628\\tbuzz\\t7108\\tNPW\\tbuzz\\t...                  \n",
        "\n",
        "[5 rows x 1 columns]"
       ]
      }
     ],
     "prompt_number": 21
    },
    {
     "cell_type": "code",
     "collapsed": false,
     "input": [
      "myChart = ngramO.chartCharact(inF)\n",
      "Ncalls = len(myChart.labels(3))\n",
      "print \"whale groups:\", myChart.labels(7), \"\\nnumber of clumns:\", myChart.Ncols, \"\\nnumber of lines:\", myChart.Nlines, \\\n",
      "\"N calls\", Ncalls"
     ],
     "language": "python",
     "metadata": {},
     "outputs": [
      {
       "output_type": "stream",
       "stream": "stdout",
       "text": [
        "loaded a chart with shape 7009 10\n",
        "whale groups: {'B': 1417, 'shot': 2, 'D': 989, 'G': 223, 'F': 181, 'H': 1829, 'J': 2361, 'Nx': 2, '004': 4, 'bout': 1} \n",
        "number of clumns: 10 \n",
        "number of lines: 7009 N calls 188\n"
       ]
      }
     ],
     "prompt_number": 27
    },
    {
     "cell_type": "code",
     "collapsed": false,
     "input": [
      "fullData = myChart.matrix\n",
      "print np.shape(fullData)\n",
      "groupsFreq = myChart.labels(7)\n",
      "groupsN = groupsFreq.keys()\n",
      "groupsN"
     ],
     "language": "python",
     "metadata": {},
     "outputs": [
      {
       "output_type": "stream",
       "stream": "stdout",
       "text": [
        "(7009, 10)\n"
       ]
      },
      {
       "metadata": {},
       "output_type": "pyout",
       "prompt_number": 6,
       "text": [
        "['B', 'shot', 'D', 'G', 'F', 'H', 'J', 'Nx', '004', 'bout']"
       ]
      }
     ],
     "prompt_number": 6
    },
    {
     "cell_type": "heading",
     "level": 3,
     "metadata": {},
     "source": [
      "groups"
     ]
    },
    {
     "cell_type": "code",
     "collapsed": false,
     "input": [
      "allCalls = myChart.labels(3)\n",
      "Ncalls = len(allCalls)\n",
      "words = allCalls.keys() # index -> call\n",
      "indexes = {words[i]: i for i in range(len(words)) } # call -> index\n",
      "\n",
      "print Ncalls, \"calls\", indexes[words[100]], words[100]"
     ],
     "language": "python",
     "metadata": {},
     "outputs": [
      {
       "output_type": "stream",
       "stream": "stdout",
       "text": [
        "188 calls 100 040\n"
       ]
      }
     ],
     "prompt_number": 30
    },
    {
     "cell_type": "code",
     "collapsed": false,
     "input": [
      "y={} #histograma de las\n",
      "\n",
      "for gi in groupsN:\n",
      "    print \"group\", gi\n",
      " \n",
      "    hist = np.zeros(Ncalls)\n",
      "    groupDat = ngramO.group(fullData, gi)\n",
      "    groupMatrix = groupDat.groupMatrix\n",
      "    groupCalls = [i[3] for i in groupMatrix]\n",
      "\n",
      "# histogram of the calls\n",
      "    for i in groupCalls:\n",
      "        hist[indexes[i]]+=1\n",
      "    \n",
      "    \n",
      "    y[gi] = np.asarray(hist[:])\n",
      "\n",
      "x = np.argsort(y['B'])\n",
      "x0 = range(len(x))\n"
     ],
     "language": "python",
     "metadata": {},
     "outputs": [
      {
       "output_type": "stream",
       "stream": "stdout",
       "text": [
        "group B\n",
        "group shot\n",
        "group D\n",
        "group"
       ]
      },
      {
       "output_type": "stream",
       "stream": "stdout",
       "text": [
        " G\n",
        "group F\n",
        "group H\n",
        "group"
       ]
      },
      {
       "output_type": "stream",
       "stream": "stdout",
       "text": [
        " J\n",
        "group Nx\n",
        "group 004\n",
        "group bout\n"
       ]
      }
     ],
     "prompt_number": 31
    },
    {
     "cell_type": "code",
     "collapsed": false,
     "input": [
      "group = groupsN[0]\n",
      "figN = outDir+'/images/callsHistogram-group%s.pdf'%group\n",
      "\n",
      "fig = pl.figure(figsize=(16,2))\n",
      "\n",
      "\n",
      "pl.plot(x0, y['B']+300, color = 'b', alpha = 0.6)\n",
      "pl.plot(x0, y['D']+200, color = 'g', alpha = 0.8)\n",
      "pl.plot(x0, y['G']+400, color = 'y', alpha = 1)\n",
      "pl.plot(x0, y['F']+500, color = 'm', alpha = 1)\n",
      "pl.plot(x0, y['H']+100, color = 'r', alpha = 0.7)\n",
      "pl.plot(x0, y['J'], color = 'c', alpha = 0.5)\n",
      "#pl.savefig(figN)\n",
      "print figN\n"
     ],
     "language": "python",
     "metadata": {},
     "outputs": [
      {
       "output_type": "stream",
       "stream": "stdout",
       "text": [
        "/home/florencia/whales/NLP/NPWvocalRepertoire/yearSetting/objectTests/images/callsHistogram-groupB.pdf\n"
       ]
      },
      {
       "metadata": {},
       "output_type": "display_data",
       "png": "[encoded data removed]",
       "text": [
        "<matplotlib.figure.Figure at 0x4fca990>"
       ]
      }
     ],
     "prompt_number": 32
    },
    {
     "cell_type": "code",
     "collapsed": false,
     "input": [
      "figN = outDir+'/images/callsHistogram.pdf'\n",
      "\n",
      "pl.figure(figsize=(14,2.5))\n",
      "pl.bar(x0, y['B'], color = 'b', alpha = 0.8, label = 'B')\n",
      "pl.bar(x0, y['D'], color = 'g', alpha = 0.8, bottom = y['B'], label = 'D')\n",
      "pl.bar(x0, y['G'], color = 'y', alpha = 0.8, bottom = np.add(y['B'], y['D']), label='G' )\n",
      "pl.bar(x0, y['F'], color = 'm', alpha = 0.8, bottom = np.add(np.add(y['B'], y['D'] ), y['G'] ), label= 'F' )\n",
      "pl.bar(x0, y['H'], color = 'r', alpha = 0.8, bottom = np.add(np.add(np.add(y['B'], y['D'] ), y['G'] ), y['F'] ), label = 'H' )\n",
      "pl.bar(x0, y['J'], color = 'c', alpha = 0.8, bottom = np.add(np.add(np.add( np.add(y['B'], y['D'] ), y['G'] ), y['F'] ), y['H'] ), label = 'J')\n",
      "pl.legend(loc='upper left')\n",
      "pl.ylabel('occurrences', size = 12)\n",
      "pl.tick_params(axis='y', labelsize=12)\n",
      "\n",
      "pl.xlim(0,Ncalls)\n",
      "#pl.ylim(0,400)\n",
      "#pl.savefig(figN)"
     ],
     "language": "python",
     "metadata": {},
     "outputs": [
      {
       "metadata": {},
       "output_type": "pyout",
       "prompt_number": 33,
       "text": [
        "(0, 188)"
       ]
      },
      {
       "metadata": {},
       "output_type": "display_data",
       "png": "[encoded data removed]",
       "text": [
        "<matplotlib.figure.Figure at 0x4fd2e90>"
       ]
      }
     ],
     "prompt_number": 33
    },
    {
     "cell_type": "code",
     "collapsed": false,
     "input": [
      "#x0[:5]\n",
      "\n",
      "x = y['B'].argsort()\n",
      "pl.bar(x, y['B'][x], color = 'b', alpha = 0.8, label = 'B')\n",
      "y[:5]"
     ],
     "language": "python",
     "metadata": {},
     "outputs": [
      {
       "ename": "TypeError",
       "evalue": "unhashable type",
       "output_type": "pyerr",
       "traceback": [
        "\u001b[1;31m---------------------------------------------------------------------------\u001b[0m\n\u001b[1;31mTypeError\u001b[0m                                 Traceback (most recent call last)",
        "\u001b[1;32m<ipython-input-39-34d0deed7e74>\u001b[0m in \u001b[0;36m<module>\u001b[1;34m()\u001b[0m\n\u001b[0;32m      3\u001b[0m \u001b[0mx\u001b[0m \u001b[1;33m=\u001b[0m \u001b[0my\u001b[0m\u001b[1;33m[\u001b[0m\u001b[1;34m'B'\u001b[0m\u001b[1;33m]\u001b[0m\u001b[1;33m.\u001b[0m\u001b[0margsort\u001b[0m\u001b[1;33m(\u001b[0m\u001b[1;33m)\u001b[0m\u001b[1;33m\u001b[0m\u001b[0m\n\u001b[0;32m      4\u001b[0m \u001b[0mpl\u001b[0m\u001b[1;33m.\u001b[0m\u001b[0mbar\u001b[0m\u001b[1;33m(\u001b[0m\u001b[0mx\u001b[0m\u001b[1;33m,\u001b[0m \u001b[0my\u001b[0m\u001b[1;33m[\u001b[0m\u001b[1;34m'B'\u001b[0m\u001b[1;33m]\u001b[0m\u001b[1;33m[\u001b[0m\u001b[0mx\u001b[0m\u001b[1;33m]\u001b[0m\u001b[1;33m,\u001b[0m \u001b[0mcolor\u001b[0m \u001b[1;33m=\u001b[0m \u001b[1;34m'b'\u001b[0m\u001b[1;33m,\u001b[0m \u001b[0malpha\u001b[0m \u001b[1;33m=\u001b[0m \u001b[1;36m0.8\u001b[0m\u001b[1;33m,\u001b[0m \u001b[0mlabel\u001b[0m \u001b[1;33m=\u001b[0m \u001b[1;34m'B'\u001b[0m\u001b[1;33m)\u001b[0m\u001b[1;33m\u001b[0m\u001b[0m\n\u001b[1;32m----> 5\u001b[1;33m \u001b[0my\u001b[0m\u001b[1;33m[\u001b[0m\u001b[1;33m:\u001b[0m\u001b[1;36m5\u001b[0m\u001b[1;33m]\u001b[0m\u001b[1;33m\u001b[0m\u001b[0m\n\u001b[0m",
        "\u001b[1;31mTypeError\u001b[0m: unhashable type"
       ]
      },
      {
       "metadata": {},
       "output_type": "display_data",
       "png": "[encoded data removed]",
       "text": [
        "<matplotlib.figure.Figure at 0x4f3b850>"
       ]
      }
     ],
     "prompt_number": 39
    },
    {
     "cell_type": "code",
     "collapsed": false,
     "input": [
      "Y = np.zeros([6,Ncalls])\n",
      "Y = np.log(Y)\n",
      "Y[0,:] = y['B']/y['B'].sum()\n",
      "Y[1,:] = y['D']/y['D'].sum()\n",
      "Y[2,:] = y['G']/y['G'].sum()\n",
      "Y[3,:] = y['F']/y['F'].sum()\n",
      "Y[4,:] = y['H']/y['H'].sum()\n",
      "Y[5,:] = y['J']/y['J'].sum()\n",
      "\n",
      "\n",
      "fName  = outDir  + '/images/callsByGroup-normalized.pdf'\n",
      "fig = pl.figure(figsize=(16,2 ))\n",
      "ax = fig.add_subplot(111)\n",
      "cax = pl.imshow(np.log(Y), aspect='auto', interpolation='nearest', cmap = pl.cm.gray_r)\n",
      "cbar = fig.colorbar((cax), ticks=[-7, -5, -3, -1]) #,0.5,0]) #, shrink = 0.8)\n",
      "cbar.set_label('probablity [log]', size = 12)\n",
      "\n",
      "pl.xlabel('calls', size=12)\n",
      "pl.ylabel('group', size=12)\n",
      "pl.tick_params(axis='both', labelsize=10)\n",
      "ax.set_yticks(range(6))\n",
      "ax.set_yticklabels( ('B', 'D', 'G', 'F', 'H', 'J') )\n",
      "fig.savefig(fName, bbox_inches='tight')\n",
      "print fName"
     ],
     "language": "python",
     "metadata": {},
     "outputs": [
      {
       "output_type": "stream",
       "stream": "stdout",
       "text": [
        "/home/florencia/whales/NLP/NPWvocalRepertoire/yearSetting/objectTests/images/callsByGroup-normalized.pdf\n"
       ]
      },
      {
       "output_type": "display_data",
       "png": "[encoded data removed]"
      }
     ],
     "prompt_number": 134
    },
    {
     "cell_type": "code",
     "collapsed": false,
     "input": [
      "for gr in groupsN:\n",
      "    print \"group:\", gr\n",
      "    sortedIndx = np.argsort(y[gr])[::-1]\n",
      "    mostCC = [words[i] for i in sortedIndx[:5]]\n",
      "    callP = [y[gr][i]/y[gr].sum() for i in sortedIndx[:5] ]\n",
      "    print sortedIndx[:5], mostCC\n",
      "    "
     ],
     "language": "python",
     "metadata": {},
     "outputs": [
      {
       "output_type": "stream",
       "stream": "stdout",
       "text": [
        "group: B\n",
        "[184  88 183  19  14] ['126i', 'weak', 'whistle', '127', '136']\n",
        "group: shot\n",
        "[150 187  57  66  65] ['canon', '093ii', '082ii', '113', '110']\n",
        "group: D\n",
        "[160  88 183 171   2] ['other', 'weak', 'whistle', '086', '090']\n",
        "group: G\n",
        "[ 13 156  16 157  45] ['013', '009i', '017', '014iii', '014i']\n",
        "group: F\n",
        "[174 179  47 183 177] ['006', '008', '007iii', 'whistle', 'squeak']\n",
        "group: H\n",
        "[ 41  32 183 177 105] ['028', '027', 'whistle', 'squeak', 'oc']\n",
        "group: J\n",
        "[ 88 186  69 127 183] ['weak', '021', '033', '061', 'whistle']\n",
        "group: Nx\n",
        "[174 187  69  67  66] ['006', '093ii', '033', '112', '113']\n",
        "group: 004\n",
        "[179 187  58  67  66] ['008', '093ii', '134', '112', '113']\n",
        "group: bout\n",
        "[125 187  58  66  65] ['call', '093ii', '134', '113', '110']\n"
       ]
      }
     ],
     "prompt_number": 157
    },
    {
     "cell_type": "code",
     "collapsed": false,
     "input": [
      "for gr in groupsN:\n",
      "    print \"group:\", gr\n",
      "    sortedIndx = np.argsort(y[gr])[::-1]\n",
      "    mostCC = [words[i] for i in sortedIndx[:5]]\n",
      "    callP = [100.0*y[gr][i]/y[gr].sum() for i in sortedIndx[:5] ]\n",
      "    myStr = ''\n",
      "    for i in range(len(mostCC)):\n",
      "        myStr  = myStr + \" %s (%.1f)\"%(mostCC[i], callP[i])\n",
      "    print myStr\n"
     ],
     "language": "python",
     "metadata": {},
     "outputs": [
      {
       "output_type": "stream",
       "stream": "stdout",
       "text": [
        "group: B\n",
        " 126i (17.9) weak (9.5) whistle (8.5) 127 (6.4) 136 (5.6)\n",
        "group: shot\n",
        " canon (100.0) 093ii (0.0) 082ii (0.0) 113 (0.0) 110 (0.0)\n",
        "group: D\n",
        " other (19.3) weak (11.7) whistle (11.1) 086 (7.8) 090 (5.9)\n",
        "group: G\n",
        " 013 (17.5) 009i (9.9) 017 (8.5) 014iii (8.1) 014i (7.2)\n",
        "group: F\n",
        " 006 (49.7) 008 (11.6) 007iii (8.3) whistle (6.1) squeak (3.9)\n",
        "group: H\n",
        " 028 (20.9) 027 (14.9) whistle (13.7) squeak (7.7) oc (5.5)\n",
        "group: J\n",
        " weak (23.3) 021 (18.2) 033 (12.2) 061 (6.5) whistle (6.5)\n",
        "group: Nx\n",
        " 006 (100.0) 093ii (0.0) 033 (0.0) 112 (0.0) 113 (0.0)\n",
        "group: 004\n",
        " 008 (100.0) 093ii (0.0) 134 (0.0) 112 (0.0) 113 (0.0)\n",
        "group: bout\n",
        " call (100.0) 093ii (0.0) 134 (0.0) 113 (0.0) 110 (0.0)\n"
       ]
      }
     ],
     "prompt_number": 156
    },
    {
     "cell_type": "code",
     "collapsed": false,
     "input": [
      "a=[1,2,3]\n",
      "b=[3,4,5]\n",
      "np.add(a,b,a)"
     ],
     "language": "python",
     "metadata": {},
     "outputs": [
      {
       "ename": "TypeError",
       "evalue": "return arrays must be of ArrayType",
       "output_type": "pyerr",
       "traceback": [
        "\u001b[0;31m---------------------------------------------------------------------------\u001b[0m\n\u001b[0;31mTypeError\u001b[0m                                 Traceback (most recent call last)",
        "\u001b[0;32m<ipython-input-109-606907a9caa7>\u001b[0m in \u001b[0;36m<module>\u001b[0;34m()\u001b[0m\n\u001b[1;32m      1\u001b[0m \u001b[0ma\u001b[0m\u001b[0;34m=\u001b[0m\u001b[0;34m[\u001b[0m\u001b[0;36m1\u001b[0m\u001b[0;34m,\u001b[0m\u001b[0;36m2\u001b[0m\u001b[0;34m,\u001b[0m\u001b[0;36m3\u001b[0m\u001b[0;34m]\u001b[0m\u001b[0;34m\u001b[0m\u001b[0m\n\u001b[1;32m      2\u001b[0m \u001b[0mb\u001b[0m\u001b[0;34m=\u001b[0m\u001b[0;34m[\u001b[0m\u001b[0;36m3\u001b[0m\u001b[0;34m,\u001b[0m\u001b[0;36m4\u001b[0m\u001b[0;34m,\u001b[0m\u001b[0;36m5\u001b[0m\u001b[0;34m]\u001b[0m\u001b[0;34m\u001b[0m\u001b[0m\n\u001b[0;32m----> 3\u001b[0;31m \u001b[0mnp\u001b[0m\u001b[0;34m.\u001b[0m\u001b[0madd\u001b[0m\u001b[0;34m(\u001b[0m\u001b[0ma\u001b[0m\u001b[0;34m,\u001b[0m\u001b[0mb\u001b[0m\u001b[0;34m,\u001b[0m\u001b[0ma\u001b[0m\u001b[0;34m)\u001b[0m\u001b[0;34m\u001b[0m\u001b[0m\n\u001b[0m",
        "\u001b[0;31mTypeError\u001b[0m: return arrays must be of ArrayType"
       ]
      }
     ],
     "prompt_number": 109
    },
    {
     "cell_type": "code",
     "collapsed": false,
     "input": [
      "sent = ''\n",
      "sent = sent+'hola'\n",
      "sent = sent + ' como estas'\n",
      "sent"
     ],
     "language": "python",
     "metadata": {},
     "outputs": [
      {
       "output_type": "pyout",
       "prompt_number": 155,
       "text": [
        "'hola como estas'"
       ]
      }
     ],
     "prompt_number": 155
    },
    {
     "cell_type": "code",
     "collapsed": false,
     "input": [
      "groupB = ngramO.group(fullData, 'B')\n",
      "Bdata = groupB.dataMatrix\n",
      "print np.shape(Bdata), groupB.whaleGroup, fullData[0:10,7]"
     ],
     "language": "python",
     "metadata": {},
     "outputs": [
      {
       "output_type": "stream",
       "stream": "stdout",
       "text": [
        "(1417, 10) B ['F' 'F' 'F' 'F' 'F' 'F' 'H' 'H' 'H' 'H']\n"
       ]
      }
     ],
     "prompt_number": 74
    },
    {
     "cell_type": "code",
     "collapsed": false,
     "input": [
      "groupData={}\n",
      "for i in groupsN:\n",
      "    groupData[i] = ngramO.group(fullData, i).dataMatrix"
     ],
     "language": "python",
     "metadata": {},
     "outputs": [],
     "prompt_number": 104
    },
    {
     "cell_type": "code",
     "collapsed": false,
     "input": [
      "for i in groupData.keys():\n",
      "    print i, np.shape(groupData[i])\n",
      "    \n",
      "groupNames = ['B', 'D', 'G', 'F', 'H', 'J']\n",
      "sequences = {}"
     ],
     "language": "python",
     "metadata": {},
     "outputs": [
      {
       "output_type": "stream",
       "stream": "stdout",
       "text": [
        "B (1417, 10)\n",
        "shot (2, 10)\n",
        "D (989, 10)\n",
        "G (223, 10)\n",
        "F (181, 10)\n",
        "H (1829, 10)\n",
        "J (2361, 10)\n",
        "Nx (2, 10)\n",
        "004 (4, 10)\n",
        "bout (1, 10)\n"
       ]
      }
     ],
     "prompt_number": 280
    },
    {
     "cell_type": "code",
     "collapsed": false,
     "input": [
      "reload(ngramO)\n",
      "#print groupData['F']\n",
      "data = groupData['G'][:10]\n",
      "sequences = ngramO.mySequences(data,10,4)\n",
      "#groupData['004']\n",
      "data"
     ],
     "language": "python",
     "metadata": {},
     "outputs": [
      {
       "output_type": "stream",
       "stream": "stdout",
       "text": [
        "sort index: [2 3 1 0]\n",
        "2 -17.0\n",
        "3 8.0\n",
        "1 3.0\n",
        "0 6.0\n",
        "sort index: [0 2 1]\n",
        "0 -78.0\n",
        "2 68.0\n",
        "new chunk 2\n",
        "1 10.0\n",
        "sort index: [0 1 2]\n",
        "0 -220.0\n",
        "1 6.0\n",
        "2 214.0\n",
        "new chunk 2\n"
       ]
      },
      {
       "output_type": "pyout",
       "prompt_number": 285,
       "text": [
        "[array(['00_06_15', 'f6_', '080714', 'buzz', '7289', 'NPW', 'buzz', 'G',\n",
        "       '080714', 'f6_00_06_15'], \n",
        "      dtype='|S21'),\n",
        " array(['00_06_09', 'f6_', '080714', 'buzz', '7290', 'NPW', 'buzz', 'G',\n",
        "       '080714', 'f6_00_06_09'], \n",
        "      dtype='|S21'),\n",
        " array(['00_05_07', 'f4_', '080714', 'buzz', '7291', 'NPW', 'buzz', 'G',\n",
        "       '080714', 'f4_00_05_07'], \n",
        "      dtype='|S21'),\n",
        " array(['00_06_25', 'f4_', '080714', 'buzz', '7292', 'NPW', 'buzz', 'G',\n",
        "       '080714', 'f4_00_06_25'], \n",
        "      dtype='|S21'),\n",
        " array(['00_00_20', 'f3_', '080714', 'buzz', '7293', 'NPW', 'buzz', 'G',\n",
        "       '080714', 'f3_00_00_20'], \n",
        "      dtype='|S21'),\n",
        " array(['00_05_58', 'f6_', '080714', 'buzz', '7294', 'NPW', 'buzz', 'G',\n",
        "       '080714', 'f6_00_05_58'], \n",
        "      dtype='|S21'),\n",
        " array(['00_06_06', 'f6_', '080714', 'buzz', '7295', 'NPW', 'buzz', 'G',\n",
        "       '080714', 'f6_00_06_06'], \n",
        "      dtype='|S21'),\n",
        " array(['00_00_26', 'f3_', '080714', 'buzz', '7296', 'NPW', 'buzz', 'G',\n",
        "       '080714', 'f3_00_00_26'], \n",
        "      dtype='|S21'),\n",
        " array(['00_06_15', 'f4_', '080714', 'buzz', '7297', 'NPW', 'buzz', 'G',\n",
        "       '080714', 'f4_00_06_15'], \n",
        "      dtype='|S21'),\n",
        " array(['00_04_00', 'f3_', '080714', 'buzz', '7298', 'NPW', 'buzz', 'G',\n",
        "       '080714', 'f3_00_04_00'], \n",
        "      dtype='|S21')]"
       ]
      }
     ],
     "prompt_number": 285
    },
    {
     "cell_type": "code",
     "collapsed": false,
     "input": [
      "seqs = sequences.sequences\n",
      "seqs\n",
      "#dayT = sequences['G'].dayTape\n",
      "#seqs = sequences['G'].defineSequences(dayT, sequences['G'].feature, 4)\n",
      "#dayT.keys()"
     ],
     "language": "python",
     "metadata": {},
     "outputs": [
      {
       "output_type": "pyout",
       "prompt_number": 286,
       "text": [
        "[['7294', '7295', '7290', '7289'],\n",
        " ['7291'],\n",
        " ['7297', '7292'],\n",
        " ['7293', '7296'],\n",
        " ['7298']]"
       ]
      }
     ],
     "prompt_number": 286
    },
    {
     "cell_type": "code",
     "collapsed": false,
     "input": [
      "Bdata=groupData['004']\n",
      "Blines = [i for i in Bdata]\n",
      "#print Blines\n",
      "for i in Blines:\n",
      "    minuto = int(i[0].split('_')[2 ])\n",
      "    minuto = minuto*2\n",
      "    print minuto"
     ],
     "language": "python",
     "metadata": {},
     "outputs": [
      {
       "output_type": "stream",
       "stream": "stdout",
       "text": [
        "66\n",
        "4\n",
        "66\n",
        "40\n"
       ]
      }
     ],
     "prompt_number": 156
    },
    {
     "cell_type": "code",
     "collapsed": false,
     "input": [
      "len(Bdata)\n",
      "print Blines[1], \"\\n\",Bdata[1]"
     ],
     "language": "python",
     "metadata": {},
     "outputs": [
      {
       "output_type": "stream",
       "stream": "stdout",
       "text": [
        "['00_03_02' 'f2_' '070628' '008' '2727' 'NPW' '008' '004' 'F' 'B'] \n",
        "['00_03_02' 'f2_' '070628' '008' '2727' 'NPW' '008' '004' 'F' 'B']\n"
       ]
      }
     ],
     "prompt_number": 129
    },
    {
     "cell_type": "code",
     "collapsed": false,
     "input": [
      "dir( sequences)"
     ],
     "language": "python",
     "metadata": {},
     "outputs": [
      {
       "output_type": "pyout",
       "prompt_number": 124,
       "text": [
        "['__class__',\n",
        " '__cmp__',\n",
        " '__contains__',\n",
        " '__delattr__',\n",
        " '__delitem__',\n",
        " '__doc__',\n",
        " '__eq__',\n",
        " '__format__',\n",
        " '__ge__',\n",
        " '__getattribute__',\n",
        " '__getitem__',\n",
        " '__gt__',\n",
        " '__hash__',\n",
        " '__init__',\n",
        " '__iter__',\n",
        " '__le__',\n",
        " '__len__',\n",
        " '__lt__',\n",
        " '__ne__',\n",
        " '__new__',\n",
        " '__reduce__',\n",
        " '__reduce_ex__',\n",
        " '__repr__',\n",
        " '__setattr__',\n",
        " '__setitem__',\n",
        " '__sizeof__',\n",
        " '__str__',\n",
        " '__subclasshook__',\n",
        " 'clear',\n",
        " 'copy',\n",
        " 'fromkeys',\n",
        " 'get',\n",
        " 'has_key',\n",
        " 'items',\n",
        " 'iteritems',\n",
        " 'iterkeys',\n",
        " 'itervalues',\n",
        " 'keys',\n",
        " 'pop',\n",
        " 'popitem',\n",
        " 'setdefault',\n",
        " 'update',\n",
        " 'values',\n",
        " 'viewitems',\n",
        " 'viewkeys',\n",
        " 'viewvalues']"
       ]
      }
     ],
     "prompt_number": 124
    },
    {
     "cell_type": "heading",
     "level": 4,
     "metadata": {},
     "source": [
      "bigram entrance histogram"
     ]
    },
    {
     "cell_type": "code",
     "collapsed": false,
     "input": [
      "sys.path.append('/home/florencia/whales/scripts/')\n",
      "import matrixTools as mt "
     ],
     "language": "python",
     "metadata": {},
     "outputs": [],
     "prompt_number": 27
    },
    {
     "cell_type": "code",
     "collapsed": false,
     "input": [
      "reload(mt)"
     ],
     "language": "python",
     "metadata": {},
     "outputs": [
      {
       "output_type": "pyout",
       "prompt_number": 28,
       "text": [
        "<module 'matrixTools' from '/home/florencia/whales/scripts/matrixTools.pyc'>"
       ]
      }
     ],
     "prompt_number": 28
    },
    {
     "cell_type": "code",
     "collapsed": false,
     "input": [
      "#pl.imshow(mt.rowNormalization(biG))\n",
      "#pl.imshow(mt.colNormalization(biG))"
     ],
     "language": "python",
     "metadata": {},
     "outputs": [],
     "prompt_number": 29
    },
    {
     "cell_type": "code",
     "collapsed": false,
     "input": [
      "def func(a, b=[]):\n",
      "    if len(b)>1:\n",
      "        for i  in b:\n",
      "            print i\n",
      "    else:\n",
      "        print \"all\"\n",
      "    "
     ],
     "language": "python",
     "metadata": {},
     "outputs": [],
     "prompt_number": 11
    },
    {
     "cell_type": "code",
     "collapsed": false,
     "input": [
      "func(1,[10,30,40])"
     ],
     "language": "python",
     "metadata": {},
     "outputs": [
      {
       "output_type": "stream",
       "stream": "stdout",
       "text": [
        "10\n",
        "30\n",
        "40\n"
       ]
      }
     ],
     "prompt_number": 12
    },
    {
     "cell_type": "code",
     "collapsed": false,
     "input": [
      "func(1)"
     ],
     "language": "python",
     "metadata": {},
     "outputs": [
      {
       "output_type": "stream",
       "stream": "stdout",
       "text": [
        "all\n"
       ]
      }
     ],
     "prompt_number": 13
    },
    {
     "cell_type": "code",
     "collapsed": false,
     "input": [
      "A = np.array([[11,12], [21,22], [11,2], [11,1]])\n",
      "A"
     ],
     "language": "python",
     "metadata": {},
     "outputs": [
      {
       "output_type": "pyout",
       "prompt_number": 11,
       "text": [
        "array([[11, 12],\n",
        "       [21, 22],\n",
        "       [11,  2],\n",
        "       [11,  1]])"
       ]
      }
     ],
     "prompt_number": 11
    },
    {
     "cell_type": "code",
     "collapsed": false,
     "input": [
      "for i in A:\n",
      "    if i[0] ==11:\n",
      "        print i"
     ],
     "language": "python",
     "metadata": {},
     "outputs": [
      {
       "output_type": "stream",
       "stream": "stdout",
       "text": [
        "[11 12]\n",
        "[11  2]\n",
        "[11  1]\n"
       ]
      }
     ],
     "prompt_number": 10
    },
    {
     "cell_type": "code",
     "collapsed": false,
     "input": [
      "suA = [ i for i in A if i[0] == 11] "
     ],
     "language": "python",
     "metadata": {},
     "outputs": [],
     "prompt_number": 12
    },
    {
     "cell_type": "code",
     "collapsed": false,
     "input": [
      "suA"
     ],
     "language": "python",
     "metadata": {},
     "outputs": [
      {
       "output_type": "pyout",
       "prompt_number": 13,
       "text": [
        "[array([11, 12]), array([11,  2]), array([11,  1])]"
       ]
      }
     ],
     "prompt_number": 13
    },
    {
     "cell_type": "code",
     "collapsed": false,
     "input": [
      "myLi = [1,2,3]\n",
      "myLi2 =[4,5]"
     ],
     "language": "python",
     "metadata": {},
     "outputs": [],
     "prompt_number": 192
    },
    {
     "cell_type": "code",
     "collapsed": false,
     "input": [
      "myLi.append(3)"
     ],
     "language": "python",
     "metadata": {},
     "outputs": [],
     "prompt_number": 193
    },
    {
     "cell_type": "code",
     "collapsed": false,
     "input": [
      "myLi"
     ],
     "language": "python",
     "metadata": {},
     "outputs": [
      {
       "output_type": "pyout",
       "prompt_number": 194,
       "text": [
        "[1, 2, 3, 3]"
       ]
      }
     ],
     "prompt_number": 194
    },
    {
     "cell_type": "code",
     "collapsed": false,
     "input": [
      "myLi.append(myLi2)"
     ],
     "language": "python",
     "metadata": {},
     "outputs": [],
     "prompt_number": 199
    },
    {
     "cell_type": "code",
     "collapsed": false,
     "input": [
      "myLi"
     ],
     "language": "python",
     "metadata": {},
     "outputs": [
      {
       "output_type": "pyout",
       "prompt_number": 200,
       "text": [
        "[1, 2, 3, 3, [4, 5], 4, 5, [4, 5]]"
       ]
      }
     ],
     "prompt_number": 200
    },
    {
     "cell_type": "code",
     "collapsed": false,
     "input": [],
     "language": "python",
     "metadata": {},
     "outputs": []
    }
   ],
   "metadata": {}
  }
 ]
}